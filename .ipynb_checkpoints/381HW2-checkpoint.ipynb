{
 "cells": [
  {
   "cell_type": "code",
   "execution_count": 1,
   "id": "f8096b89",
   "metadata": {},
   "outputs": [
    {
     "name": "stdout",
     "output_type": "stream",
     "text": [
      "<class 'pandas.core.frame.DataFrame'>\n",
      "RangeIndex: 280251 entries, 0 to 280250\n",
      "Data columns (total 54 columns):\n",
      " #   Column                              Non-Null Count   Dtype\n",
      "---  ------                              --------------   -----\n",
      " 0   Elevation                           280251 non-null  int64\n",
      " 1   Aspect                              280251 non-null  int64\n",
      " 2   Slope                               280251 non-null  int64\n",
      " 3   Horizontal_Distance_To_Hydrology    280251 non-null  int64\n",
      " 4   Vertical_Distance_To_Hydrology      280251 non-null  int64\n",
      " 5   Horizontal_Distance_To_Roadways     280251 non-null  int64\n",
      " 6   Hillshade_9am                       280251 non-null  int64\n",
      " 7   Hillshade_Noon                      280251 non-null  int64\n",
      " 8   Hillshade_3pm                       280251 non-null  int64\n",
      " 9   Horizontal_Distance_To_Fire_Points  280251 non-null  int64\n",
      " 10  Wilderness_0                        280251 non-null  int64\n",
      " 11  Wilderness_1                        280251 non-null  int64\n",
      " 12  Wilderness_2                        280251 non-null  int64\n",
      " 13  Wilderness_3                        280251 non-null  int64\n",
      " 14  Soil_0                              280251 non-null  int64\n",
      " 15  Soil_1                              280251 non-null  int64\n",
      " 16  Soil_2                              280251 non-null  int64\n",
      " 17  Soil_3                              280251 non-null  int64\n",
      " 18  Soil_4                              280251 non-null  int64\n",
      " 19  Soil_5                              280251 non-null  int64\n",
      " 20  Soil_6                              280251 non-null  int64\n",
      " 21  Soil_7                              280251 non-null  int64\n",
      " 22  Soil_8                              280251 non-null  int64\n",
      " 23  Soil_9                              280251 non-null  int64\n",
      " 24  Soil_10                             280251 non-null  int64\n",
      " 25  Soil_11                             280251 non-null  int64\n",
      " 26  Soil_12                             280251 non-null  int64\n",
      " 27  Soil_13                             280251 non-null  int64\n",
      " 28  Soil_14                             280251 non-null  int64\n",
      " 29  Soil_15                             280251 non-null  int64\n",
      " 30  Soil_16                             280251 non-null  int64\n",
      " 31  Soil_17                             280251 non-null  int64\n",
      " 32  Soil_18                             280251 non-null  int64\n",
      " 33  Soil_19                             280251 non-null  int64\n",
      " 34  Soil_20                             280251 non-null  int64\n",
      " 35  Soil_21                             280251 non-null  int64\n",
      " 36  Soil_22                             280251 non-null  int64\n",
      " 37  Soil_23                             280251 non-null  int64\n",
      " 38  Soil_24                             280251 non-null  int64\n",
      " 39  Soil_25                             280251 non-null  int64\n",
      " 40  Soil_26                             280251 non-null  int64\n",
      " 41  Soil_27                             280251 non-null  int64\n",
      " 42  Soil_28                             280251 non-null  int64\n",
      " 43  Soil_29                             280251 non-null  int64\n",
      " 44  Soil_30                             280251 non-null  int64\n",
      " 45  Soil_31                             280251 non-null  int64\n",
      " 46  Soil_32                             280251 non-null  int64\n",
      " 47  Soil_33                             280251 non-null  int64\n",
      " 48  Soil_34                             280251 non-null  int64\n",
      " 49  Soil_35                             280251 non-null  int64\n",
      " 50  Soil_36                             280251 non-null  int64\n",
      " 51  Soil_37                             280251 non-null  int64\n",
      " 52  Soil_38                             280251 non-null  int64\n",
      " 53  Soil_39                             280251 non-null  int64\n",
      "dtypes: int64(54)\n",
      "memory usage: 115.5 MB\n"
     ]
    }
   ],
   "source": [
    "import pandas as pd\n",
    "import numpy as np\n",
    "from IPython.core.interactiveshell import InteractiveShell\n",
    "InteractiveShell.ast_node_interactivity = \"all\"\n",
    "\n",
    "cover_column_names=[\"Elevation\",\"Aspect\",\"Slope\",\n",
    "              \"Horizontal_Distance_To_Hydrology\",\"Vertical_Distance_To_Hydrology\",\n",
    "              \"Horizontal_Distance_To_Roadways\",\"Hillshade_9am\",\"Hillshade_Noon\",\n",
    "              \"Hillshade_3pm\",\"Horizontal_Distance_To_Fire_Points\"]\n",
    "wilderness_cols =[\"Wilderness_\"+str(i) for i in range(4)]\n",
    "soil_col =[\"Soil_\"+str(i) for i in range(40)]\n",
    "cover_columns_names = cover_column_names + wilderness_cols + soil_col\n",
    "\n",
    "COVER_FILE = './forest_cover_dataset.csv'\n",
    "forest_dataFile = pd.read_csv(COVER_FILE,names=cover_columns_names)\n",
    "#Determine the number and types of features.\n",
    "forest_dataFile.info()"
   ]
  },
  {
   "cell_type": "code",
   "execution_count": 2,
   "id": "a4eb3fe8",
   "metadata": {},
   "outputs": [
    {
     "data": {
      "text/html": [
       "<div>\n",
       "<style scoped>\n",
       "    .dataframe tbody tr th:only-of-type {\n",
       "        vertical-align: middle;\n",
       "    }\n",
       "\n",
       "    .dataframe tbody tr th {\n",
       "        vertical-align: top;\n",
       "    }\n",
       "\n",
       "    .dataframe thead th {\n",
       "        text-align: right;\n",
       "    }\n",
       "</style>\n",
       "<table border=\"1\" class=\"dataframe\">\n",
       "  <thead>\n",
       "    <tr style=\"text-align: right;\">\n",
       "      <th></th>\n",
       "      <th>Elevation</th>\n",
       "      <th>Aspect</th>\n",
       "      <th>Slope</th>\n",
       "      <th>Horizontal_Distance_To_Hydrology</th>\n",
       "      <th>Vertical_Distance_To_Hydrology</th>\n",
       "      <th>Horizontal_Distance_To_Roadways</th>\n",
       "      <th>Hillshade_9am</th>\n",
       "      <th>Hillshade_Noon</th>\n",
       "      <th>Hillshade_3pm</th>\n",
       "      <th>Horizontal_Distance_To_Fire_Points</th>\n",
       "      <th>...</th>\n",
       "      <th>Soil_30</th>\n",
       "      <th>Soil_31</th>\n",
       "      <th>Soil_32</th>\n",
       "      <th>Soil_33</th>\n",
       "      <th>Soil_34</th>\n",
       "      <th>Soil_35</th>\n",
       "      <th>Soil_36</th>\n",
       "      <th>Soil_37</th>\n",
       "      <th>Soil_38</th>\n",
       "      <th>Soil_39</th>\n",
       "    </tr>\n",
       "  </thead>\n",
       "  <tbody>\n",
       "    <tr>\n",
       "      <th>0</th>\n",
       "      <td>2825</td>\n",
       "      <td>265</td>\n",
       "      <td>17</td>\n",
       "      <td>319</td>\n",
       "      <td>108</td>\n",
       "      <td>2298</td>\n",
       "      <td>174</td>\n",
       "      <td>245</td>\n",
       "      <td>209</td>\n",
       "      <td>342</td>\n",
       "      <td>...</td>\n",
       "      <td>0</td>\n",
       "      <td>0</td>\n",
       "      <td>1</td>\n",
       "      <td>0</td>\n",
       "      <td>0</td>\n",
       "      <td>0</td>\n",
       "      <td>0</td>\n",
       "      <td>0</td>\n",
       "      <td>0</td>\n",
       "      <td>0</td>\n",
       "    </tr>\n",
       "    <tr>\n",
       "      <th>1</th>\n",
       "      <td>2719</td>\n",
       "      <td>198</td>\n",
       "      <td>34</td>\n",
       "      <td>134</td>\n",
       "      <td>76</td>\n",
       "      <td>2352</td>\n",
       "      <td>187</td>\n",
       "      <td>245</td>\n",
       "      <td>167</td>\n",
       "      <td>693</td>\n",
       "      <td>...</td>\n",
       "      <td>0</td>\n",
       "      <td>0</td>\n",
       "      <td>0</td>\n",
       "      <td>0</td>\n",
       "      <td>0</td>\n",
       "      <td>0</td>\n",
       "      <td>0</td>\n",
       "      <td>0</td>\n",
       "      <td>0</td>\n",
       "      <td>0</td>\n",
       "    </tr>\n",
       "    <tr>\n",
       "      <th>2</th>\n",
       "      <td>3146</td>\n",
       "      <td>152</td>\n",
       "      <td>14</td>\n",
       "      <td>212</td>\n",
       "      <td>41</td>\n",
       "      <td>940</td>\n",
       "      <td>237</td>\n",
       "      <td>239</td>\n",
       "      <td>130</td>\n",
       "      <td>2007</td>\n",
       "      <td>...</td>\n",
       "      <td>0</td>\n",
       "      <td>0</td>\n",
       "      <td>0</td>\n",
       "      <td>0</td>\n",
       "      <td>0</td>\n",
       "      <td>0</td>\n",
       "      <td>0</td>\n",
       "      <td>0</td>\n",
       "      <td>0</td>\n",
       "      <td>0</td>\n",
       "    </tr>\n",
       "    <tr>\n",
       "      <th>3</th>\n",
       "      <td>2882</td>\n",
       "      <td>18</td>\n",
       "      <td>18</td>\n",
       "      <td>95</td>\n",
       "      <td>-3</td>\n",
       "      <td>485</td>\n",
       "      <td>203</td>\n",
       "      <td>199</td>\n",
       "      <td>128</td>\n",
       "      <td>342</td>\n",
       "      <td>...</td>\n",
       "      <td>1</td>\n",
       "      <td>0</td>\n",
       "      <td>0</td>\n",
       "      <td>0</td>\n",
       "      <td>0</td>\n",
       "      <td>0</td>\n",
       "      <td>0</td>\n",
       "      <td>0</td>\n",
       "      <td>0</td>\n",
       "      <td>0</td>\n",
       "    </tr>\n",
       "    <tr>\n",
       "      <th>4</th>\n",
       "      <td>2912</td>\n",
       "      <td>349</td>\n",
       "      <td>17</td>\n",
       "      <td>283</td>\n",
       "      <td>57</td>\n",
       "      <td>2729</td>\n",
       "      <td>187</td>\n",
       "      <td>210</td>\n",
       "      <td>160</td>\n",
       "      <td>2201</td>\n",
       "      <td>...</td>\n",
       "      <td>0</td>\n",
       "      <td>0</td>\n",
       "      <td>0</td>\n",
       "      <td>0</td>\n",
       "      <td>0</td>\n",
       "      <td>0</td>\n",
       "      <td>0</td>\n",
       "      <td>0</td>\n",
       "      <td>0</td>\n",
       "      <td>0</td>\n",
       "    </tr>\n",
       "  </tbody>\n",
       "</table>\n",
       "<p>5 rows × 54 columns</p>\n",
       "</div>"
      ],
      "text/plain": [
       "   Elevation  Aspect  Slope  Horizontal_Distance_To_Hydrology  \\\n",
       "0       2825     265     17                               319   \n",
       "1       2719     198     34                               134   \n",
       "2       3146     152     14                               212   \n",
       "3       2882      18     18                                95   \n",
       "4       2912     349     17                               283   \n",
       "\n",
       "   Vertical_Distance_To_Hydrology  Horizontal_Distance_To_Roadways  \\\n",
       "0                             108                             2298   \n",
       "1                              76                             2352   \n",
       "2                              41                              940   \n",
       "3                              -3                              485   \n",
       "4                              57                             2729   \n",
       "\n",
       "   Hillshade_9am  Hillshade_Noon  Hillshade_3pm  \\\n",
       "0            174             245            209   \n",
       "1            187             245            167   \n",
       "2            237             239            130   \n",
       "3            203             199            128   \n",
       "4            187             210            160   \n",
       "\n",
       "   Horizontal_Distance_To_Fire_Points  ...  Soil_30  Soil_31  Soil_32  \\\n",
       "0                                 342  ...        0        0        1   \n",
       "1                                 693  ...        0        0        0   \n",
       "2                                2007  ...        0        0        0   \n",
       "3                                 342  ...        1        0        0   \n",
       "4                                2201  ...        0        0        0   \n",
       "\n",
       "   Soil_33  Soil_34  Soil_35  Soil_36  Soil_37  Soil_38  Soil_39  \n",
       "0        0        0        0        0        0        0        0  \n",
       "1        0        0        0        0        0        0        0  \n",
       "2        0        0        0        0        0        0        0  \n",
       "3        0        0        0        0        0        0        0  \n",
       "4        0        0        0        0        0        0        0  \n",
       "\n",
       "[5 rows x 54 columns]"
      ]
     },
     "execution_count": 2,
     "metadata": {},
     "output_type": "execute_result"
    }
   ],
   "source": [
    "forest_dataFile.head()"
   ]
  },
  {
   "cell_type": "code",
   "execution_count": 3,
   "id": "01490581",
   "metadata": {},
   "outputs": [],
   "source": [
    "#Perform a ShuffleSplit of the data into training/validation/test sets, 60%/20%/20%.\n",
    "from sklearn.model_selection import ShuffleSplit\n",
    "\n",
    "def MySplit(n_splits,test_size,df):\n",
    "  split = ShuffleSplit(n_splits=n_splits, test_size=test_size, random_state=23721266)\n",
    "  for train_index, test_valid_index in split.split(df):\n",
    "     set1 = df.iloc[train_index]\n",
    "     set2 = df.iloc[test_valid_index]\n",
    "     return set1,set2\n",
    "\n",
    "train_set,test_valid_set = MySplit(1,0.4,forest_dataFile)\n",
    "test_set,valid_set = MySplit(1,0.5,test_valid_set)"
   ]
  },
  {
   "cell_type": "code",
   "execution_count": 4,
   "id": "c055b911",
   "metadata": {},
   "outputs": [
    {
     "data": {
      "text/plain": [
       "'\\ntrain_set_centered = train_set.apply(center_function)\\ntest_set_centered = test_set.apply(center_function)\\nvalid_set_centered = valid_set.apply(center_function)\\n'"
      ]
     },
     "execution_count": 4,
     "metadata": {},
     "output_type": "execute_result"
    },
    {
     "data": {
      "text/html": [
       "<style>#sk-container-id-1 {color: black;background-color: white;}#sk-container-id-1 pre{padding: 0;}#sk-container-id-1 div.sk-toggleable {background-color: white;}#sk-container-id-1 label.sk-toggleable__label {cursor: pointer;display: block;width: 100%;margin-bottom: 0;padding: 0.3em;box-sizing: border-box;text-align: center;}#sk-container-id-1 label.sk-toggleable__label-arrow:before {content: \"▸\";float: left;margin-right: 0.25em;color: #696969;}#sk-container-id-1 label.sk-toggleable__label-arrow:hover:before {color: black;}#sk-container-id-1 div.sk-estimator:hover label.sk-toggleable__label-arrow:before {color: black;}#sk-container-id-1 div.sk-toggleable__content {max-height: 0;max-width: 0;overflow: hidden;text-align: left;background-color: #f0f8ff;}#sk-container-id-1 div.sk-toggleable__content pre {margin: 0.2em;color: black;border-radius: 0.25em;background-color: #f0f8ff;}#sk-container-id-1 input.sk-toggleable__control:checked~div.sk-toggleable__content {max-height: 200px;max-width: 100%;overflow: auto;}#sk-container-id-1 input.sk-toggleable__control:checked~label.sk-toggleable__label-arrow:before {content: \"▾\";}#sk-container-id-1 div.sk-estimator input.sk-toggleable__control:checked~label.sk-toggleable__label {background-color: #d4ebff;}#sk-container-id-1 div.sk-label input.sk-toggleable__control:checked~label.sk-toggleable__label {background-color: #d4ebff;}#sk-container-id-1 input.sk-hidden--visually {border: 0;clip: rect(1px 1px 1px 1px);clip: rect(1px, 1px, 1px, 1px);height: 1px;margin: -1px;overflow: hidden;padding: 0;position: absolute;width: 1px;}#sk-container-id-1 div.sk-estimator {font-family: monospace;background-color: #f0f8ff;border: 1px dotted black;border-radius: 0.25em;box-sizing: border-box;margin-bottom: 0.5em;}#sk-container-id-1 div.sk-estimator:hover {background-color: #d4ebff;}#sk-container-id-1 div.sk-parallel-item::after {content: \"\";width: 100%;border-bottom: 1px solid gray;flex-grow: 1;}#sk-container-id-1 div.sk-label:hover label.sk-toggleable__label {background-color: #d4ebff;}#sk-container-id-1 div.sk-serial::before {content: \"\";position: absolute;border-left: 1px solid gray;box-sizing: border-box;top: 0;bottom: 0;left: 50%;z-index: 0;}#sk-container-id-1 div.sk-serial {display: flex;flex-direction: column;align-items: center;background-color: white;padding-right: 0.2em;padding-left: 0.2em;position: relative;}#sk-container-id-1 div.sk-item {position: relative;z-index: 1;}#sk-container-id-1 div.sk-parallel {display: flex;align-items: stretch;justify-content: center;background-color: white;position: relative;}#sk-container-id-1 div.sk-item::before, #sk-container-id-1 div.sk-parallel-item::before {content: \"\";position: absolute;border-left: 1px solid gray;box-sizing: border-box;top: 0;bottom: 0;left: 50%;z-index: -1;}#sk-container-id-1 div.sk-parallel-item {display: flex;flex-direction: column;z-index: 1;position: relative;background-color: white;}#sk-container-id-1 div.sk-parallel-item:first-child::after {align-self: flex-end;width: 50%;}#sk-container-id-1 div.sk-parallel-item:last-child::after {align-self: flex-start;width: 50%;}#sk-container-id-1 div.sk-parallel-item:only-child::after {width: 0;}#sk-container-id-1 div.sk-dashed-wrapped {border: 1px dashed gray;margin: 0 0.4em 0.5em 0.4em;box-sizing: border-box;padding-bottom: 0.4em;background-color: white;}#sk-container-id-1 div.sk-label label {font-family: monospace;font-weight: bold;display: inline-block;line-height: 1.2em;}#sk-container-id-1 div.sk-label-container {text-align: center;}#sk-container-id-1 div.sk-container {/* jupyter's `normalize.less` sets `[hidden] { display: none; }` but bootstrap.min.css set `[hidden] { display: none !important; }` so we also need the `!important` here to be able to override the default hidden behavior on the sphinx rendered scikit-learn.org. See: https://github.com/scikit-learn/scikit-learn/issues/21755 */display: inline-block !important;position: relative;}#sk-container-id-1 div.sk-text-repr-fallback {display: none;}</style><div id=\"sk-container-id-1\" class=\"sk-top-container\"><div class=\"sk-text-repr-fallback\"><pre>StandardScaler(with_std=False)</pre><b>In a Jupyter environment, please rerun this cell to show the HTML representation or trust the notebook. <br />On GitHub, the HTML representation is unable to render, please try loading this page with nbviewer.org.</b></div><div class=\"sk-container\" hidden><div class=\"sk-item\"><div class=\"sk-estimator sk-toggleable\"><input class=\"sk-toggleable__control sk-hidden--visually\" id=\"sk-estimator-id-1\" type=\"checkbox\" checked><label for=\"sk-estimator-id-1\" class=\"sk-toggleable__label sk-toggleable__label-arrow\">StandardScaler</label><div class=\"sk-toggleable__content\"><pre>StandardScaler(with_std=False)</pre></div></div></div></div></div>"
      ],
      "text/plain": [
       "StandardScaler(with_std=False)"
      ]
     },
     "execution_count": 4,
     "metadata": {},
     "output_type": "execute_result"
    },
    {
     "data": {
      "text/plain": [
       "'\\ntrain_set_centered = pd.DataFrame(scaler.transform(train_set),columns = train_set.columns, index=train_set.index)\\ntest_set_centered = pd.DataFrame(scaler.transform(test_set),columns = test_set.columns, index=test_set.index)\\nvalid_set_centered = pd.DataFrame(scaler.transform(valid_set),columns = valid_set.columns, index=valid_set.index)\\n'"
      ]
     },
     "execution_count": 4,
     "metadata": {},
     "output_type": "execute_result"
    },
    {
     "data": {
      "text/html": [
       "<div>\n",
       "<style scoped>\n",
       "    .dataframe tbody tr th:only-of-type {\n",
       "        vertical-align: middle;\n",
       "    }\n",
       "\n",
       "    .dataframe tbody tr th {\n",
       "        vertical-align: top;\n",
       "    }\n",
       "\n",
       "    .dataframe thead th {\n",
       "        text-align: right;\n",
       "    }\n",
       "</style>\n",
       "<table border=\"1\" class=\"dataframe\">\n",
       "  <thead>\n",
       "    <tr style=\"text-align: right;\">\n",
       "      <th></th>\n",
       "      <th>Elevation</th>\n",
       "      <th>Aspect</th>\n",
       "      <th>Slope</th>\n",
       "      <th>Horizontal_Distance_To_Hydrology</th>\n",
       "      <th>Vertical_Distance_To_Hydrology</th>\n",
       "      <th>Horizontal_Distance_To_Roadways</th>\n",
       "      <th>Hillshade_9am</th>\n",
       "      <th>Hillshade_Noon</th>\n",
       "      <th>Hillshade_3pm</th>\n",
       "      <th>Horizontal_Distance_To_Fire_Points</th>\n",
       "      <th>...</th>\n",
       "      <th>Soil_30</th>\n",
       "      <th>Soil_31</th>\n",
       "      <th>Soil_32</th>\n",
       "      <th>Soil_33</th>\n",
       "      <th>Soil_34</th>\n",
       "      <th>Soil_35</th>\n",
       "      <th>Soil_36</th>\n",
       "      <th>Soil_37</th>\n",
       "      <th>Soil_38</th>\n",
       "      <th>Soil_39</th>\n",
       "    </tr>\n",
       "  </thead>\n",
       "  <tbody>\n",
       "    <tr>\n",
       "      <th>273258</th>\n",
       "      <td>3013</td>\n",
       "      <td>177</td>\n",
       "      <td>10</td>\n",
       "      <td>361</td>\n",
       "      <td>56</td>\n",
       "      <td>4992</td>\n",
       "      <td>225</td>\n",
       "      <td>246</td>\n",
       "      <td>153</td>\n",
       "      <td>1559</td>\n",
       "      <td>...</td>\n",
       "      <td>0</td>\n",
       "      <td>0</td>\n",
       "      <td>0</td>\n",
       "      <td>0</td>\n",
       "      <td>0</td>\n",
       "      <td>0</td>\n",
       "      <td>0</td>\n",
       "      <td>0</td>\n",
       "      <td>0</td>\n",
       "      <td>0</td>\n",
       "    </tr>\n",
       "    <tr>\n",
       "      <th>165570</th>\n",
       "      <td>3163</td>\n",
       "      <td>41</td>\n",
       "      <td>16</td>\n",
       "      <td>30</td>\n",
       "      <td>10</td>\n",
       "      <td>1536</td>\n",
       "      <td>221</td>\n",
       "      <td>204</td>\n",
       "      <td>115</td>\n",
       "      <td>2462</td>\n",
       "      <td>...</td>\n",
       "      <td>0</td>\n",
       "      <td>0</td>\n",
       "      <td>0</td>\n",
       "      <td>0</td>\n",
       "      <td>0</td>\n",
       "      <td>0</td>\n",
       "      <td>0</td>\n",
       "      <td>0</td>\n",
       "      <td>0</td>\n",
       "      <td>0</td>\n",
       "    </tr>\n",
       "    <tr>\n",
       "      <th>146527</th>\n",
       "      <td>3214</td>\n",
       "      <td>144</td>\n",
       "      <td>14</td>\n",
       "      <td>270</td>\n",
       "      <td>27</td>\n",
       "      <td>2126</td>\n",
       "      <td>239</td>\n",
       "      <td>237</td>\n",
       "      <td>124</td>\n",
       "      <td>1708</td>\n",
       "      <td>...</td>\n",
       "      <td>0</td>\n",
       "      <td>0</td>\n",
       "      <td>0</td>\n",
       "      <td>0</td>\n",
       "      <td>0</td>\n",
       "      <td>0</td>\n",
       "      <td>0</td>\n",
       "      <td>0</td>\n",
       "      <td>0</td>\n",
       "      <td>0</td>\n",
       "    </tr>\n",
       "    <tr>\n",
       "      <th>79044</th>\n",
       "      <td>2321</td>\n",
       "      <td>352</td>\n",
       "      <td>26</td>\n",
       "      <td>42</td>\n",
       "      <td>12</td>\n",
       "      <td>1208</td>\n",
       "      <td>165</td>\n",
       "      <td>185</td>\n",
       "      <td>152</td>\n",
       "      <td>277</td>\n",
       "      <td>...</td>\n",
       "      <td>0</td>\n",
       "      <td>0</td>\n",
       "      <td>0</td>\n",
       "      <td>0</td>\n",
       "      <td>0</td>\n",
       "      <td>0</td>\n",
       "      <td>0</td>\n",
       "      <td>0</td>\n",
       "      <td>0</td>\n",
       "      <td>0</td>\n",
       "    </tr>\n",
       "    <tr>\n",
       "      <th>128539</th>\n",
       "      <td>2968</td>\n",
       "      <td>167</td>\n",
       "      <td>12</td>\n",
       "      <td>256</td>\n",
       "      <td>49</td>\n",
       "      <td>5419</td>\n",
       "      <td>230</td>\n",
       "      <td>244</td>\n",
       "      <td>145</td>\n",
       "      <td>2995</td>\n",
       "      <td>...</td>\n",
       "      <td>0</td>\n",
       "      <td>0</td>\n",
       "      <td>0</td>\n",
       "      <td>0</td>\n",
       "      <td>0</td>\n",
       "      <td>0</td>\n",
       "      <td>0</td>\n",
       "      <td>0</td>\n",
       "      <td>0</td>\n",
       "      <td>0</td>\n",
       "    </tr>\n",
       "  </tbody>\n",
       "</table>\n",
       "<p>5 rows × 54 columns</p>\n",
       "</div>"
      ],
      "text/plain": [
       "        Elevation  Aspect  Slope  Horizontal_Distance_To_Hydrology  \\\n",
       "273258       3013     177     10                               361   \n",
       "165570       3163      41     16                                30   \n",
       "146527       3214     144     14                               270   \n",
       "79044        2321     352     26                                42   \n",
       "128539       2968     167     12                               256   \n",
       "\n",
       "        Vertical_Distance_To_Hydrology  Horizontal_Distance_To_Roadways  \\\n",
       "273258                              56                             4992   \n",
       "165570                              10                             1536   \n",
       "146527                              27                             2126   \n",
       "79044                               12                             1208   \n",
       "128539                              49                             5419   \n",
       "\n",
       "        Hillshade_9am  Hillshade_Noon  Hillshade_3pm  \\\n",
       "273258            225             246            153   \n",
       "165570            221             204            115   \n",
       "146527            239             237            124   \n",
       "79044             165             185            152   \n",
       "128539            230             244            145   \n",
       "\n",
       "        Horizontal_Distance_To_Fire_Points  ...  Soil_30  Soil_31  Soil_32  \\\n",
       "273258                                1559  ...        0        0        0   \n",
       "165570                                2462  ...        0        0        0   \n",
       "146527                                1708  ...        0        0        0   \n",
       "79044                                  277  ...        0        0        0   \n",
       "128539                                2995  ...        0        0        0   \n",
       "\n",
       "        Soil_33  Soil_34  Soil_35  Soil_36  Soil_37  Soil_38  Soil_39  \n",
       "273258        0        0        0        0        0        0        0  \n",
       "165570        0        0        0        0        0        0        0  \n",
       "146527        0        0        0        0        0        0        0  \n",
       "79044         0        0        0        0        0        0        0  \n",
       "128539        0        0        0        0        0        0        0  \n",
       "\n",
       "[5 rows x 54 columns]"
      ]
     },
     "execution_count": 4,
     "metadata": {},
     "output_type": "execute_result"
    },
    {
     "name": "stdout",
     "output_type": "stream",
     "text": [
      "[[ 6.82547904e+01  2.10118822e+01 -4.13631876e+00 ... -1.65090693e-02\n",
      "  -1.45346417e-02 -9.05144216e-03]\n",
      " [ 2.18254790e+02 -1.14988118e+02  1.86368124e+00 ... -1.65090693e-02\n",
      "  -1.45346417e-02 -9.05144216e-03]\n",
      " [ 2.69254790e+02 -1.19881178e+01 -1.36318763e-01 ... -1.65090693e-02\n",
      "  -1.45346417e-02 -9.05144216e-03]\n",
      " ...\n",
      " [ 1.06254790e+02  1.88011882e+02  7.86368124e+00 ... -1.65090693e-02\n",
      "  -1.45346417e-02 -9.05144216e-03]\n",
      " [ 2.48254790e+02  1.86011882e+02 -1.11363188e+01 ... -1.65090693e-02\n",
      "  -1.45346417e-02 -9.05144216e-03]\n",
      " [ 4.41254790e+02  1.36011882e+02  8.86368124e+00 ... -1.65090693e-02\n",
      "  -1.45346417e-02 -9.05144216e-03]]\n"
     ]
    }
   ],
   "source": [
    "#Center the training/validation/test splits (fit on the training set, then transform the validation/test sets).\n",
    "from sklearn.preprocessing import StandardScaler\n",
    "center_function = lambda x: x - x.mean()\n",
    "scaler = StandardScaler(with_std=False)\n",
    "\n",
    "'''\n",
    "train_set_centered = train_set.apply(center_function)\n",
    "test_set_centered = test_set.apply(center_function)\n",
    "valid_set_centered = valid_set.apply(center_function)\n",
    "'''\n",
    "\n",
    "\n",
    "scaler.fit(train_set)\n",
    "'''\n",
    "train_set_centered = pd.DataFrame(scaler.transform(train_set),columns = train_set.columns, index=train_set.index)\n",
    "test_set_centered = pd.DataFrame(scaler.transform(test_set),columns = test_set.columns, index=test_set.index)\n",
    "valid_set_centered = pd.DataFrame(scaler.transform(valid_set),columns = valid_set.columns, index=valid_set.index)\n",
    "'''\n",
    "train_set_centered = scaler.transform(train_set)\n",
    "test_set_centered = scaler.transform(test_set)\n",
    "valid_set_centered = scaler.transform(valid_set)\n",
    "\n",
    "\n",
    "train_set.head()\n",
    "print(train_set_centered)"
   ]
  },
  {
   "cell_type": "code",
   "execution_count": 5,
   "id": "6737fb5e",
   "metadata": {},
   "outputs": [
    {
     "data": {
      "text/plain": [
       "'\\n1. Cluster the *training* dataset using ```KMeans``` from Scikit-learn using the values \\nfor $k$ below. You can utilize the default implementation in Scikit-learn, which is $k$-means$++$. \\nConstruct models for each value of $k$ specified in the ``k_values`` array below.\\n\\n'"
      ]
     },
     "execution_count": 5,
     "metadata": {},
     "output_type": "execute_result"
    }
   ],
   "source": [
    "#𝑘 -Means Clustering\n",
    "'''\n",
    "1. Cluster the *training* dataset using ```KMeans``` from Scikit-learn using the values \n",
    "for $k$ below. You can utilize the default implementation in Scikit-learn, which is $k$-means$++$. \n",
    "Construct models for each value of $k$ specified in the ``k_values`` array below.\n",
    "\n",
    "'''\n",
    "from sklearn.cluster import KMeans\n",
    "\n",
    "    \n",
    "k_values=list(range(2,11))+[15,20]\n",
    "k_models =[\"k_means\"+str(i) for i in k_values]\n",
    "\n",
    "for i in range(len(k_models)):\n",
    "    k_models[i] = KMeans(n_clusters=k_values[i], random_state=23721266).fit(train_set_centered) \n",
    "\n"
   ]
  },
  {
   "cell_type": "code",
   "execution_count": 6,
   "id": "e2826381",
   "metadata": {
    "scrolled": true
   },
   "outputs": [
    {
     "name": "stdout",
     "output_type": "stream",
     "text": [
      "[1 1 0 ... 1 1 1]\n",
      "[1 1 0 ... 1 1 1]\n",
      "[0 1 3 ... 0 0 1]\n",
      "[3 1 0 ... 3 3 1]\n",
      "[1 4 5 ... 1 1 4]\n",
      "[4 5 6 ... 4 4 5]\n",
      "[1 4 5 ... 1 1 4]\n",
      "[5 2 8 ... 5 1 2]\n",
      "[8 7 5 ... 8 3 7]\n",
      "[ 0  4 10 ...  0 13  8]\n",
      "[19 12  3 ... 19  2 18]\n"
     ]
    }
   ],
   "source": [
    "#2. Apply the trained models to the validation dataset.\n",
    "k_valids =[\"k_valid\"+str(i) for i in k_values]\n",
    "for i in range(len(k_models)):\n",
    "    k_valids[i] = k_models[i].predict(valid_set_centered)\n",
    "    print(k_valids[i])\n",
    "    "
   ]
  },
  {
   "cell_type": "code",
   "execution_count": 7,
   "id": "e247e5ad",
   "metadata": {},
   "outputs": [
    {
     "data": {
      "text/plain": [
       "'\\n3. Compute the **mean** inertia for each value of $k$ on the training and validation datasets. \\nFor the training data, you can extract the *total* (**unnormalized**) inertia from the trained models \\nvia their respective ```inertia_```. For the validation models, you can utilize \\nthe function ```total_inertia``` provided below.\\n'"
      ]
     },
     "execution_count": 7,
     "metadata": {},
     "output_type": "execute_result"
    },
    {
     "name": "stdout",
     "output_type": "stream",
     "text": [
      "[2341012.563974211, 1644887.354320643, 1269061.8651333533, 1008725.2982929216, 885990.8858518186, 767906.4084918541, 692909.6274348755, 631824.983437648, 578473.6472634225, 419943.9588923205, 342480.8245872137]\n",
      "[2347441.5255471007, 1644260.9839823933, 1275261.539979473, 1010992.3764215778, 883945.63320195, 767808.392191865, 690046.7293108648, 631478.3531613607, 577058.0167088571, 421606.8595340662, 344821.4319810845]\n"
     ]
    }
   ],
   "source": [
    "'''\n",
    "3. Compute the **mean** inertia for each value of $k$ on the training and validation datasets. \n",
    "For the training data, you can extract the *total* (**unnormalized**) inertia from the trained models \n",
    "via their respective ```inertia_```. For the validation models, you can utilize \n",
    "the function ```total_inertia``` provided below.\n",
    "'''\n",
    "import matplotlib.pyplot as plt\n",
    "def total_inertia(dataset,centers,labels,distance=None,mean=True):\n",
    "    \"\"\"\n",
    "    Computes the total inertia (the intracluster variance) given a dataset and the cluster centers.\n",
    "    \n",
    "    Parameters\n",
    "    ----------\n",
    "    dataset : numpy.ndarray\n",
    "        The dataset to evaluate.\n",
    "    center : numpy.ndarray or list\n",
    "        The list of cluster centers.\n",
    "    distance : function\n",
    "        A function that computes the pairwise distance between two samples.\n",
    "        Default: Euclidean (l_2) distance\n",
    "    mean : bool\n",
    "        If True, returns the mean inertia.\n",
    "        Default: True\n",
    "        \n",
    "    Returns\n",
    "    -------\n",
    "    total_inertia : float\n",
    "       The mean inertia (if mean==True) or total inertia (if mean==False).\n",
    "\"\"\"\n",
    "    num_samples,_ = dataset.shape\n",
    "    total_inertia=0\n",
    "    if distance is None:\n",
    "        distance=lambda x,y: np.linalg.norm(x-y)**2\n",
    "    for i,sample in enumerate(dataset):\n",
    "        center = centers[labels[i]]\n",
    "        total_inertia += distance(sample,center)\n",
    "    \n",
    "    if mean:\n",
    "        return total_inertia/num_samples\n",
    "    else:\n",
    "        return total_inertia\n",
    "\n",
    "Train_mean_inertias = []\n",
    "Valid_mean_inertias = []\n",
    "\n",
    "numOfSamples =  len(train_set_centered)\n",
    "\n",
    "for i in range(len(k_models)):\n",
    "    Train_mean_inertias.append(k_models[i].inertia_/numOfSamples)\n",
    "print(Train_mean_inertias)\n",
    "\n",
    "\n",
    "for i in range(len(k_models)):\n",
    "    Valid_mean_inertias.append(total_inertia(valid_set_centered,k_models[i].cluster_centers_,k_valids[i],distance=None,mean=True))\n",
    "print(Valid_mean_inertias)\n"
   ]
  },
  {
   "cell_type": "code",
   "execution_count": 8,
   "id": "7d46050f",
   "metadata": {},
   "outputs": [
    {
     "data": {
      "text/plain": [
       "'\\nPlot the mean inertias for all values of $k$ and for both the training and validation sets on a single plot. \\n'"
      ]
     },
     "execution_count": 8,
     "metadata": {},
     "output_type": "execute_result"
    },
    {
     "data": {
      "text/plain": [
       "[<matplotlib.lines.Line2D at 0x225b1399f70>]"
      ]
     },
     "execution_count": 8,
     "metadata": {},
     "output_type": "execute_result"
    },
    {
     "data": {
      "text/plain": [
       "[<matplotlib.lines.Line2D at 0x225b13ae340>]"
      ]
     },
     "execution_count": 8,
     "metadata": {},
     "output_type": "execute_result"
    },
    {
     "data": {
      "text/plain": [
       "Text(0.5, 1.0, 'Title')"
      ]
     },
     "execution_count": 8,
     "metadata": {},
     "output_type": "execute_result"
    },
    {
     "data": {
      "text/plain": [
       "Text(0, 0.5, 'mean inertias')"
      ]
     },
     "execution_count": 8,
     "metadata": {},
     "output_type": "execute_result"
    },
    {
     "data": {
      "text/plain": [
       "Text(0.5, 0, 'K values')"
      ]
     },
     "execution_count": 8,
     "metadata": {},
     "output_type": "execute_result"
    },
    {
     "data": {
      "image/png": "[encoded data removed]",
      "text/plain": [
       "<Figure size 640x480 with 1 Axes>"
      ]
     },
     "metadata": {},
     "output_type": "display_data"
    }
   ],
   "source": [
    "'''\n",
    "Plot the mean inertias for all values of $k$ and for both the training and validation sets on a single plot. \n",
    "'''\n",
    "plt.plot(k_values,Train_mean_inertias,'g')\n",
    "plt.plot(k_values,Valid_mean_inertias,'b--')\n",
    "plt.title('mean inertias')\n",
    "plt.ylabel('mean inertias')\n",
    "plt.xlabel('K values')\n",
    "\n"
   ]
  },
  {
   "cell_type": "raw",
   "id": "4b164f72",
   "metadata": {},
   "source": [
    "#Based on the elbow method, which value of $k$ should be chosen so that the model will generalize to new data?\n",
    "\n",
    "10 should be the value of K since \n"
   ]
  },
  {
   "cell_type": "code",
   "execution_count": 14,
   "id": "975419a2",
   "metadata": {},
   "outputs": [
    {
     "data": {
      "text/plain": [
       "'\\nThe *Silhouette Coefficient* is another cluster performance metric that combines intra-cluster distance with \\ninter-cluster distances from clusters in close proximity to each other. \\n'"
      ]
     },
     "execution_count": 14,
     "metadata": {},
     "output_type": "execute_result"
    },
    {
     "name": "stdout",
     "output_type": "stream",
     "text": [
      "[0.46027381764253095, 0.44054393089208294, 0.33925833436572206, 0.3526244674635626, 0.34095363605198437, 0.33766819537143444, 0.3318529033475337, 0.2957271016054832, 0.29451272199627376, 0.2670074895830763, 0.2556219835464802]\n"
     ]
    },
    {
     "data": {
      "text/plain": [
       "[<matplotlib.lines.Line2D at 0x225b18100d0>]"
      ]
     },
     "execution_count": 14,
     "metadata": {},
     "output_type": "execute_result"
    },
    {
     "data": {
      "text/plain": [
       "Text(0.5, 1.0, 'silhouette_scores')"
      ]
     },
     "execution_count": 14,
     "metadata": {},
     "output_type": "execute_result"
    },
    {
     "data": {
      "text/plain": [
       "Text(0, 0.5, 'silhouette_scores')"
      ]
     },
     "execution_count": 14,
     "metadata": {},
     "output_type": "execute_result"
    },
    {
     "data": {
      "text/plain": [
       "Text(0.5, 0, 'K values')"
      ]
     },
     "execution_count": 14,
     "metadata": {},
     "output_type": "execute_result"
    },
    {
     "data": {
      "image/png": "[encoded data removed]",
      "text/plain": [
       "<Figure size 640x480 with 1 Axes>"
      ]
     },
     "metadata": {},
     "output_type": "display_data"
    }
   ],
   "source": [
    "from sklearn.metrics import silhouette_score\n",
    "'''\n",
    "The *Silhouette Coefficient* is another cluster performance metric that combines intra-cluster distance with \n",
    "inter-cluster distances from clusters in close proximity to each other. \n",
    "'''\n",
    "silhouette_scores = []\n",
    "for v in k_valids: \n",
    "    silhouette_scores.append(silhouette_score(valid_set_centered,v,random_state=23721266)) "
   ]
  },
  {
   "cell_type": "code",
   "execution_count": 15,
   "id": "3bb6a7d8",
   "metadata": {},
   "outputs": [
    {
     "name": "stdout",
     "output_type": "stream",
     "text": [
      "[0.46027381764253095, 0.44054393089208294, 0.33925833436572206, 0.3526244674635626, 0.34095363605198437, 0.33766819537143444, 0.3318529033475337, 0.2957271016054832, 0.29451272199627376, 0.2670074895830763, 0.2556219835464802]\n"
     ]
    },
    {
     "data": {
      "text/plain": [
       "[<matplotlib.lines.Line2D at 0x225b1870790>]"
      ]
     },
     "execution_count": 15,
     "metadata": {},
     "output_type": "execute_result"
    },
    {
     "data": {
      "text/plain": [
       "Text(0.5, 1.0, 'silhouette_scores')"
      ]
     },
     "execution_count": 15,
     "metadata": {},
     "output_type": "execute_result"
    },
    {
     "data": {
      "text/plain": [
       "Text(0, 0.5, 'silhouette_scores')"
      ]
     },
     "execution_count": 15,
     "metadata": {},
     "output_type": "execute_result"
    },
    {
     "data": {
      "text/plain": [
       "Text(0.5, 0, 'K values')"
      ]
     },
     "execution_count": 15,
     "metadata": {},
     "output_type": "execute_result"
    },
    {
     "data": {
      "image/png": "[encoded data removed]",
      "text/plain": [
       "<Figure size 640x480 with 1 Axes>"
      ]
     },
     "metadata": {},
     "output_type": "display_data"
    }
   ],
   "source": [
    "print(silhouette_scores)\n",
    "plt.plot(k_values,silhouette_scores,'r')\n",
    "plt.title('silhouette_scores')\n",
    "plt.ylabel('silhouette_scores')\n",
    "plt.xlabel('K values')"
   ]
  },
  {
   "cell_type": "raw",
   "id": "a964903f",
   "metadata": {},
   "source": [
    "which value of $k$ should be chosen. How does this value compare to the one chosen using mean inertia?"
   ]
  },
  {
   "cell_type": "code",
   "execution_count": null,
   "id": "b2c192ad",
   "metadata": {},
   "outputs": [],
   "source": [
    "'''\n",
    "Using whichever value of $k$ you think is the best based on steps 4) and 5), \n",
    "create a plot for each feature that contains \n",
    "[boxplots](https://matplotlib.org/stable/gallery/statistics/boxplot_demo.html#sphx-glr-gallery-statistics-boxplot-demo-py) \n",
    "of that feature for each cluster. Based upon these plots, \n",
    "determine which features you think are meaningful in discriminating between the clusters, \n",
    "as well as any other trends you observe.\n",
    "'''"
   ]
  }
 ],
 "metadata": {
  "kernelspec": {
   "display_name": "Python 3 (ipykernel)",
   "language": "python",
   "name": "python3"
  },
  "language_info": {
   "codemirror_mode": {
    "name": "ipython",
    "version": 3
   },
   "file_extension": ".py",
   "mimetype": "text/x-python",
   "name": "python",
   "nbconvert_exporter": "python",
   "pygments_lexer": "ipython3",
   "version": "3.9.6"
  }
 },
 "nbformat": 4,
 "nbformat_minor": 5
}
