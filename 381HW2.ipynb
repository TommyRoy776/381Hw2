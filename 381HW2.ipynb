{
 "cells": [
  {
   "cell_type": "code",
   "execution_count": 1,
   "id": "f8096b89",
   "metadata": {},
   "outputs": [
    {
     "name": "stdout",
     "output_type": "stream",
     "text": [
      "<class 'pandas.core.frame.DataFrame'>\n",
      "RangeIndex: 280251 entries, 0 to 280250\n",
      "Data columns (total 54 columns):\n",
      " #   Column                              Non-Null Count   Dtype\n",
      "---  ------                              --------------   -----\n",
      " 0   Elevation                           280251 non-null  int64\n",
      " 1   Aspect                              280251 non-null  int64\n",
      " 2   Slope                               280251 non-null  int64\n",
      " 3   Horizontal_Distance_To_Hydrology    280251 non-null  int64\n",
      " 4   Vertical_Distance_To_Hydrology      280251 non-null  int64\n",
      " 5   Horizontal_Distance_To_Roadways     280251 non-null  int64\n",
      " 6   Hillshade_9am                       280251 non-null  int64\n",
      " 7   Hillshade_Noon                      280251 non-null  int64\n",
      " 8   Hillshade_3pm                       280251 non-null  int64\n",
      " 9   Horizontal_Distance_To_Fire_Points  280251 non-null  int64\n",
      " 10  Wilderness_0                        280251 non-null  int64\n",
      " 11  Wilderness_1                        280251 non-null  int64\n",
      " 12  Wilderness_2                        280251 non-null  int64\n",
      " 13  Wilderness_3                        280251 non-null  int64\n",
      " 14  Soil_0                              280251 non-null  int64\n",
      " 15  Soil_1                              280251 non-null  int64\n",
      " 16  Soil_2                              280251 non-null  int64\n",
      " 17  Soil_3                              280251 non-null  int64\n",
      " 18  Soil_4                              280251 non-null  int64\n",
      " 19  Soil_5                              280251 non-null  int64\n",
      " 20  Soil_6                              280251 non-null  int64\n",
      " 21  Soil_7                              280251 non-null  int64\n",
      " 22  Soil_8                              280251 non-null  int64\n",
      " 23  Soil_9                              280251 non-null  int64\n",
      " 24  Soil_10                             280251 non-null  int64\n",
      " 25  Soil_11                             280251 non-null  int64\n",
      " 26  Soil_12                             280251 non-null  int64\n",
      " 27  Soil_13                             280251 non-null  int64\n",
      " 28  Soil_14                             280251 non-null  int64\n",
      " 29  Soil_15                             280251 non-null  int64\n",
      " 30  Soil_16                             280251 non-null  int64\n",
      " 31  Soil_17                             280251 non-null  int64\n",
      " 32  Soil_18                             280251 non-null  int64\n",
      " 33  Soil_19                             280251 non-null  int64\n",
      " 34  Soil_20                             280251 non-null  int64\n",
      " 35  Soil_21                             280251 non-null  int64\n",
      " 36  Soil_22                             280251 non-null  int64\n",
      " 37  Soil_23                             280251 non-null  int64\n",
      " 38  Soil_24                             280251 non-null  int64\n",
      " 39  Soil_25                             280251 non-null  int64\n",
      " 40  Soil_26                             280251 non-null  int64\n",
      " 41  Soil_27                             280251 non-null  int64\n",
      " 42  Soil_28                             280251 non-null  int64\n",
      " 43  Soil_29                             280251 non-null  int64\n",
      " 44  Soil_30                             280251 non-null  int64\n",
      " 45  Soil_31                             280251 non-null  int64\n",
      " 46  Soil_32                             280251 non-null  int64\n",
      " 47  Soil_33                             280251 non-null  int64\n",
      " 48  Soil_34                             280251 non-null  int64\n",
      " 49  Soil_35                             280251 non-null  int64\n",
      " 50  Soil_36                             280251 non-null  int64\n",
      " 51  Soil_37                             280251 non-null  int64\n",
      " 52  Soil_38                             280251 non-null  int64\n",
      " 53  Soil_39                             280251 non-null  int64\n",
      "dtypes: int64(54)\n",
      "memory usage: 115.5 MB\n"
     ]
    }
   ],
   "source": [
    "import pandas as pd\n",
    "import numpy as np\n",
    "from IPython.core.interactiveshell import InteractiveShell\n",
    "InteractiveShell.ast_node_interactivity = \"all\"\n",
    "\n",
    "cover_column_names=[\"Elevation\",\"Aspect\",\"Slope\",\n",
    "              \"Horizontal_Distance_To_Hydrology\",\"Vertical_Distance_To_Hydrology\",\n",
    "              \"Horizontal_Distance_To_Roadways\",\"Hillshade_9am\",\"Hillshade_Noon\",\n",
    "              \"Hillshade_3pm\",\"Horizontal_Distance_To_Fire_Points\"]\n",
    "wilderness_cols =[\"Wilderness_\"+str(i) for i in range(4)]\n",
    "soil_col =[\"Soil_\"+str(i) for i in range(40)]\n",
    "cover_columns_names = cover_column_names + wilderness_cols + soil_col\n",
    "\n",
    "COVER_FILE = './forest_cover_dataset.csv'\n",
    "forest_dataFile = pd.read_csv(COVER_FILE,names=cover_columns_names)\n",
    "#Determine the number and types of features.\n",
    "forest_dataFile.info()"
   ]
  },
  {
   "cell_type": "code",
   "execution_count": 2,
   "id": "a4eb3fe8",
   "metadata": {},
   "outputs": [
    {
     "data": {
      "text/html": [
       "<div>\n",
       "<style scoped>\n",
       "    .dataframe tbody tr th:only-of-type {\n",
       "        vertical-align: middle;\n",
       "    }\n",
       "\n",
       "    .dataframe tbody tr th {\n",
       "        vertical-align: top;\n",
       "    }\n",
       "\n",
       "    .dataframe thead th {\n",
       "        text-align: right;\n",
       "    }\n",
       "</style>\n",
       "<table border=\"1\" class=\"dataframe\">\n",
       "  <thead>\n",
       "    <tr style=\"text-align: right;\">\n",
       "      <th></th>\n",
       "      <th>Elevation</th>\n",
       "      <th>Aspect</th>\n",
       "      <th>Slope</th>\n",
       "      <th>Horizontal_Distance_To_Hydrology</th>\n",
       "      <th>Vertical_Distance_To_Hydrology</th>\n",
       "      <th>Horizontal_Distance_To_Roadways</th>\n",
       "      <th>Hillshade_9am</th>\n",
       "      <th>Hillshade_Noon</th>\n",
       "      <th>Hillshade_3pm</th>\n",
       "      <th>Horizontal_Distance_To_Fire_Points</th>\n",
       "      <th>...</th>\n",
       "      <th>Soil_30</th>\n",
       "      <th>Soil_31</th>\n",
       "      <th>Soil_32</th>\n",
       "      <th>Soil_33</th>\n",
       "      <th>Soil_34</th>\n",
       "      <th>Soil_35</th>\n",
       "      <th>Soil_36</th>\n",
       "      <th>Soil_37</th>\n",
       "      <th>Soil_38</th>\n",
       "      <th>Soil_39</th>\n",
       "    </tr>\n",
       "  </thead>\n",
       "  <tbody>\n",
       "    <tr>\n",
       "      <th>0</th>\n",
       "      <td>2825</td>\n",
       "      <td>265</td>\n",
       "      <td>17</td>\n",
       "      <td>319</td>\n",
       "      <td>108</td>\n",
       "      <td>2298</td>\n",
       "      <td>174</td>\n",
       "      <td>245</td>\n",
       "      <td>209</td>\n",
       "      <td>342</td>\n",
       "      <td>...</td>\n",
       "      <td>0</td>\n",
       "      <td>0</td>\n",
       "      <td>1</td>\n",
       "      <td>0</td>\n",
       "      <td>0</td>\n",
       "      <td>0</td>\n",
       "      <td>0</td>\n",
       "      <td>0</td>\n",
       "      <td>0</td>\n",
       "      <td>0</td>\n",
       "    </tr>\n",
       "    <tr>\n",
       "      <th>1</th>\n",
       "      <td>2719</td>\n",
       "      <td>198</td>\n",
       "      <td>34</td>\n",
       "      <td>134</td>\n",
       "      <td>76</td>\n",
       "      <td>2352</td>\n",
       "      <td>187</td>\n",
       "      <td>245</td>\n",
       "      <td>167</td>\n",
       "      <td>693</td>\n",
       "      <td>...</td>\n",
       "      <td>0</td>\n",
       "      <td>0</td>\n",
       "      <td>0</td>\n",
       "      <td>0</td>\n",
       "      <td>0</td>\n",
       "      <td>0</td>\n",
       "      <td>0</td>\n",
       "      <td>0</td>\n",
       "      <td>0</td>\n",
       "      <td>0</td>\n",
       "    </tr>\n",
       "    <tr>\n",
       "      <th>2</th>\n",
       "      <td>3146</td>\n",
       "      <td>152</td>\n",
       "      <td>14</td>\n",
       "      <td>212</td>\n",
       "      <td>41</td>\n",
       "      <td>940</td>\n",
       "      <td>237</td>\n",
       "      <td>239</td>\n",
       "      <td>130</td>\n",
       "      <td>2007</td>\n",
       "      <td>...</td>\n",
       "      <td>0</td>\n",
       "      <td>0</td>\n",
       "      <td>0</td>\n",
       "      <td>0</td>\n",
       "      <td>0</td>\n",
       "      <td>0</td>\n",
       "      <td>0</td>\n",
       "      <td>0</td>\n",
       "      <td>0</td>\n",
       "      <td>0</td>\n",
       "    </tr>\n",
       "    <tr>\n",
       "      <th>3</th>\n",
       "      <td>2882</td>\n",
       "      <td>18</td>\n",
       "      <td>18</td>\n",
       "      <td>95</td>\n",
       "      <td>-3</td>\n",
       "      <td>485</td>\n",
       "      <td>203</td>\n",
       "      <td>199</td>\n",
       "      <td>128</td>\n",
       "      <td>342</td>\n",
       "      <td>...</td>\n",
       "      <td>1</td>\n",
       "      <td>0</td>\n",
       "      <td>0</td>\n",
       "      <td>0</td>\n",
       "      <td>0</td>\n",
       "      <td>0</td>\n",
       "      <td>0</td>\n",
       "      <td>0</td>\n",
       "      <td>0</td>\n",
       "      <td>0</td>\n",
       "    </tr>\n",
       "    <tr>\n",
       "      <th>4</th>\n",
       "      <td>2912</td>\n",
       "      <td>349</td>\n",
       "      <td>17</td>\n",
       "      <td>283</td>\n",
       "      <td>57</td>\n",
       "      <td>2729</td>\n",
       "      <td>187</td>\n",
       "      <td>210</td>\n",
       "      <td>160</td>\n",
       "      <td>2201</td>\n",
       "      <td>...</td>\n",
       "      <td>0</td>\n",
       "      <td>0</td>\n",
       "      <td>0</td>\n",
       "      <td>0</td>\n",
       "      <td>0</td>\n",
       "      <td>0</td>\n",
       "      <td>0</td>\n",
       "      <td>0</td>\n",
       "      <td>0</td>\n",
       "      <td>0</td>\n",
       "    </tr>\n",
       "  </tbody>\n",
       "</table>\n",
       "<p>5 rows × 54 columns</p>\n",
       "</div>"
      ],
      "text/plain": [
       "   Elevation  Aspect  Slope  Horizontal_Distance_To_Hydrology  \\\n",
       "0       2825     265     17                               319   \n",
       "1       2719     198     34                               134   \n",
       "2       3146     152     14                               212   \n",
       "3       2882      18     18                                95   \n",
       "4       2912     349     17                               283   \n",
       "\n",
       "   Vertical_Distance_To_Hydrology  Horizontal_Distance_To_Roadways  \\\n",
       "0                             108                             2298   \n",
       "1                              76                             2352   \n",
       "2                              41                              940   \n",
       "3                              -3                              485   \n",
       "4                              57                             2729   \n",
       "\n",
       "   Hillshade_9am  Hillshade_Noon  Hillshade_3pm  \\\n",
       "0            174             245            209   \n",
       "1            187             245            167   \n",
       "2            237             239            130   \n",
       "3            203             199            128   \n",
       "4            187             210            160   \n",
       "\n",
       "   Horizontal_Distance_To_Fire_Points  ...  Soil_30  Soil_31  Soil_32  \\\n",
       "0                                 342  ...        0        0        1   \n",
       "1                                 693  ...        0        0        0   \n",
       "2                                2007  ...        0        0        0   \n",
       "3                                 342  ...        1        0        0   \n",
       "4                                2201  ...        0        0        0   \n",
       "\n",
       "   Soil_33  Soil_34  Soil_35  Soil_36  Soil_37  Soil_38  Soil_39  \n",
       "0        0        0        0        0        0        0        0  \n",
       "1        0        0        0        0        0        0        0  \n",
       "2        0        0        0        0        0        0        0  \n",
       "3        0        0        0        0        0        0        0  \n",
       "4        0        0        0        0        0        0        0  \n",
       "\n",
       "[5 rows x 54 columns]"
      ]
     },
     "execution_count": 2,
     "metadata": {},
     "output_type": "execute_result"
    }
   ],
   "source": [
    "forest_dataFile.head()"
   ]
  },
  {
   "cell_type": "code",
   "execution_count": 3,
   "id": "01490581",
   "metadata": {},
   "outputs": [],
   "source": [
    "#Perform a ShuffleSplit of the data into training/validation/test sets, 60%/20%/20%.\n",
    "from sklearn.model_selection import ShuffleSplit\n",
    "\n",
    "def MySplit(n_splits,test_size,df):\n",
    "  split = ShuffleSplit(n_splits=n_splits, test_size=test_size, random_state=23721266)\n",
    "  for train_index, test_valid_index in split.split(df):\n",
    "     set1 = df.iloc[train_index]\n",
    "     set2 = df.iloc[test_valid_index]\n",
    "     return set1,set2\n",
    "\n",
    "train_set,test_valid_set = MySplit(1,0.4,forest_dataFile)\n",
    "test_set,valid_set = MySplit(1,0.5,test_valid_set)"
   ]
  },
  {
   "cell_type": "code",
   "execution_count": 4,
   "id": "c055b911",
   "metadata": {},
   "outputs": [
    {
     "data": {
      "text/html": [
       "<style>#sk-container-id-1 {color: black;background-color: white;}#sk-container-id-1 pre{padding: 0;}#sk-container-id-1 div.sk-toggleable {background-color: white;}#sk-container-id-1 label.sk-toggleable__label {cursor: pointer;display: block;width: 100%;margin-bottom: 0;padding: 0.3em;box-sizing: border-box;text-align: center;}#sk-container-id-1 label.sk-toggleable__label-arrow:before {content: \"▸\";float: left;margin-right: 0.25em;color: #696969;}#sk-container-id-1 label.sk-toggleable__label-arrow:hover:before {color: black;}#sk-container-id-1 div.sk-estimator:hover label.sk-toggleable__label-arrow:before {color: black;}#sk-container-id-1 div.sk-toggleable__content {max-height: 0;max-width: 0;overflow: hidden;text-align: left;background-color: #f0f8ff;}#sk-container-id-1 div.sk-toggleable__content pre {margin: 0.2em;color: black;border-radius: 0.25em;background-color: #f0f8ff;}#sk-container-id-1 input.sk-toggleable__control:checked~div.sk-toggleable__content {max-height: 200px;max-width: 100%;overflow: auto;}#sk-container-id-1 input.sk-toggleable__control:checked~label.sk-toggleable__label-arrow:before {content: \"▾\";}#sk-container-id-1 div.sk-estimator input.sk-toggleable__control:checked~label.sk-toggleable__label {background-color: #d4ebff;}#sk-container-id-1 div.sk-label input.sk-toggleable__control:checked~label.sk-toggleable__label {background-color: #d4ebff;}#sk-container-id-1 input.sk-hidden--visually {border: 0;clip: rect(1px 1px 1px 1px);clip: rect(1px, 1px, 1px, 1px);height: 1px;margin: -1px;overflow: hidden;padding: 0;position: absolute;width: 1px;}#sk-container-id-1 div.sk-estimator {font-family: monospace;background-color: #f0f8ff;border: 1px dotted black;border-radius: 0.25em;box-sizing: border-box;margin-bottom: 0.5em;}#sk-container-id-1 div.sk-estimator:hover {background-color: #d4ebff;}#sk-container-id-1 div.sk-parallel-item::after {content: \"\";width: 100%;border-bottom: 1px solid gray;flex-grow: 1;}#sk-container-id-1 div.sk-label:hover label.sk-toggleable__label {background-color: #d4ebff;}#sk-container-id-1 div.sk-serial::before {content: \"\";position: absolute;border-left: 1px solid gray;box-sizing: border-box;top: 0;bottom: 0;left: 50%;z-index: 0;}#sk-container-id-1 div.sk-serial {display: flex;flex-direction: column;align-items: center;background-color: white;padding-right: 0.2em;padding-left: 0.2em;position: relative;}#sk-container-id-1 div.sk-item {position: relative;z-index: 1;}#sk-container-id-1 div.sk-parallel {display: flex;align-items: stretch;justify-content: center;background-color: white;position: relative;}#sk-container-id-1 div.sk-item::before, #sk-container-id-1 div.sk-parallel-item::before {content: \"\";position: absolute;border-left: 1px solid gray;box-sizing: border-box;top: 0;bottom: 0;left: 50%;z-index: -1;}#sk-container-id-1 div.sk-parallel-item {display: flex;flex-direction: column;z-index: 1;position: relative;background-color: white;}#sk-container-id-1 div.sk-parallel-item:first-child::after {align-self: flex-end;width: 50%;}#sk-container-id-1 div.sk-parallel-item:last-child::after {align-self: flex-start;width: 50%;}#sk-container-id-1 div.sk-parallel-item:only-child::after {width: 0;}#sk-container-id-1 div.sk-dashed-wrapped {border: 1px dashed gray;margin: 0 0.4em 0.5em 0.4em;box-sizing: border-box;padding-bottom: 0.4em;background-color: white;}#sk-container-id-1 div.sk-label label {font-family: monospace;font-weight: bold;display: inline-block;line-height: 1.2em;}#sk-container-id-1 div.sk-label-container {text-align: center;}#sk-container-id-1 div.sk-container {/* jupyter's `normalize.less` sets `[hidden] { display: none; }` but bootstrap.min.css set `[hidden] { display: none !important; }` so we also need the `!important` here to be able to override the default hidden behavior on the sphinx rendered scikit-learn.org. See: https://github.com/scikit-learn/scikit-learn/issues/21755 */display: inline-block !important;position: relative;}#sk-container-id-1 div.sk-text-repr-fallback {display: none;}</style><div id=\"sk-container-id-1\" class=\"sk-top-container\"><div class=\"sk-text-repr-fallback\"><pre>StandardScaler(with_std=False)</pre><b>In a Jupyter environment, please rerun this cell to show the HTML representation or trust the notebook. <br />On GitHub, the HTML representation is unable to render, please try loading this page with nbviewer.org.</b></div><div class=\"sk-container\" hidden><div class=\"sk-item\"><div class=\"sk-estimator sk-toggleable\"><input class=\"sk-toggleable__control sk-hidden--visually\" id=\"sk-estimator-id-1\" type=\"checkbox\" checked><label for=\"sk-estimator-id-1\" class=\"sk-toggleable__label sk-toggleable__label-arrow\">StandardScaler</label><div class=\"sk-toggleable__content\"><pre>StandardScaler(with_std=False)</pre></div></div></div></div></div>"
      ],
      "text/plain": [
       "StandardScaler(with_std=False)"
      ]
     },
     "execution_count": 4,
     "metadata": {},
     "output_type": "execute_result"
    },
    {
     "data": {
      "text/html": [
       "<div>\n",
       "<style scoped>\n",
       "    .dataframe tbody tr th:only-of-type {\n",
       "        vertical-align: middle;\n",
       "    }\n",
       "\n",
       "    .dataframe tbody tr th {\n",
       "        vertical-align: top;\n",
       "    }\n",
       "\n",
       "    .dataframe thead th {\n",
       "        text-align: right;\n",
       "    }\n",
       "</style>\n",
       "<table border=\"1\" class=\"dataframe\">\n",
       "  <thead>\n",
       "    <tr style=\"text-align: right;\">\n",
       "      <th></th>\n",
       "      <th>Elevation</th>\n",
       "      <th>Aspect</th>\n",
       "      <th>Slope</th>\n",
       "      <th>Horizontal_Distance_To_Hydrology</th>\n",
       "      <th>Vertical_Distance_To_Hydrology</th>\n",
       "      <th>Horizontal_Distance_To_Roadways</th>\n",
       "      <th>Hillshade_9am</th>\n",
       "      <th>Hillshade_Noon</th>\n",
       "      <th>Hillshade_3pm</th>\n",
       "      <th>Horizontal_Distance_To_Fire_Points</th>\n",
       "      <th>...</th>\n",
       "      <th>Soil_30</th>\n",
       "      <th>Soil_31</th>\n",
       "      <th>Soil_32</th>\n",
       "      <th>Soil_33</th>\n",
       "      <th>Soil_34</th>\n",
       "      <th>Soil_35</th>\n",
       "      <th>Soil_36</th>\n",
       "      <th>Soil_37</th>\n",
       "      <th>Soil_38</th>\n",
       "      <th>Soil_39</th>\n",
       "    </tr>\n",
       "  </thead>\n",
       "  <tbody>\n",
       "    <tr>\n",
       "      <th>273258</th>\n",
       "      <td>3013</td>\n",
       "      <td>177</td>\n",
       "      <td>10</td>\n",
       "      <td>361</td>\n",
       "      <td>56</td>\n",
       "      <td>4992</td>\n",
       "      <td>225</td>\n",
       "      <td>246</td>\n",
       "      <td>153</td>\n",
       "      <td>1559</td>\n",
       "      <td>...</td>\n",
       "      <td>0</td>\n",
       "      <td>0</td>\n",
       "      <td>0</td>\n",
       "      <td>0</td>\n",
       "      <td>0</td>\n",
       "      <td>0</td>\n",
       "      <td>0</td>\n",
       "      <td>0</td>\n",
       "      <td>0</td>\n",
       "      <td>0</td>\n",
       "    </tr>\n",
       "    <tr>\n",
       "      <th>165570</th>\n",
       "      <td>3163</td>\n",
       "      <td>41</td>\n",
       "      <td>16</td>\n",
       "      <td>30</td>\n",
       "      <td>10</td>\n",
       "      <td>1536</td>\n",
       "      <td>221</td>\n",
       "      <td>204</td>\n",
       "      <td>115</td>\n",
       "      <td>2462</td>\n",
       "      <td>...</td>\n",
       "      <td>0</td>\n",
       "      <td>0</td>\n",
       "      <td>0</td>\n",
       "      <td>0</td>\n",
       "      <td>0</td>\n",
       "      <td>0</td>\n",
       "      <td>0</td>\n",
       "      <td>0</td>\n",
       "      <td>0</td>\n",
       "      <td>0</td>\n",
       "    </tr>\n",
       "    <tr>\n",
       "      <th>146527</th>\n",
       "      <td>3214</td>\n",
       "      <td>144</td>\n",
       "      <td>14</td>\n",
       "      <td>270</td>\n",
       "      <td>27</td>\n",
       "      <td>2126</td>\n",
       "      <td>239</td>\n",
       "      <td>237</td>\n",
       "      <td>124</td>\n",
       "      <td>1708</td>\n",
       "      <td>...</td>\n",
       "      <td>0</td>\n",
       "      <td>0</td>\n",
       "      <td>0</td>\n",
       "      <td>0</td>\n",
       "      <td>0</td>\n",
       "      <td>0</td>\n",
       "      <td>0</td>\n",
       "      <td>0</td>\n",
       "      <td>0</td>\n",
       "      <td>0</td>\n",
       "    </tr>\n",
       "    <tr>\n",
       "      <th>79044</th>\n",
       "      <td>2321</td>\n",
       "      <td>352</td>\n",
       "      <td>26</td>\n",
       "      <td>42</td>\n",
       "      <td>12</td>\n",
       "      <td>1208</td>\n",
       "      <td>165</td>\n",
       "      <td>185</td>\n",
       "      <td>152</td>\n",
       "      <td>277</td>\n",
       "      <td>...</td>\n",
       "      <td>0</td>\n",
       "      <td>0</td>\n",
       "      <td>0</td>\n",
       "      <td>0</td>\n",
       "      <td>0</td>\n",
       "      <td>0</td>\n",
       "      <td>0</td>\n",
       "      <td>0</td>\n",
       "      <td>0</td>\n",
       "      <td>0</td>\n",
       "    </tr>\n",
       "    <tr>\n",
       "      <th>128539</th>\n",
       "      <td>2968</td>\n",
       "      <td>167</td>\n",
       "      <td>12</td>\n",
       "      <td>256</td>\n",
       "      <td>49</td>\n",
       "      <td>5419</td>\n",
       "      <td>230</td>\n",
       "      <td>244</td>\n",
       "      <td>145</td>\n",
       "      <td>2995</td>\n",
       "      <td>...</td>\n",
       "      <td>0</td>\n",
       "      <td>0</td>\n",
       "      <td>0</td>\n",
       "      <td>0</td>\n",
       "      <td>0</td>\n",
       "      <td>0</td>\n",
       "      <td>0</td>\n",
       "      <td>0</td>\n",
       "      <td>0</td>\n",
       "      <td>0</td>\n",
       "    </tr>\n",
       "  </tbody>\n",
       "</table>\n",
       "<p>5 rows × 54 columns</p>\n",
       "</div>"
      ],
      "text/plain": [
       "        Elevation  Aspect  Slope  Horizontal_Distance_To_Hydrology  \\\n",
       "273258       3013     177     10                               361   \n",
       "165570       3163      41     16                                30   \n",
       "146527       3214     144     14                               270   \n",
       "79044        2321     352     26                                42   \n",
       "128539       2968     167     12                               256   \n",
       "\n",
       "        Vertical_Distance_To_Hydrology  Horizontal_Distance_To_Roadways  \\\n",
       "273258                              56                             4992   \n",
       "165570                              10                             1536   \n",
       "146527                              27                             2126   \n",
       "79044                               12                             1208   \n",
       "128539                              49                             5419   \n",
       "\n",
       "        Hillshade_9am  Hillshade_Noon  Hillshade_3pm  \\\n",
       "273258            225             246            153   \n",
       "165570            221             204            115   \n",
       "146527            239             237            124   \n",
       "79044             165             185            152   \n",
       "128539            230             244            145   \n",
       "\n",
       "        Horizontal_Distance_To_Fire_Points  ...  Soil_30  Soil_31  Soil_32  \\\n",
       "273258                                1559  ...        0        0        0   \n",
       "165570                                2462  ...        0        0        0   \n",
       "146527                                1708  ...        0        0        0   \n",
       "79044                                  277  ...        0        0        0   \n",
       "128539                                2995  ...        0        0        0   \n",
       "\n",
       "        Soil_33  Soil_34  Soil_35  Soil_36  Soil_37  Soil_38  Soil_39  \n",
       "273258        0        0        0        0        0        0        0  \n",
       "165570        0        0        0        0        0        0        0  \n",
       "146527        0        0        0        0        0        0        0  \n",
       "79044         0        0        0        0        0        0        0  \n",
       "128539        0        0        0        0        0        0        0  \n",
       "\n",
       "[5 rows x 54 columns]"
      ]
     },
     "execution_count": 4,
     "metadata": {},
     "output_type": "execute_result"
    },
    {
     "name": "stdout",
     "output_type": "stream",
     "text": [
      "[[ 6.82547904e+01  2.10118822e+01 -4.13631876e+00 ... -1.65090693e-02\n",
      "  -1.45346417e-02 -9.05144216e-03]\n",
      " [ 2.18254790e+02 -1.14988118e+02  1.86368124e+00 ... -1.65090693e-02\n",
      "  -1.45346417e-02 -9.05144216e-03]\n",
      " [ 2.69254790e+02 -1.19881178e+01 -1.36318763e-01 ... -1.65090693e-02\n",
      "  -1.45346417e-02 -9.05144216e-03]\n",
      " ...\n",
      " [ 1.06254790e+02  1.88011882e+02  7.86368124e+00 ... -1.65090693e-02\n",
      "  -1.45346417e-02 -9.05144216e-03]\n",
      " [ 2.48254790e+02  1.86011882e+02 -1.11363188e+01 ... -1.65090693e-02\n",
      "  -1.45346417e-02 -9.05144216e-03]\n",
      " [ 4.41254790e+02  1.36011882e+02  8.86368124e+00 ... -1.65090693e-02\n",
      "  -1.45346417e-02 -9.05144216e-03]]\n"
     ]
    }
   ],
   "source": [
    "#Center the training/validation/test splits (fit on the training set, then transform the validation/test sets).\n",
    "from sklearn.preprocessing import StandardScaler\n",
    "center_function = lambda x: x - x.mean()\n",
    "scaler = StandardScaler(with_std=False)\n",
    "\n",
    "\n",
    "scaler.fit(train_set)\n",
    "\n",
    "train_set_centered = scaler.transform(train_set)\n",
    "test_set_centered = scaler.transform(test_set)\n",
    "valid_set_centered = scaler.transform(valid_set)\n",
    "\n",
    "\n",
    "train_set.head()\n",
    "print(train_set_centered)"
   ]
  },
  {
   "cell_type": "code",
   "execution_count": 5,
   "id": "6737fb5e",
   "metadata": {},
   "outputs": [
    {
     "data": {
      "text/plain": [
       "'\\n1. Cluster the *training* dataset using ```KMeans``` from Scikit-learn using the values \\nfor $k$ below. You can utilize the default implementation in Scikit-learn, which is $k$-means$++$. \\nConstruct models for each value of $k$ specified in the ``k_values`` array below.\\n\\n'"
      ]
     },
     "execution_count": 5,
     "metadata": {},
     "output_type": "execute_result"
    }
   ],
   "source": [
    "#𝑘 -Means Clustering\n",
    "'''\n",
    "1. Cluster the *training* dataset using ```KMeans``` from Scikit-learn using the values \n",
    "for $k$ below. You can utilize the default implementation in Scikit-learn, which is $k$-means$++$. \n",
    "Construct models for each value of $k$ specified in the ``k_values`` array below.\n",
    "\n",
    "'''\n",
    "from sklearn.cluster import KMeans\n",
    "\n",
    "    \n",
    "k_values=list(range(2,11))+[15,20]\n",
    "k_models =[\"k_means\"+str(i) for i in k_values]\n",
    "\n",
    "for i in range(len(k_models)):\n",
    "    k_models[i] = KMeans(n_clusters=k_values[i], random_state=23721266).fit(train_set_centered) \n",
    "\n"
   ]
  },
  {
   "cell_type": "code",
   "execution_count": 6,
   "id": "e2826381",
   "metadata": {
    "scrolled": true
   },
   "outputs": [
    {
     "name": "stdout",
     "output_type": "stream",
     "text": [
      "[1 1 0 ... 1 1 1]\n",
      "[1 1 0 ... 1 1 1]\n",
      "[0 1 3 ... 0 0 1]\n",
      "[3 1 0 ... 3 3 1]\n",
      "[1 4 5 ... 1 1 4]\n",
      "[4 5 6 ... 4 4 5]\n",
      "[1 4 5 ... 1 1 4]\n",
      "[5 2 8 ... 5 1 2]\n",
      "[8 7 5 ... 8 3 7]\n",
      "[ 0  4 10 ...  0 13  8]\n",
      "[19 12  3 ... 19  2 18]\n"
     ]
    }
   ],
   "source": [
    "#2. Apply the trained models to the validation dataset.\n",
    "k_valids =[\"k_valid\"+str(i) for i in k_values]\n",
    "for i in range(len(k_models)):\n",
    "    k_valids[i] = k_models[i].predict(valid_set_centered)\n",
    "    print(k_valids[i])\n",
    "    "
   ]
  },
  {
   "cell_type": "code",
   "execution_count": 7,
   "id": "e247e5ad",
   "metadata": {},
   "outputs": [
    {
     "data": {
      "text/plain": [
       "'\\n3. Compute the **mean** inertia for each value of $k$ on the training and validation datasets. \\nFor the training data, you can extract the *total* (**unnormalized**) inertia from the trained models \\nvia their respective ```inertia_```. For the validation models, you can utilize \\nthe function ```total_inertia``` provided below.\\n'"
      ]
     },
     "execution_count": 7,
     "metadata": {},
     "output_type": "execute_result"
    },
    {
     "name": "stdout",
     "output_type": "stream",
     "text": [
      "[2341012.563974211, 1644887.354320643, 1269061.8651333533, 1008725.2982929216, 885990.8858518186, 767906.4084918541, 692909.6274348755, 631824.9834376482, 578473.6472634225, 419943.9588923205, 342480.8245872137]\n",
      "[2347441.5255471007, 1644260.983982393, 1275261.539979473, 1010992.376421578, 883945.6332019499, 767808.392191865, 690046.7293108647, 631478.3531613607, 577058.0167088569, 421606.8595340662, 344821.4319810845]\n"
     ]
    }
   ],
   "source": [
    "'''\n",
    "3. Compute the **mean** inertia for each value of $k$ on the training and validation datasets. \n",
    "For the training data, you can extract the *total* (**unnormalized**) inertia from the trained models \n",
    "via their respective ```inertia_```. For the validation models, you can utilize \n",
    "the function ```total_inertia``` provided below.\n",
    "'''\n",
    "import matplotlib.pyplot as plt\n",
    "def total_inertia(dataset,centers,labels,distance=None,mean=True):\n",
    "    \"\"\"\n",
    "    Computes the total inertia (the intracluster variance) given a dataset and the cluster centers.\n",
    "    \n",
    "    Parameters\n",
    "    ----------\n",
    "    dataset : numpy.ndarray\n",
    "        The dataset to evaluate.\n",
    "    center : numpy.ndarray or list\n",
    "        The list of cluster centers.\n",
    "    distance : function\n",
    "        A function that computes the pairwise distance between two samples.\n",
    "        Default: Euclidean (l_2) distance\n",
    "    mean : bool\n",
    "        If True, returns the mean inertia.\n",
    "        Default: True\n",
    "        \n",
    "    Returns\n",
    "    -------\n",
    "    total_inertia : float\n",
    "       The mean inertia (if mean==True) or total inertia (if mean==False).\n",
    "\"\"\"\n",
    "    num_samples,_ = dataset.shape\n",
    "    total_inertia=0\n",
    "    if distance is None:\n",
    "        distance=lambda x,y: np.linalg.norm(x-y)**2\n",
    "    for i,sample in enumerate(dataset):\n",
    "        center = centers[labels[i]]\n",
    "        total_inertia += distance(sample,center)\n",
    "    \n",
    "    if mean:\n",
    "        return total_inertia/num_samples\n",
    "    else:\n",
    "        return total_inertia\n",
    "\n",
    "Train_mean_inertias = []\n",
    "Valid_mean_inertias = []\n",
    "\n",
    "numOfSamples =  len(train_set_centered)\n",
    "\n",
    "for i in range(len(k_models)):\n",
    "    Train_mean_inertias.append(k_models[i].inertia_/numOfSamples)\n",
    "print(Train_mean_inertias)\n",
    "\n",
    "\n",
    "for i in range(len(k_models)):\n",
    "    Valid_mean_inertias.append(total_inertia(valid_set_centered,k_models[i].cluster_centers_,k_valids[i],distance=None,mean=True))\n",
    "print(Valid_mean_inertias)\n"
   ]
  },
  {
   "cell_type": "code",
   "execution_count": 8,
   "id": "7d46050f",
   "metadata": {},
   "outputs": [
    {
     "data": {
      "text/plain": [
       "'\\nPlot the mean inertias for all values of $k$ and for both the training and validation sets on a single plot. \\n'"
      ]
     },
     "execution_count": 8,
     "metadata": {},
     "output_type": "execute_result"
    },
    {
     "data": {
      "text/plain": [
       "[<matplotlib.lines.Line2D at 0x29f4d3176a0>]"
      ]
     },
     "execution_count": 8,
     "metadata": {},
     "output_type": "execute_result"
    },
    {
     "data": {
      "text/plain": [
       "[<matplotlib.lines.Line2D at 0x29f4d317a30>]"
      ]
     },
     "execution_count": 8,
     "metadata": {},
     "output_type": "execute_result"
    },
    {
     "data": {
      "text/plain": [
       "[<matplotlib.lines.Line2D at 0x29f4d317dc0>]"
      ]
     },
     "execution_count": 8,
     "metadata": {},
     "output_type": "execute_result"
    },
    {
     "data": {
      "text/plain": [
       "Text(0.5, 1.0, 'mean inertias')"
      ]
     },
     "execution_count": 8,
     "metadata": {},
     "output_type": "execute_result"
    },
    {
     "data": {
      "text/plain": [
       "Text(0, 0.5, 'mean inertias')"
      ]
     },
     "execution_count": 8,
     "metadata": {},
     "output_type": "execute_result"
    },
    {
     "data": {
      "text/plain": [
       "Text(0.5, 0, 'K values')"
      ]
     },
     "execution_count": 8,
     "metadata": {},
     "output_type": "execute_result"
    },
    {
     "data": {
      "image/png": "[encoded data removed]",
      "text/plain": [
       "<Figure size 640x480 with 1 Axes>"
      ]
     },
     "metadata": {},
     "output_type": "display_data"
    }
   ],
   "source": [
    "'''\n",
    "Plot the mean inertias for all values of $k$ and for both the training and validation sets on a single plot. \n",
    "'''\n",
    "plt.plot(k_values,Train_mean_inertias,'g')\n",
    "plt.plot(k_values,Valid_mean_inertias,'b--')\n",
    "plt.plot(k_values,Valid_mean_inertias,'r+')\n",
    "plt.title('mean inertias')\n",
    "plt.ylabel('mean inertias')\n",
    "plt.xlabel('K values')\n",
    "\n"
   ]
  },
  {
   "cell_type": "raw",
   "id": "4b164f72",
   "metadata": {},
   "source": [
    "#Based on the elbow method, which value of $k$ should be chosen so that the model will generalize to new data?\n",
    "\n",
    "pretty clear elbow at k = 5 so 5 should be chosen \n"
   ]
  },
  {
   "cell_type": "code",
   "execution_count": 9,
   "id": "975419a2",
   "metadata": {},
   "outputs": [
    {
     "data": {
      "text/plain": [
       "'\\nThe *Silhouette Coefficient* is another cluster performance metric that combines intra-cluster distance with \\ninter-cluster distances from clusters in close proximity to each other. \\n'"
      ]
     },
     "execution_count": 9,
     "metadata": {},
     "output_type": "execute_result"
    }
   ],
   "source": [
    "from sklearn.metrics import silhouette_score\n",
    "'''\n",
    "The *Silhouette Coefficient* is another cluster performance metric that combines intra-cluster distance with \n",
    "inter-cluster distances from clusters in close proximity to each other. \n",
    "'''\n",
    "silhouette_scores = []\n",
    "for v in k_valids: \n",
    "    silhouette_scores.append(silhouette_score(valid_set_centered,v,random_state=23721266)) "
   ]
  },
  {
   "cell_type": "code",
   "execution_count": 10,
   "id": "3bb6a7d8",
   "metadata": {},
   "outputs": [
    {
     "name": "stdout",
     "output_type": "stream",
     "text": [
      "[0.46027381764253095, 0.44054393089208294, 0.33925833436572206, 0.3526244674635626, 0.34095363605198437, 0.33766819537143444, 0.3318529033475337, 0.2957271016054832, 0.29451272199627376, 0.2670074895830763, 0.2556219835464802]\n"
     ]
    },
    {
     "data": {
      "text/plain": [
       "[<matplotlib.lines.Line2D at 0x29f4d372550>]"
      ]
     },
     "execution_count": 10,
     "metadata": {},
     "output_type": "execute_result"
    },
    {
     "data": {
      "text/plain": [
       "Text(0.5, 1.0, 'silhouette_scores')"
      ]
     },
     "execution_count": 10,
     "metadata": {},
     "output_type": "execute_result"
    },
    {
     "data": {
      "text/plain": [
       "Text(0, 0.5, 'silhouette_scores')"
      ]
     },
     "execution_count": 10,
     "metadata": {},
     "output_type": "execute_result"
    },
    {
     "data": {
      "text/plain": [
       "Text(0.5, 0, 'K values')"
      ]
     },
     "execution_count": 10,
     "metadata": {},
     "output_type": "execute_result"
    },
    {
     "data": {
      "image/png": "[encoded data removed]",
      "text/plain": [
       "<Figure size 640x480 with 1 Axes>"
      ]
     },
     "metadata": {},
     "output_type": "display_data"
    }
   ],
   "source": [
    "print(silhouette_scores)\n",
    "plt.plot(k_values,silhouette_scores,'r')\n",
    "plt.title('silhouette_scores')\n",
    "plt.ylabel('silhouette_scores')\n",
    "plt.xlabel('K values')"
   ]
  },
  {
   "cell_type": "raw",
   "id": "a964903f",
   "metadata": {},
   "source": [
    "which value of $k$ should be chosen. How does this value compare to the one chosen using mean inertia?"
   ]
  },
  {
   "cell_type": "code",
   "execution_count": 11,
   "id": "b2c192ad",
   "metadata": {},
   "outputs": [
    {
     "data": {
      "text/plain": [
       "'\\nUsing whichever value of $k$ you think is the best based on steps 4) and 5), \\ncreate a plot for each feature that contains \\n[boxplots](https://matplotlib.org/stable/gallery/statistics/boxplot_demo.html#sphx-glr-gallery-statistics-boxplot-demo-py) \\nof that feature for each cluster. Based upon these plots, \\ndetermine which features you think are meaningful in discriminating between the clusters, \\nas well as any other trends you observe.\\n'"
      ]
     },
     "execution_count": 11,
     "metadata": {},
     "output_type": "execute_result"
    }
   ],
   "source": [
    "'''\n",
    "Using whichever value of $k$ you think is the best based on steps 4) and 5), \n",
    "create a plot for each feature that contains \n",
    "[boxplots](https://matplotlib.org/stable/gallery/statistics/boxplot_demo.html#sphx-glr-gallery-statistics-boxplot-demo-py) \n",
    "of that feature for each cluster. Based upon these plots, \n",
    "determine which features you think are meaningful in discriminating between the clusters, \n",
    "as well as any other trends you observe.\n",
    "'''"
   ]
  },
  {
   "cell_type": "code",
   "execution_count": 12,
   "id": "1756b440",
   "metadata": {},
   "outputs": [
    {
     "data": {
      "text/html": [
       "<div>\n",
       "<style scoped>\n",
       "    .dataframe tbody tr th:only-of-type {\n",
       "        vertical-align: middle;\n",
       "    }\n",
       "\n",
       "    .dataframe tbody tr th {\n",
       "        vertical-align: top;\n",
       "    }\n",
       "\n",
       "    .dataframe thead th {\n",
       "        text-align: right;\n",
       "    }\n",
       "</style>\n",
       "<table border=\"1\" class=\"dataframe\">\n",
       "  <thead>\n",
       "    <tr style=\"text-align: right;\">\n",
       "      <th></th>\n",
       "      <th>state</th>\n",
       "      <th>county</th>\n",
       "      <th>community</th>\n",
       "      <th>communityname</th>\n",
       "      <th>fold</th>\n",
       "      <th>population</th>\n",
       "      <th>householdsize</th>\n",
       "      <th>racepctblack</th>\n",
       "      <th>racePctWhite</th>\n",
       "      <th>racePctAsian</th>\n",
       "      <th>...</th>\n",
       "      <th>LandArea</th>\n",
       "      <th>PopDens</th>\n",
       "      <th>PctUsePubTrans</th>\n",
       "      <th>PolicCars</th>\n",
       "      <th>PolicOperBudg</th>\n",
       "      <th>LemasPctPolicOnPatr</th>\n",
       "      <th>LemasGangUnitDeploy</th>\n",
       "      <th>LemasPctOfficDrugUn</th>\n",
       "      <th>PolicBudgPerPop</th>\n",
       "      <th>ViolentCrimesPerPop</th>\n",
       "    </tr>\n",
       "  </thead>\n",
       "  <tbody>\n",
       "    <tr>\n",
       "      <th>0</th>\n",
       "      <td>8</td>\n",
       "      <td>?</td>\n",
       "      <td>?</td>\n",
       "      <td>Lakewoodcity</td>\n",
       "      <td>1</td>\n",
       "      <td>0.19</td>\n",
       "      <td>0.33</td>\n",
       "      <td>0.02</td>\n",
       "      <td>0.90</td>\n",
       "      <td>0.12</td>\n",
       "      <td>...</td>\n",
       "      <td>0.12</td>\n",
       "      <td>0.26</td>\n",
       "      <td>0.20</td>\n",
       "      <td>0.06</td>\n",
       "      <td>0.04</td>\n",
       "      <td>0.9</td>\n",
       "      <td>0.5</td>\n",
       "      <td>0.32</td>\n",
       "      <td>0.14</td>\n",
       "      <td>0.20</td>\n",
       "    </tr>\n",
       "    <tr>\n",
       "      <th>1</th>\n",
       "      <td>53</td>\n",
       "      <td>?</td>\n",
       "      <td>?</td>\n",
       "      <td>Tukwilacity</td>\n",
       "      <td>1</td>\n",
       "      <td>0.00</td>\n",
       "      <td>0.16</td>\n",
       "      <td>0.12</td>\n",
       "      <td>0.74</td>\n",
       "      <td>0.45</td>\n",
       "      <td>...</td>\n",
       "      <td>0.02</td>\n",
       "      <td>0.12</td>\n",
       "      <td>0.45</td>\n",
       "      <td>?</td>\n",
       "      <td>?</td>\n",
       "      <td>?</td>\n",
       "      <td>?</td>\n",
       "      <td>0.00</td>\n",
       "      <td>?</td>\n",
       "      <td>0.67</td>\n",
       "    </tr>\n",
       "    <tr>\n",
       "      <th>2</th>\n",
       "      <td>24</td>\n",
       "      <td>?</td>\n",
       "      <td>?</td>\n",
       "      <td>Aberdeentown</td>\n",
       "      <td>1</td>\n",
       "      <td>0.00</td>\n",
       "      <td>0.42</td>\n",
       "      <td>0.49</td>\n",
       "      <td>0.56</td>\n",
       "      <td>0.17</td>\n",
       "      <td>...</td>\n",
       "      <td>0.01</td>\n",
       "      <td>0.21</td>\n",
       "      <td>0.02</td>\n",
       "      <td>?</td>\n",
       "      <td>?</td>\n",
       "      <td>?</td>\n",
       "      <td>?</td>\n",
       "      <td>0.00</td>\n",
       "      <td>?</td>\n",
       "      <td>0.43</td>\n",
       "    </tr>\n",
       "    <tr>\n",
       "      <th>3</th>\n",
       "      <td>34</td>\n",
       "      <td>5</td>\n",
       "      <td>81440</td>\n",
       "      <td>Willingborotownship</td>\n",
       "      <td>1</td>\n",
       "      <td>0.04</td>\n",
       "      <td>0.77</td>\n",
       "      <td>1.00</td>\n",
       "      <td>0.08</td>\n",
       "      <td>0.12</td>\n",
       "      <td>...</td>\n",
       "      <td>0.02</td>\n",
       "      <td>0.39</td>\n",
       "      <td>0.28</td>\n",
       "      <td>?</td>\n",
       "      <td>?</td>\n",
       "      <td>?</td>\n",
       "      <td>?</td>\n",
       "      <td>0.00</td>\n",
       "      <td>?</td>\n",
       "      <td>0.12</td>\n",
       "    </tr>\n",
       "    <tr>\n",
       "      <th>4</th>\n",
       "      <td>42</td>\n",
       "      <td>95</td>\n",
       "      <td>6096</td>\n",
       "      <td>Bethlehemtownship</td>\n",
       "      <td>1</td>\n",
       "      <td>0.01</td>\n",
       "      <td>0.55</td>\n",
       "      <td>0.02</td>\n",
       "      <td>0.95</td>\n",
       "      <td>0.09</td>\n",
       "      <td>...</td>\n",
       "      <td>0.04</td>\n",
       "      <td>0.09</td>\n",
       "      <td>0.02</td>\n",
       "      <td>?</td>\n",
       "      <td>?</td>\n",
       "      <td>?</td>\n",
       "      <td>?</td>\n",
       "      <td>0.00</td>\n",
       "      <td>?</td>\n",
       "      <td>0.03</td>\n",
       "    </tr>\n",
       "  </tbody>\n",
       "</table>\n",
       "<p>5 rows × 128 columns</p>\n",
       "</div>"
      ],
      "text/plain": [
       "   state county community        communityname  fold  population  \\\n",
       "0      8      ?         ?         Lakewoodcity     1        0.19   \n",
       "1     53      ?         ?          Tukwilacity     1        0.00   \n",
       "2     24      ?         ?         Aberdeentown     1        0.00   \n",
       "3     34      5     81440  Willingborotownship     1        0.04   \n",
       "4     42     95      6096    Bethlehemtownship     1        0.01   \n",
       "\n",
       "   householdsize  racepctblack  racePctWhite  racePctAsian  ...  LandArea  \\\n",
       "0           0.33          0.02          0.90          0.12  ...      0.12   \n",
       "1           0.16          0.12          0.74          0.45  ...      0.02   \n",
       "2           0.42          0.49          0.56          0.17  ...      0.01   \n",
       "3           0.77          1.00          0.08          0.12  ...      0.02   \n",
       "4           0.55          0.02          0.95          0.09  ...      0.04   \n",
       "\n",
       "   PopDens  PctUsePubTrans  PolicCars  PolicOperBudg  LemasPctPolicOnPatr  \\\n",
       "0     0.26            0.20       0.06           0.04                  0.9   \n",
       "1     0.12            0.45          ?              ?                    ?   \n",
       "2     0.21            0.02          ?              ?                    ?   \n",
       "3     0.39            0.28          ?              ?                    ?   \n",
       "4     0.09            0.02          ?              ?                    ?   \n",
       "\n",
       "   LemasGangUnitDeploy  LemasPctOfficDrugUn  PolicBudgPerPop  \\\n",
       "0                  0.5                 0.32             0.14   \n",
       "1                    ?                 0.00                ?   \n",
       "2                    ?                 0.00                ?   \n",
       "3                    ?                 0.00                ?   \n",
       "4                    ?                 0.00                ?   \n",
       "\n",
       "   ViolentCrimesPerPop  \n",
       "0                 0.20  \n",
       "1                 0.67  \n",
       "2                 0.43  \n",
       "3                 0.12  \n",
       "4                 0.03  \n",
       "\n",
       "[5 rows x 128 columns]"
      ]
     },
     "execution_count": 12,
     "metadata": {},
     "output_type": "execute_result"
    },
    {
     "name": "stdout",
     "output_type": "stream",
     "text": [
      "<class 'pandas.core.frame.DataFrame'>\n",
      "RangeIndex: 1994 entries, 0 to 1993\n",
      "Columns: 128 entries, state to ViolentCrimesPerPop\n",
      "dtypes: float64(100), int64(2), object(26)\n",
      "memory usage: 1.9+ MB\n"
     ]
    }
   ],
   "source": [
    "#Part 2 2.1 Load Data\n",
    "crime_column_names= ['state', 'county', 'community', 'communityname', 'fold', 'population', 'householdsize',\n",
    "                 'racepctblack', 'racePctWhite', 'racePctAsian', 'racePctHisp', 'agePct12t21', 'agePct12t29',\n",
    "                 'agePct16t24', 'agePct65up', 'numbUrban', 'pctUrban', 'medIncome', 'pctWWage', 'pctWFarmSelf',\n",
    "                 'pctWInvInc', 'pctWSocSec', 'pctWPubAsst', 'pctWRetire', 'medFamInc', 'perCapInc', 'whitePerCap',\n",
    "                 'blackPerCap', 'indianPerCap', 'AsianPerCap', 'OtherPerCap', 'HispPerCap', 'NumUnderPov', 'PctPopUnderPov',\n",
    "                 'PctLess9thGrade', 'PctNotHSGrad', 'PctBSorMore', 'PctUnemployed', 'PctEmploy', 'PctEmplManu',\n",
    "                 'PctEmplProfServ', 'PctOccupManu', 'PctOccupMgmtProf', 'MalePctDivorce', 'MalePctNevMarr',\n",
    "                 'FemalePctDiv', 'TotalPctDiv', 'PersPerFam', 'PctFam2Par', 'PctKids2Par', 'PctYoungKids2Par',\n",
    "                 'PctTeen2Par', 'PctWorkMomYoungKids', 'PctWorkMom', 'NumIlleg', 'PctIlleg', 'NumImmig', 'PctImmigRecent',\n",
    "                 'PctImmigRec5', 'PctImmigRec8', 'PctImmigRec10', 'PctRecentImmig', 'PctRecImmig5', 'PctRecImmig8',\n",
    "                 'PctRecImmig10', 'PctSpeakEnglOnly', 'PctNotSpeakEnglWell', 'PctLargHouseFam', 'PctLargHouseOccup',\n",
    "                 'PersPerOccupHous', 'PersPerOwnOccHous', 'PersPerRentOccHous', 'PctPersOwnOccup', 'PctPersDenseHous',\n",
    "                 'PctHousLess3BR', 'MedNumBR', 'HousVacant', 'PctHousOccup', 'PctHousOwnOcc', 'PctVacantBoarded',\n",
    "                 'PctVacMore6Mos', 'MedYrHousBuilt', 'PctHousNoPhone', 'PctWOFullPlumb', 'OwnOccLowQuart', 'OwnOccMedVal',\n",
    "                 'OwnOccHiQuart', 'RentLowQ', 'RentMedian', 'RentHighQ', 'MedRent', 'MedRentPctHousInc', 'MedOwnCostPctInc',\n",
    "                 'MedOwnCostPctIncNoMtg', 'NumInShelters', 'NumStreet', 'PctForeignBorn', 'PctBornSameState', 'PctSameHouse85',\n",
    "                 'PctSameCity85', 'PctSameState85', 'LemasSwornFT', 'LemasSwFTPerPop', 'LemasSwFTFieldOps',\n",
    "                 'LemasSwFTFieldPerPop', 'LemasTotalReq', 'LemasTotReqPerPop', 'PolicReqPerOffic',\n",
    "                 'PolicPerPop', 'RacialMatchCommPol', 'PctPolicWhite', 'PctPolicBlack', 'PctPolicHisp',\n",
    "                 'PctPolicAsian', 'PctPolicMinor', 'OfficAssgnDrugUnits', 'NumKindsDrugsSeiz', 'PolicAveOTWorked',\n",
    "                 'LandArea', 'PopDens', 'PctUsePubTrans', 'PolicCars', 'PolicOperBudg', 'LemasPctPolicOnPatr',\n",
    "                 'LemasGangUnitDeploy', 'LemasPctOfficDrugUn', 'PolicBudgPerPop', 'ViolentCrimesPerPop']\n",
    "\n",
    "CRIME_FILE = './crime.csv'\n",
    "CRIME_dataFrame = pd.read_csv(CRIME_FILE,names=crime_column_names)\n",
    "CRIME_dataFrame.head()\n",
    "\n",
    "#number of features & type of features\n",
    "CRIME_dataFrame.info()"
   ]
  },
  {
   "cell_type": "code",
   "execution_count": 13,
   "id": "fafabbd5",
   "metadata": {},
   "outputs": [
    {
     "data": {
      "text/plain": [
       "array([[8.00e+00, 1.08e+02, 7.99e+02, ..., 3.20e-01, 1.40e+01, 2.00e-01],\n",
       "       [5.30e+01, 1.08e+02, 7.99e+02, ..., 0.00e+00, 5.10e+01, 6.70e-01],\n",
       "       [2.40e+01, 1.08e+02, 7.99e+02, ..., 0.00e+00, 5.10e+01, 4.30e-01],\n",
       "       ...,\n",
       "       [9.00e+00, 1.02e+02, 7.09e+02, ..., 9.10e-01, 2.80e+01, 2.30e-01],\n",
       "       [2.50e+01, 3.40e+01, 6.21e+02, ..., 2.20e-01, 1.80e+01, 1.90e-01],\n",
       "       [6.00e+00, 1.08e+02, 7.99e+02, ..., 1.00e+00, 1.30e+01, 4.80e-01]])"
      ]
     },
     "execution_count": 13,
     "metadata": {},
     "output_type": "execute_result"
    }
   ],
   "source": [
    "from sklearn import preprocessing\n",
    "from sklearn.impute import SimpleImputer\n",
    "#Perform a ShuffleSplit of the data into training/validation/test sets, 60%/20%/20%.\n",
    "#preprocess string features     \n",
    "\n",
    "def labelizedString(df2):\n",
    "    le = preprocessing.LabelEncoder()\n",
    "    for column_name in df2.columns:\n",
    "        if df2[column_name].dtype == object:\n",
    "            df2[column_name] = le.fit_transform(df2[column_name])\n",
    "        else:\n",
    "            pass\n",
    "        \n",
    "CRIME_dataFrame.replace('?',np.nan,inplace=True)\n",
    "imp_mean = SimpleImputer(missing_values=np.nan, strategy='mean')\n",
    "labelizedString(CRIME_dataFrame)\n",
    "imp_mean.fit_transform(CRIME_dataFrame)\n",
    "\n",
    "CRIME_train_set,CRIME_test_valid_set = MySplit(1,0.4,CRIME_dataFrame)\n",
    "CRIME_test_set,CRIME_valid_set = MySplit(1,0.5,CRIME_test_valid_set)"
   ]
  },
  {
   "cell_type": "code",
   "execution_count": 14,
   "id": "be61100a",
   "metadata": {},
   "outputs": [],
   "source": [
    "#Split the non-test data (training + validation data) into 5 folds for cross-validation purposes.\n",
    "#Perform any necessary preprocessing on dataset\n",
    "from sklearn.model_selection import KFold\n",
    "\n",
    "CRIME_mergeDataSet = pd.concat([CRIME_train_set,CRIME_valid_set])\n",
    "X_CRIME_mergeDataSet = CRIME_mergeDataSet.drop('ViolentCrimesPerPop',axis=1)\n",
    "Y_CRIME_mergeDataSet = CRIME_mergeDataSet['ViolentCrimesPerPop']\n",
    "\n",
    "kf = KFold(n_splits=5,random_state=23721266,shuffle=True)\n"
   ]
  },
  {
   "cell_type": "code",
   "execution_count": 15,
   "id": "0d92520c",
   "metadata": {},
   "outputs": [],
   "source": [
    "from sklearn.linear_model import LinearRegression\n",
    "#2.2 Linear Regression\n",
    "#Construct a linear model using Scikit-learn's LinearRegression method with default parameters.\n",
    "\n",
    "#separate features and labels\n",
    "Linear_X_train = CRIME_train_set.drop('ViolentCrimesPerPop',axis=1)\n",
    "Linear_Y_train = CRIME_train_set['ViolentCrimesPerPop']\n",
    "reg＿model = LinearRegression()\n"
   ]
  },
  {
   "cell_type": "code",
   "execution_count": 16,
   "id": "feb7995b",
   "metadata": {},
   "outputs": [
    {
     "data": {
      "text/plain": [
       "'\\nReport the following performance metrics on the training and validation sets:\\nMean Squared Error, Mean Absolute Error, and the Coefficient of Determination ( 𝑟2 ).\\n'"
      ]
     },
     "execution_count": 16,
     "metadata": {},
     "output_type": "execute_result"
    },
    {
     "data": {
      "text/html": [
       "<style>#sk-container-id-2 {color: black;background-color: white;}#sk-container-id-2 pre{padding: 0;}#sk-container-id-2 div.sk-toggleable {background-color: white;}#sk-container-id-2 label.sk-toggleable__label {cursor: pointer;display: block;width: 100%;margin-bottom: 0;padding: 0.3em;box-sizing: border-box;text-align: center;}#sk-container-id-2 label.sk-toggleable__label-arrow:before {content: \"▸\";float: left;margin-right: 0.25em;color: #696969;}#sk-container-id-2 label.sk-toggleable__label-arrow:hover:before {color: black;}#sk-container-id-2 div.sk-estimator:hover label.sk-toggleable__label-arrow:before {color: black;}#sk-container-id-2 div.sk-toggleable__content {max-height: 0;max-width: 0;overflow: hidden;text-align: left;background-color: #f0f8ff;}#sk-container-id-2 div.sk-toggleable__content pre {margin: 0.2em;color: black;border-radius: 0.25em;background-color: #f0f8ff;}#sk-container-id-2 input.sk-toggleable__control:checked~div.sk-toggleable__content {max-height: 200px;max-width: 100%;overflow: auto;}#sk-container-id-2 input.sk-toggleable__control:checked~label.sk-toggleable__label-arrow:before {content: \"▾\";}#sk-container-id-2 div.sk-estimator input.sk-toggleable__control:checked~label.sk-toggleable__label {background-color: #d4ebff;}#sk-container-id-2 div.sk-label input.sk-toggleable__control:checked~label.sk-toggleable__label {background-color: #d4ebff;}#sk-container-id-2 input.sk-hidden--visually {border: 0;clip: rect(1px 1px 1px 1px);clip: rect(1px, 1px, 1px, 1px);height: 1px;margin: -1px;overflow: hidden;padding: 0;position: absolute;width: 1px;}#sk-container-id-2 div.sk-estimator {font-family: monospace;background-color: #f0f8ff;border: 1px dotted black;border-radius: 0.25em;box-sizing: border-box;margin-bottom: 0.5em;}#sk-container-id-2 div.sk-estimator:hover {background-color: #d4ebff;}#sk-container-id-2 div.sk-parallel-item::after {content: \"\";width: 100%;border-bottom: 1px solid gray;flex-grow: 1;}#sk-container-id-2 div.sk-label:hover label.sk-toggleable__label {background-color: #d4ebff;}#sk-container-id-2 div.sk-serial::before {content: \"\";position: absolute;border-left: 1px solid gray;box-sizing: border-box;top: 0;bottom: 0;left: 50%;z-index: 0;}#sk-container-id-2 div.sk-serial {display: flex;flex-direction: column;align-items: center;background-color: white;padding-right: 0.2em;padding-left: 0.2em;position: relative;}#sk-container-id-2 div.sk-item {position: relative;z-index: 1;}#sk-container-id-2 div.sk-parallel {display: flex;align-items: stretch;justify-content: center;background-color: white;position: relative;}#sk-container-id-2 div.sk-item::before, #sk-container-id-2 div.sk-parallel-item::before {content: \"\";position: absolute;border-left: 1px solid gray;box-sizing: border-box;top: 0;bottom: 0;left: 50%;z-index: -1;}#sk-container-id-2 div.sk-parallel-item {display: flex;flex-direction: column;z-index: 1;position: relative;background-color: white;}#sk-container-id-2 div.sk-parallel-item:first-child::after {align-self: flex-end;width: 50%;}#sk-container-id-2 div.sk-parallel-item:last-child::after {align-self: flex-start;width: 50%;}#sk-container-id-2 div.sk-parallel-item:only-child::after {width: 0;}#sk-container-id-2 div.sk-dashed-wrapped {border: 1px dashed gray;margin: 0 0.4em 0.5em 0.4em;box-sizing: border-box;padding-bottom: 0.4em;background-color: white;}#sk-container-id-2 div.sk-label label {font-family: monospace;font-weight: bold;display: inline-block;line-height: 1.2em;}#sk-container-id-2 div.sk-label-container {text-align: center;}#sk-container-id-2 div.sk-container {/* jupyter's `normalize.less` sets `[hidden] { display: none; }` but bootstrap.min.css set `[hidden] { display: none !important; }` so we also need the `!important` here to be able to override the default hidden behavior on the sphinx rendered scikit-learn.org. See: https://github.com/scikit-learn/scikit-learn/issues/21755 */display: inline-block !important;position: relative;}#sk-container-id-2 div.sk-text-repr-fallback {display: none;}</style><div id=\"sk-container-id-2\" class=\"sk-top-container\"><div class=\"sk-text-repr-fallback\"><pre>LinearRegression()</pre><b>In a Jupyter environment, please rerun this cell to show the HTML representation or trust the notebook. <br />On GitHub, the HTML representation is unable to render, please try loading this page with nbviewer.org.</b></div><div class=\"sk-container\" hidden><div class=\"sk-item\"><div class=\"sk-estimator sk-toggleable\"><input class=\"sk-toggleable__control sk-hidden--visually\" id=\"sk-estimator-id-2\" type=\"checkbox\" checked><label for=\"sk-estimator-id-2\" class=\"sk-toggleable__label sk-toggleable__label-arrow\">LinearRegression</label><div class=\"sk-toggleable__content\"><pre>LinearRegression()</pre></div></div></div></div></div>"
      ],
      "text/plain": [
       "LinearRegression()"
      ]
     },
     "execution_count": 16,
     "metadata": {},
     "output_type": "execute_result"
    },
    {
     "data": {
      "text/plain": [
       "{'mse': -0.01910487936571296,\n",
       " 'mae': -0.10025799082674744,\n",
       " 'r2': -0.6440997107339868}"
      ]
     },
     "execution_count": 16,
     "metadata": {},
     "output_type": "execute_result"
    }
   ],
   "source": [
    "'''\n",
    "Report the following performance metrics on the training and validation sets:\n",
    "Mean Squared Error, Mean Absolute Error, and the Coefficient of Determination ( 𝑟2 ).\n",
    "'''\n",
    "#peformance metric functions\n",
    "from sklearn.metrics import mean_absolute_error,mean_squared_error,r2_score\n",
    "from sklearn.model_selection import cross_validate\n",
    "import numpy as np\n",
    "\n",
    "#A list of keys for the dictionary returned by p1_metrics\n",
    "metric_keys = ['mse','mae','r2']\n",
    "\n",
    "def p2_metrics(y_true,y_pred,negation=False):\n",
    "    if negation:\n",
    "        sign = -1\n",
    "    else:\n",
    "        sign = 1\n",
    "    return {\n",
    "        'mse': sign*mean_squared_error(y_true,y_pred),\n",
    "        'mae': sign*mean_absolute_error(y_true,y_pred),\n",
    "        'r2': sign*r2_score(y_true,y_pred)}\n",
    "\n",
    "#This wrapper can be used to return multiple performance metrics during cross-validation\n",
    "def p2_metrics_scorer(clf,X,y_true):\n",
    "    y_pred=clf.predict(X)\n",
    "    return p2_metrics(y_true,y_pred,negation=True)\n",
    "\n",
    "def collate_cv_results(cv_results,display=True):\n",
    "    cv_stats=dict()\n",
    "    for k in cv_results:\n",
    "     if k != 'estimator':\n",
    "        cv_stats[k+\"_mean\"]=np.mean(cv_results[k])\n",
    "        cv_stats[k+\"_std\"]=np.std(cv_results[k])\n",
    "        if display:\n",
    "            print(k,cv_stats[k+\"_mean\"],\"(\"+str(cv_stats[k+\"_std\"])+\")\")\n",
    "    return cv_stats\n",
    "\n",
    "X_CRIME_valid_set = CRIME_valid_set.drop('ViolentCrimesPerPop',axis=1)\n",
    "Y_CRIME_valid_set = CRIME_valid_set['ViolentCrimesPerPop']\n",
    "reg_model.fit(Linear_X_train,Linear_Y_train)\n",
    "reg_score = p2_metrics_scorer(reg_model,X_CRIME_valid_set,Y_CRIME_valid_set)\n",
    "reg_score\n",
    "\n"
   ]
  },
  {
   "cell_type": "code",
   "execution_count": 30,
   "id": "e1ca0cd6",
   "metadata": {
    "scrolled": true
   },
   "outputs": [
    {
     "data": {
      "text/html": [
       "<div>\n",
       "<style scoped>\n",
       "    .dataframe tbody tr th:only-of-type {\n",
       "        vertical-align: middle;\n",
       "    }\n",
       "\n",
       "    .dataframe tbody tr th {\n",
       "        vertical-align: top;\n",
       "    }\n",
       "\n",
       "    .dataframe thead th {\n",
       "        text-align: right;\n",
       "    }\n",
       "</style>\n",
       "<table border=\"1\" class=\"dataframe\">\n",
       "  <thead>\n",
       "    <tr style=\"text-align: right;\">\n",
       "      <th></th>\n",
       "      <th>Coefficients</th>\n",
       "    </tr>\n",
       "  </thead>\n",
       "  <tbody>\n",
       "    <tr>\n",
       "      <th>whitePerCap</th>\n",
       "      <td>-0.812929</td>\n",
       "    </tr>\n",
       "    <tr>\n",
       "      <th>PctPersOwnOccup</th>\n",
       "      <td>-0.702511</td>\n",
       "    </tr>\n",
       "    <tr>\n",
       "      <th>OwnOccLowQuart</th>\n",
       "      <td>-0.564148</td>\n",
       "    </tr>\n",
       "    <tr>\n",
       "      <th>population</th>\n",
       "      <td>-0.462064</td>\n",
       "    </tr>\n",
       "    <tr>\n",
       "      <th>PctRecImmig10</th>\n",
       "      <td>-0.449782</td>\n",
       "    </tr>\n",
       "    <tr>\n",
       "      <th>NumIlleg</th>\n",
       "      <td>-0.435485</td>\n",
       "    </tr>\n",
       "    <tr>\n",
       "      <th>PctKids2Par</th>\n",
       "      <td>-0.409582</td>\n",
       "    </tr>\n",
       "    <tr>\n",
       "      <th>PctLargHouseFam</th>\n",
       "      <td>-0.397716</td>\n",
       "    </tr>\n",
       "    <tr>\n",
       "      <th>RentLowQ</th>\n",
       "      <td>-0.282177</td>\n",
       "    </tr>\n",
       "    <tr>\n",
       "      <th>PctPopUnderPov</th>\n",
       "      <td>-0.259811</td>\n",
       "    </tr>\n",
       "    <tr>\n",
       "      <th>PersPerRentOccHous</th>\n",
       "      <td>-0.243170</td>\n",
       "    </tr>\n",
       "    <tr>\n",
       "      <th>NumImmig</th>\n",
       "      <td>-0.234386</td>\n",
       "    </tr>\n",
       "    <tr>\n",
       "      <th>agePct12t29</th>\n",
       "      <td>-0.225794</td>\n",
       "    </tr>\n",
       "    <tr>\n",
       "      <th>PctNotSpeakEnglWell</th>\n",
       "      <td>-0.221498</td>\n",
       "    </tr>\n",
       "    <tr>\n",
       "      <th>pctWWage</th>\n",
       "      <td>-0.212296</td>\n",
       "    </tr>\n",
       "    <tr>\n",
       "      <th>pctWInvInc</th>\n",
       "      <td>-0.179375</td>\n",
       "    </tr>\n",
       "    <tr>\n",
       "      <th>PctImmigRec8</th>\n",
       "      <td>-0.170693</td>\n",
       "    </tr>\n",
       "    <tr>\n",
       "      <th>PctWorkMom</th>\n",
       "      <td>-0.142949</td>\n",
       "    </tr>\n",
       "    <tr>\n",
       "      <th>PctRecentImmig</th>\n",
       "      <td>-0.128839</td>\n",
       "    </tr>\n",
       "    <tr>\n",
       "      <th>PctYoungKids2Par</th>\n",
       "      <td>-0.117119</td>\n",
       "    </tr>\n",
       "    <tr>\n",
       "      <th>OwnOccHiQuart</th>\n",
       "      <td>-0.097262</td>\n",
       "    </tr>\n",
       "    <tr>\n",
       "      <th>medIncome</th>\n",
       "      <td>-0.094946</td>\n",
       "    </tr>\n",
       "    <tr>\n",
       "      <th>PctEmplProfServ</th>\n",
       "      <td>-0.088960</td>\n",
       "    </tr>\n",
       "    <tr>\n",
       "      <th>FemalePctDiv</th>\n",
       "      <td>-0.085276</td>\n",
       "    </tr>\n",
       "    <tr>\n",
       "      <th>PctEmplManu</th>\n",
       "      <td>-0.082955</td>\n",
       "    </tr>\n",
       "    <tr>\n",
       "      <th>PctLess9thGrade</th>\n",
       "      <td>-0.081558</td>\n",
       "    </tr>\n",
       "    <tr>\n",
       "      <th>MedOwnCostPctInc</th>\n",
       "      <td>-0.073643</td>\n",
       "    </tr>\n",
       "    <tr>\n",
       "      <th>pctWRetire</th>\n",
       "      <td>-0.071079</td>\n",
       "    </tr>\n",
       "    <tr>\n",
       "      <th>agePct12t21</th>\n",
       "      <td>-0.071077</td>\n",
       "    </tr>\n",
       "    <tr>\n",
       "      <th>PersPerOwnOccHous</th>\n",
       "      <td>-0.070268</td>\n",
       "    </tr>\n",
       "    <tr>\n",
       "      <th>PctUsePubTrans</th>\n",
       "      <td>-0.068506</td>\n",
       "    </tr>\n",
       "    <tr>\n",
       "      <th>PctSameHouse85</th>\n",
       "      <td>-0.067928</td>\n",
       "    </tr>\n",
       "    <tr>\n",
       "      <th>PctVacMore6Mos</th>\n",
       "      <td>-0.059790</td>\n",
       "    </tr>\n",
       "    <tr>\n",
       "      <th>RentHighQ</th>\n",
       "      <td>-0.053582</td>\n",
       "    </tr>\n",
       "    <tr>\n",
       "      <th>MedOwnCostPctIncNoMtg</th>\n",
       "      <td>-0.051012</td>\n",
       "    </tr>\n",
       "    <tr>\n",
       "      <th>LemasSwFTPerPop</th>\n",
       "      <td>-0.044982</td>\n",
       "    </tr>\n",
       "    <tr>\n",
       "      <th>pctWPubAsst</th>\n",
       "      <td>-0.043175</td>\n",
       "    </tr>\n",
       "    <tr>\n",
       "      <th>PctHousOccup</th>\n",
       "      <td>-0.038288</td>\n",
       "    </tr>\n",
       "    <tr>\n",
       "      <th>indianPerCap</th>\n",
       "      <td>-0.038079</td>\n",
       "    </tr>\n",
       "    <tr>\n",
       "      <th>TotalPctDiv</th>\n",
       "      <td>-0.034144</td>\n",
       "    </tr>\n",
       "    <tr>\n",
       "      <th>PctSpeakEnglOnly</th>\n",
       "      <td>-0.027402</td>\n",
       "    </tr>\n",
       "    <tr>\n",
       "      <th>MedYrHousBuilt</th>\n",
       "      <td>-0.025540</td>\n",
       "    </tr>\n",
       "    <tr>\n",
       "      <th>blackPerCap</th>\n",
       "      <td>-0.022246</td>\n",
       "    </tr>\n",
       "    <tr>\n",
       "      <th>LemasSwFTFieldPerPop</th>\n",
       "      <td>-0.017718</td>\n",
       "    </tr>\n",
       "    <tr>\n",
       "      <th>racePctAsian</th>\n",
       "      <td>-0.015647</td>\n",
       "    </tr>\n",
       "    <tr>\n",
       "      <th>PctWOFullPlumb</th>\n",
       "      <td>-0.010754</td>\n",
       "    </tr>\n",
       "    <tr>\n",
       "      <th>OfficAssgnDrugUnits</th>\n",
       "      <td>-0.010472</td>\n",
       "    </tr>\n",
       "    <tr>\n",
       "      <th>LemasSwFTFieldOps</th>\n",
       "      <td>-0.008928</td>\n",
       "    </tr>\n",
       "    <tr>\n",
       "      <th>LemasSwornFT</th>\n",
       "      <td>-0.007840</td>\n",
       "    </tr>\n",
       "    <tr>\n",
       "      <th>LemasTotalReq</th>\n",
       "      <td>-0.007697</td>\n",
       "    </tr>\n",
       "    <tr>\n",
       "      <th>PctUnemployed</th>\n",
       "      <td>-0.007248</td>\n",
       "    </tr>\n",
       "    <tr>\n",
       "      <th>PolicBudgPerPop</th>\n",
       "      <td>-0.005137</td>\n",
       "    </tr>\n",
       "    <tr>\n",
       "      <th>PctPolicMinor</th>\n",
       "      <td>-0.004692</td>\n",
       "    </tr>\n",
       "    <tr>\n",
       "      <th>NumKindsDrugsSeiz</th>\n",
       "      <td>-0.004258</td>\n",
       "    </tr>\n",
       "    <tr>\n",
       "      <th>agePct16t24</th>\n",
       "      <td>-0.002479</td>\n",
       "    </tr>\n",
       "    <tr>\n",
       "      <th>fold</th>\n",
       "      <td>-0.001729</td>\n",
       "    </tr>\n",
       "    <tr>\n",
       "      <th>RacialMatchCommPol</th>\n",
       "      <td>-0.001213</td>\n",
       "    </tr>\n",
       "    <tr>\n",
       "      <th>PolicCars</th>\n",
       "      <td>-0.000522</td>\n",
       "    </tr>\n",
       "    <tr>\n",
       "      <th>PolicAveOTWorked</th>\n",
       "      <td>-0.000497</td>\n",
       "    </tr>\n",
       "    <tr>\n",
       "      <th>PolicReqPerOffic</th>\n",
       "      <td>-0.000400</td>\n",
       "    </tr>\n",
       "    <tr>\n",
       "      <th>state</th>\n",
       "      <td>-0.000387</td>\n",
       "    </tr>\n",
       "    <tr>\n",
       "      <th>communityname</th>\n",
       "      <td>-0.000009</td>\n",
       "    </tr>\n",
       "    <tr>\n",
       "      <th>community</th>\n",
       "      <td>0.000004</td>\n",
       "    </tr>\n",
       "    <tr>\n",
       "      <th>county</th>\n",
       "      <td>0.000154</td>\n",
       "    </tr>\n",
       "    <tr>\n",
       "      <th>OtherPerCap</th>\n",
       "      <td>0.000261</td>\n",
       "    </tr>\n",
       "    <tr>\n",
       "      <th>PctPolicWhite</th>\n",
       "      <td>0.000471</td>\n",
       "    </tr>\n",
       "    <tr>\n",
       "      <th>LemasPctPolicOnPatr</th>\n",
       "      <td>0.001387</td>\n",
       "    </tr>\n",
       "    <tr>\n",
       "      <th>PctPolicAsian</th>\n",
       "      <td>0.001755</td>\n",
       "    </tr>\n",
       "    <tr>\n",
       "      <th>PctPolicBlack</th>\n",
       "      <td>0.004503</td>\n",
       "    </tr>\n",
       "    <tr>\n",
       "      <th>PctPolicHisp</th>\n",
       "      <td>0.005308</td>\n",
       "    </tr>\n",
       "    <tr>\n",
       "      <th>LemasTotReqPerPop</th>\n",
       "      <td>0.005929</td>\n",
       "    </tr>\n",
       "    <tr>\n",
       "      <th>PctRecImmig5</th>\n",
       "      <td>0.006752</td>\n",
       "    </tr>\n",
       "    <tr>\n",
       "      <th>PopDens</th>\n",
       "      <td>0.010127</td>\n",
       "    </tr>\n",
       "    <tr>\n",
       "      <th>AsianPerCap</th>\n",
       "      <td>0.013933</td>\n",
       "    </tr>\n",
       "    <tr>\n",
       "      <th>PctSameCity85</th>\n",
       "      <td>0.013939</td>\n",
       "    </tr>\n",
       "    <tr>\n",
       "      <th>PolicOperBudg</th>\n",
       "      <td>0.014033</td>\n",
       "    </tr>\n",
       "    <tr>\n",
       "      <th>PctNotHSGrad</th>\n",
       "      <td>0.014836</td>\n",
       "    </tr>\n",
       "    <tr>\n",
       "      <th>PctFam2Par</th>\n",
       "      <td>0.016917</td>\n",
       "    </tr>\n",
       "    <tr>\n",
       "      <th>pctUrban</th>\n",
       "      <td>0.017122</td>\n",
       "    </tr>\n",
       "    <tr>\n",
       "      <th>PctBornSameState</th>\n",
       "      <td>0.018880</td>\n",
       "    </tr>\n",
       "    <tr>\n",
       "      <th>racePctWhite</th>\n",
       "      <td>0.019371</td>\n",
       "    </tr>\n",
       "    <tr>\n",
       "      <th>LemasPctOfficDrugUn</th>\n",
       "      <td>0.020118</td>\n",
       "    </tr>\n",
       "    <tr>\n",
       "      <th>LemasGangUnitDeploy</th>\n",
       "      <td>0.027012</td>\n",
       "    </tr>\n",
       "    <tr>\n",
       "      <th>MedRentPctHousInc</th>\n",
       "      <td>0.033403</td>\n",
       "    </tr>\n",
       "    <tr>\n",
       "      <th>PctVacantBoarded</th>\n",
       "      <td>0.033464</td>\n",
       "    </tr>\n",
       "    <tr>\n",
       "      <th>PctTeen2Par</th>\n",
       "      <td>0.033798</td>\n",
       "    </tr>\n",
       "    <tr>\n",
       "      <th>racePctHisp</th>\n",
       "      <td>0.038648</td>\n",
       "    </tr>\n",
       "    <tr>\n",
       "      <th>pctWFarmSelf</th>\n",
       "      <td>0.040357</td>\n",
       "    </tr>\n",
       "    <tr>\n",
       "      <th>PctOccupManu</th>\n",
       "      <td>0.041290</td>\n",
       "    </tr>\n",
       "    <tr>\n",
       "      <th>MedNumBR</th>\n",
       "      <td>0.041891</td>\n",
       "    </tr>\n",
       "    <tr>\n",
       "      <th>PctWorkMomYoungKids</th>\n",
       "      <td>0.042906</td>\n",
       "    </tr>\n",
       "    <tr>\n",
       "      <th>RentMedian</th>\n",
       "      <td>0.044726</td>\n",
       "    </tr>\n",
       "    <tr>\n",
       "      <th>PctHousNoPhone</th>\n",
       "      <td>0.047438</td>\n",
       "    </tr>\n",
       "    <tr>\n",
       "      <th>HispPerCap</th>\n",
       "      <td>0.049533</td>\n",
       "    </tr>\n",
       "    <tr>\n",
       "      <th>PctSameState85</th>\n",
       "      <td>0.054612</td>\n",
       "    </tr>\n",
       "    <tr>\n",
       "      <th>PctImmigRecent</th>\n",
       "      <td>0.054999</td>\n",
       "    </tr>\n",
       "    <tr>\n",
       "      <th>LandArea</th>\n",
       "      <td>0.060514</td>\n",
       "    </tr>\n",
       "    <tr>\n",
       "      <th>PctImmigRec5</th>\n",
       "      <td>0.062046</td>\n",
       "    </tr>\n",
       "    <tr>\n",
       "      <th>HousVacant</th>\n",
       "      <td>0.063412</td>\n",
       "    </tr>\n",
       "    <tr>\n",
       "      <th>PolicPerPop</th>\n",
       "      <td>0.065524</td>\n",
       "    </tr>\n",
       "    <tr>\n",
       "      <th>PctHousLess3BR</th>\n",
       "      <td>0.076980</td>\n",
       "    </tr>\n",
       "    <tr>\n",
       "      <th>pctWSocSec</th>\n",
       "      <td>0.081010</td>\n",
       "    </tr>\n",
       "    <tr>\n",
       "      <th>PctBSorMore</th>\n",
       "      <td>0.088470</td>\n",
       "    </tr>\n",
       "    <tr>\n",
       "      <th>PctImmigRec10</th>\n",
       "      <td>0.090504</td>\n",
       "    </tr>\n",
       "    <tr>\n",
       "      <th>householdsize</th>\n",
       "      <td>0.091535</td>\n",
       "    </tr>\n",
       "    <tr>\n",
       "      <th>agePct65up</th>\n",
       "      <td>0.100553</td>\n",
       "    </tr>\n",
       "    <tr>\n",
       "      <th>MalePctDivorce</th>\n",
       "      <td>0.121524</td>\n",
       "    </tr>\n",
       "    <tr>\n",
       "      <th>NumStreet</th>\n",
       "      <td>0.132147</td>\n",
       "    </tr>\n",
       "    <tr>\n",
       "      <th>medFamInc</th>\n",
       "      <td>0.132172</td>\n",
       "    </tr>\n",
       "    <tr>\n",
       "      <th>PctOccupMgmtProf</th>\n",
       "      <td>0.158881</td>\n",
       "    </tr>\n",
       "    <tr>\n",
       "      <th>NumInShelters</th>\n",
       "      <td>0.163691</td>\n",
       "    </tr>\n",
       "    <tr>\n",
       "      <th>PersPerFam</th>\n",
       "      <td>0.176394</td>\n",
       "    </tr>\n",
       "    <tr>\n",
       "      <th>PctIlleg</th>\n",
       "      <td>0.180055</td>\n",
       "    </tr>\n",
       "    <tr>\n",
       "      <th>PctLargHouseOccup</th>\n",
       "      <td>0.211771</td>\n",
       "    </tr>\n",
       "    <tr>\n",
       "      <th>PctForeignBorn</th>\n",
       "      <td>0.232778</td>\n",
       "    </tr>\n",
       "    <tr>\n",
       "      <th>racepctblack</th>\n",
       "      <td>0.237171</td>\n",
       "    </tr>\n",
       "    <tr>\n",
       "      <th>PctEmploy</th>\n",
       "      <td>0.249051</td>\n",
       "    </tr>\n",
       "    <tr>\n",
       "      <th>MalePctNevMarr</th>\n",
       "      <td>0.254826</td>\n",
       "    </tr>\n",
       "    <tr>\n",
       "      <th>PctPersDenseHous</th>\n",
       "      <td>0.302944</td>\n",
       "    </tr>\n",
       "    <tr>\n",
       "      <th>MedRent</th>\n",
       "      <td>0.304537</td>\n",
       "    </tr>\n",
       "    <tr>\n",
       "      <th>PersPerOccupHous</th>\n",
       "      <td>0.340728</td>\n",
       "    </tr>\n",
       "    <tr>\n",
       "      <th>numbUrban</th>\n",
       "      <td>0.370201</td>\n",
       "    </tr>\n",
       "    <tr>\n",
       "      <th>NumUnderPov</th>\n",
       "      <td>0.519326</td>\n",
       "    </tr>\n",
       "    <tr>\n",
       "      <th>PctRecImmig8</th>\n",
       "      <td>0.558719</td>\n",
       "    </tr>\n",
       "    <tr>\n",
       "      <th>perCapInc</th>\n",
       "      <td>0.585861</td>\n",
       "    </tr>\n",
       "    <tr>\n",
       "      <th>OwnOccMedVal</th>\n",
       "      <td>0.605142</td>\n",
       "    </tr>\n",
       "    <tr>\n",
       "      <th>PctHousOwnOcc</th>\n",
       "      <td>0.628759</td>\n",
       "    </tr>\n",
       "  </tbody>\n",
       "</table>\n",
       "</div>"
      ],
      "text/plain": [
       "                       Coefficients\n",
       "whitePerCap               -0.812929\n",
       "PctPersOwnOccup           -0.702511\n",
       "OwnOccLowQuart            -0.564148\n",
       "population                -0.462064\n",
       "PctRecImmig10             -0.449782\n",
       "NumIlleg                  -0.435485\n",
       "PctKids2Par               -0.409582\n",
       "PctLargHouseFam           -0.397716\n",
       "RentLowQ                  -0.282177\n",
       "PctPopUnderPov            -0.259811\n",
       "PersPerRentOccHous        -0.243170\n",
       "NumImmig                  -0.234386\n",
       "agePct12t29               -0.225794\n",
       "PctNotSpeakEnglWell       -0.221498\n",
       "pctWWage                  -0.212296\n",
       "pctWInvInc                -0.179375\n",
       "PctImmigRec8              -0.170693\n",
       "PctWorkMom                -0.142949\n",
       "PctRecentImmig            -0.128839\n",
       "PctYoungKids2Par          -0.117119\n",
       "OwnOccHiQuart             -0.097262\n",
       "medIncome                 -0.094946\n",
       "PctEmplProfServ           -0.088960\n",
       "FemalePctDiv              -0.085276\n",
       "PctEmplManu               -0.082955\n",
       "PctLess9thGrade           -0.081558\n",
       "MedOwnCostPctInc          -0.073643\n",
       "pctWRetire                -0.071079\n",
       "agePct12t21               -0.071077\n",
       "PersPerOwnOccHous         -0.070268\n",
       "PctUsePubTrans            -0.068506\n",
       "PctSameHouse85            -0.067928\n",
       "PctVacMore6Mos            -0.059790\n",
       "RentHighQ                 -0.053582\n",
       "MedOwnCostPctIncNoMtg     -0.051012\n",
       "LemasSwFTPerPop           -0.044982\n",
       "pctWPubAsst               -0.043175\n",
       "PctHousOccup              -0.038288\n",
       "indianPerCap              -0.038079\n",
       "TotalPctDiv               -0.034144\n",
       "PctSpeakEnglOnly          -0.027402\n",
       "MedYrHousBuilt            -0.025540\n",
       "blackPerCap               -0.022246\n",
       "LemasSwFTFieldPerPop      -0.017718\n",
       "racePctAsian              -0.015647\n",
       "PctWOFullPlumb            -0.010754\n",
       "OfficAssgnDrugUnits       -0.010472\n",
       "LemasSwFTFieldOps         -0.008928\n",
       "LemasSwornFT              -0.007840\n",
       "LemasTotalReq             -0.007697\n",
       "PctUnemployed             -0.007248\n",
       "PolicBudgPerPop           -0.005137\n",
       "PctPolicMinor             -0.004692\n",
       "NumKindsDrugsSeiz         -0.004258\n",
       "agePct16t24               -0.002479\n",
       "fold                      -0.001729\n",
       "RacialMatchCommPol        -0.001213\n",
       "PolicCars                 -0.000522\n",
       "PolicAveOTWorked          -0.000497\n",
       "PolicReqPerOffic          -0.000400\n",
       "state                     -0.000387\n",
       "communityname             -0.000009\n",
       "community                  0.000004\n",
       "county                     0.000154\n",
       "OtherPerCap                0.000261\n",
       "PctPolicWhite              0.000471\n",
       "LemasPctPolicOnPatr        0.001387\n",
       "PctPolicAsian              0.001755\n",
       "PctPolicBlack              0.004503\n",
       "PctPolicHisp               0.005308\n",
       "LemasTotReqPerPop          0.005929\n",
       "PctRecImmig5               0.006752\n",
       "PopDens                    0.010127\n",
       "AsianPerCap                0.013933\n",
       "PctSameCity85              0.013939\n",
       "PolicOperBudg              0.014033\n",
       "PctNotHSGrad               0.014836\n",
       "PctFam2Par                 0.016917\n",
       "pctUrban                   0.017122\n",
       "PctBornSameState           0.018880\n",
       "racePctWhite               0.019371\n",
       "LemasPctOfficDrugUn        0.020118\n",
       "LemasGangUnitDeploy        0.027012\n",
       "MedRentPctHousInc          0.033403\n",
       "PctVacantBoarded           0.033464\n",
       "PctTeen2Par                0.033798\n",
       "racePctHisp                0.038648\n",
       "pctWFarmSelf               0.040357\n",
       "PctOccupManu               0.041290\n",
       "MedNumBR                   0.041891\n",
       "PctWorkMomYoungKids        0.042906\n",
       "RentMedian                 0.044726\n",
       "PctHousNoPhone             0.047438\n",
       "HispPerCap                 0.049533\n",
       "PctSameState85             0.054612\n",
       "PctImmigRecent             0.054999\n",
       "LandArea                   0.060514\n",
       "PctImmigRec5               0.062046\n",
       "HousVacant                 0.063412\n",
       "PolicPerPop                0.065524\n",
       "PctHousLess3BR             0.076980\n",
       "pctWSocSec                 0.081010\n",
       "PctBSorMore                0.088470\n",
       "PctImmigRec10              0.090504\n",
       "householdsize              0.091535\n",
       "agePct65up                 0.100553\n",
       "MalePctDivorce             0.121524\n",
       "NumStreet                  0.132147\n",
       "medFamInc                  0.132172\n",
       "PctOccupMgmtProf           0.158881\n",
       "NumInShelters              0.163691\n",
       "PersPerFam                 0.176394\n",
       "PctIlleg                   0.180055\n",
       "PctLargHouseOccup          0.211771\n",
       "PctForeignBorn             0.232778\n",
       "racepctblack               0.237171\n",
       "PctEmploy                  0.249051\n",
       "MalePctNevMarr             0.254826\n",
       "PctPersDenseHous           0.302944\n",
       "MedRent                    0.304537\n",
       "PersPerOccupHous           0.340728\n",
       "numbUrban                  0.370201\n",
       "NumUnderPov                0.519326\n",
       "PctRecImmig8               0.558719\n",
       "perCapInc                  0.585861\n",
       "OwnOccMedVal               0.605142\n",
       "PctHousOwnOcc              0.628759"
      ]
     },
     "execution_count": 30,
     "metadata": {},
     "output_type": "execute_result"
    }
   ],
   "source": [
    "#Report the weights (coefficients) of the linear model and their associated features in ascending order.\n",
    "pd.set_option('display.max_rows', None)\n",
    "coedf = pd.DataFrame(reg_model.coef_, X_CRIME_valid_set.columns, columns=['Coefficients'])\n",
    "coedf.sort_values(by=['Coefficients'],ascending=True)\n",
    "pd.set_option('display.max_rows', 15)"
   ]
  },
  {
   "cell_type": "code",
   "execution_count": 18,
   "id": "761d254c",
   "metadata": {},
   "outputs": [
    {
     "data": {
      "text/plain": [
       "\"\\nPerform principal component analysis on the training data. You may use Scikit-learn's PCA function for this, \\nwhich automatically centers the data prior to PCA. Using PCA, choose the number of components for \\nwhich the total explained variance is ≥99%, and report this.\\n\""
      ]
     },
     "execution_count": 18,
     "metadata": {},
     "output_type": "execute_result"
    },
    {
     "data": {
      "text/html": [
       "<style>#sk-container-id-3 {color: black;background-color: white;}#sk-container-id-3 pre{padding: 0;}#sk-container-id-3 div.sk-toggleable {background-color: white;}#sk-container-id-3 label.sk-toggleable__label {cursor: pointer;display: block;width: 100%;margin-bottom: 0;padding: 0.3em;box-sizing: border-box;text-align: center;}#sk-container-id-3 label.sk-toggleable__label-arrow:before {content: \"▸\";float: left;margin-right: 0.25em;color: #696969;}#sk-container-id-3 label.sk-toggleable__label-arrow:hover:before {color: black;}#sk-container-id-3 div.sk-estimator:hover label.sk-toggleable__label-arrow:before {color: black;}#sk-container-id-3 div.sk-toggleable__content {max-height: 0;max-width: 0;overflow: hidden;text-align: left;background-color: #f0f8ff;}#sk-container-id-3 div.sk-toggleable__content pre {margin: 0.2em;color: black;border-radius: 0.25em;background-color: #f0f8ff;}#sk-container-id-3 input.sk-toggleable__control:checked~div.sk-toggleable__content {max-height: 200px;max-width: 100%;overflow: auto;}#sk-container-id-3 input.sk-toggleable__control:checked~label.sk-toggleable__label-arrow:before {content: \"▾\";}#sk-container-id-3 div.sk-estimator input.sk-toggleable__control:checked~label.sk-toggleable__label {background-color: #d4ebff;}#sk-container-id-3 div.sk-label input.sk-toggleable__control:checked~label.sk-toggleable__label {background-color: #d4ebff;}#sk-container-id-3 input.sk-hidden--visually {border: 0;clip: rect(1px 1px 1px 1px);clip: rect(1px, 1px, 1px, 1px);height: 1px;margin: -1px;overflow: hidden;padding: 0;position: absolute;width: 1px;}#sk-container-id-3 div.sk-estimator {font-family: monospace;background-color: #f0f8ff;border: 1px dotted black;border-radius: 0.25em;box-sizing: border-box;margin-bottom: 0.5em;}#sk-container-id-3 div.sk-estimator:hover {background-color: #d4ebff;}#sk-container-id-3 div.sk-parallel-item::after {content: \"\";width: 100%;border-bottom: 1px solid gray;flex-grow: 1;}#sk-container-id-3 div.sk-label:hover label.sk-toggleable__label {background-color: #d4ebff;}#sk-container-id-3 div.sk-serial::before {content: \"\";position: absolute;border-left: 1px solid gray;box-sizing: border-box;top: 0;bottom: 0;left: 50%;z-index: 0;}#sk-container-id-3 div.sk-serial {display: flex;flex-direction: column;align-items: center;background-color: white;padding-right: 0.2em;padding-left: 0.2em;position: relative;}#sk-container-id-3 div.sk-item {position: relative;z-index: 1;}#sk-container-id-3 div.sk-parallel {display: flex;align-items: stretch;justify-content: center;background-color: white;position: relative;}#sk-container-id-3 div.sk-item::before, #sk-container-id-3 div.sk-parallel-item::before {content: \"\";position: absolute;border-left: 1px solid gray;box-sizing: border-box;top: 0;bottom: 0;left: 50%;z-index: -1;}#sk-container-id-3 div.sk-parallel-item {display: flex;flex-direction: column;z-index: 1;position: relative;background-color: white;}#sk-container-id-3 div.sk-parallel-item:first-child::after {align-self: flex-end;width: 50%;}#sk-container-id-3 div.sk-parallel-item:last-child::after {align-self: flex-start;width: 50%;}#sk-container-id-3 div.sk-parallel-item:only-child::after {width: 0;}#sk-container-id-3 div.sk-dashed-wrapped {border: 1px dashed gray;margin: 0 0.4em 0.5em 0.4em;box-sizing: border-box;padding-bottom: 0.4em;background-color: white;}#sk-container-id-3 div.sk-label label {font-family: monospace;font-weight: bold;display: inline-block;line-height: 1.2em;}#sk-container-id-3 div.sk-label-container {text-align: center;}#sk-container-id-3 div.sk-container {/* jupyter's `normalize.less` sets `[hidden] { display: none; }` but bootstrap.min.css set `[hidden] { display: none !important; }` so we also need the `!important` here to be able to override the default hidden behavior on the sphinx rendered scikit-learn.org. See: https://github.com/scikit-learn/scikit-learn/issues/21755 */display: inline-block !important;position: relative;}#sk-container-id-3 div.sk-text-repr-fallback {display: none;}</style><div id=\"sk-container-id-3\" class=\"sk-top-container\"><div class=\"sk-text-repr-fallback\"><pre>PCA(n_components=0.99)</pre><b>In a Jupyter environment, please rerun this cell to show the HTML representation or trust the notebook. <br />On GitHub, the HTML representation is unable to render, please try loading this page with nbviewer.org.</b></div><div class=\"sk-container\" hidden><div class=\"sk-item\"><div class=\"sk-estimator sk-toggleable\"><input class=\"sk-toggleable__control sk-hidden--visually\" id=\"sk-estimator-id-3\" type=\"checkbox\" checked><label for=\"sk-estimator-id-3\" class=\"sk-toggleable__label sk-toggleable__label-arrow\">PCA</label><div class=\"sk-toggleable__content\"><pre>PCA(n_components=0.99)</pre></div></div></div></div></div>"
      ],
      "text/plain": [
       "PCA(n_components=0.99)"
      ]
     },
     "execution_count": 18,
     "metadata": {},
     "output_type": "execute_result"
    },
    {
     "name": "stdout",
     "output_type": "stream",
     "text": [
      "69\n"
     ]
    }
   ],
   "source": [
    "#2.3 Linear Regression and PCA\n",
    "'''\n",
    "Perform principal component analysis on the training data. You may use Scikit-learn's PCA function for this, \n",
    "which automatically centers the data prior to PCA. Using PCA, choose the number of components for \n",
    "which the total explained variance is ≥99%, and report this.\n",
    "'''\n",
    "from sklearn.decomposition import PCA\n",
    "from sklearn.preprocessing import MinMaxScaler\n",
    "\n",
    "PCA_CRIME_train_set = CRIME_train_set.copy()\n",
    "MMscaler = MinMaxScaler()\n",
    "PCA_CRIME_train_set_rescaled = MMscaler.fit_transform(PCA_CRIME_train_set)\n",
    "\n",
    "pca = PCA(n_components = 0.99)\n",
    "pca.fit(PCA_CRIME_train_set_rescaled)\n",
    "reduced = pca.transform(PCA_CRIME_train_set_rescaled)\n",
    "print(pca.n_components_)"
   ]
  },
  {
   "cell_type": "code",
   "execution_count": 19,
   "id": "1a605f3d",
   "metadata": {
    "scrolled": true
   },
   "outputs": [
    {
     "data": {
      "text/plain": [
       "(0.0, 1.1)"
      ]
     },
     "execution_count": 19,
     "metadata": {},
     "output_type": "execute_result"
    },
    {
     "data": {
      "text/plain": [
       "[<matplotlib.lines.Line2D at 0x29f4d47cb80>]"
      ]
     },
     "execution_count": 19,
     "metadata": {},
     "output_type": "execute_result"
    },
    {
     "data": {
      "text/plain": [
       "Text(0.5, 0, 'Number of Components')"
      ]
     },
     "execution_count": 19,
     "metadata": {},
     "output_type": "execute_result"
    },
    {
     "data": {
      "text/plain": [
       "([<matplotlib.axis.XTick at 0x29f50d8d5e0>,\n",
       "  <matplotlib.axis.XTick at 0x29f4d4a10a0>,\n",
       "  <matplotlib.axis.XTick at 0x29f4d415af0>,\n",
       "  <matplotlib.axis.XTick at 0x29f4d970400>,\n",
       "  <matplotlib.axis.XTick at 0x29f4d970a00>,\n",
       "  <matplotlib.axis.XTick at 0x29f4d96e040>,\n",
       "  <matplotlib.axis.XTick at 0x29f4d96e640>,\n",
       "  <matplotlib.axis.XTick at 0x29f4d96ed90>,\n",
       "  <matplotlib.axis.XTick at 0x29f4d979520>,\n",
       "  <matplotlib.axis.XTick at 0x29f4d979c70>,\n",
       "  <matplotlib.axis.XTick at 0x29f4d979d60>,\n",
       "  <matplotlib.axis.XTick at 0x29f4d96edc0>,\n",
       "  <matplotlib.axis.XTick at 0x29f4d970af0>,\n",
       "  <matplotlib.axis.XTick at 0x29f4d9806d0>,\n",
       "  <matplotlib.axis.XTick at 0x29f4d980e20>,\n",
       "  <matplotlib.axis.XTick at 0x29f4d9895b0>,\n",
       "  <matplotlib.axis.XTick at 0x29f4d989d00>,\n",
       "  <matplotlib.axis.XTick at 0x29f4d989880>,\n",
       "  <matplotlib.axis.XTick at 0x29f4d980790>,\n",
       "  <matplotlib.axis.XTick at 0x29f4d98d340>,\n",
       "  <matplotlib.axis.XTick at 0x29f4d98d9a0>,\n",
       "  <matplotlib.axis.XTick at 0x29f4d995130>,\n",
       "  <matplotlib.axis.XTick at 0x29f4d995880>,\n",
       "  <matplotlib.axis.XTick at 0x29f4d99e0a0>,\n",
       "  <matplotlib.axis.XTick at 0x29f4d995970>,\n",
       "  <matplotlib.axis.XTick at 0x29f4d9798e0>,\n",
       "  <matplotlib.axis.XTick at 0x29f4d99e100>,\n",
       "  <matplotlib.axis.XTick at 0x29f4d99eb50>,\n",
       "  <matplotlib.axis.XTick at 0x29f4d9a52e0>,\n",
       "  <matplotlib.axis.XTick at 0x29f4d9a5a30>,\n",
       "  <matplotlib.axis.XTick at 0x29f4d9aa1c0>,\n",
       "  <matplotlib.axis.XTick at 0x29f4d9a56d0>,\n",
       "  <matplotlib.axis.XTick at 0x29f4d3b33a0>,\n",
       "  <matplotlib.axis.XTick at 0x29f4d9aa5b0>,\n",
       "  <matplotlib.axis.XTick at 0x29f4d9aad00>,\n",
       "  <matplotlib.axis.XTick at 0x29f4d9b3490>,\n",
       "  <matplotlib.axis.XTick at 0x29f4d9b3be0>,\n",
       "  <matplotlib.axis.XTick at 0x29f4d9b3bb0>,\n",
       "  <matplotlib.axis.XTick at 0x29f4d9aadf0>,\n",
       "  <matplotlib.axis.XTick at 0x29f4d9a53a0>,\n",
       "  <matplotlib.axis.XTick at 0x29f4d9b9820>,\n",
       "  <matplotlib.axis.XTick at 0x29f4d9c1040>,\n",
       "  <matplotlib.axis.XTick at 0x29f4d9c1700>,\n",
       "  <matplotlib.axis.XTick at 0x29f4d9c1e50>,\n",
       "  <matplotlib.axis.XTick at 0x29f4d9c19d0>,\n",
       "  <matplotlib.axis.XTick at 0x29f4d9b98e0>,\n",
       "  <matplotlib.axis.XTick at 0x29f4d9c6490>,\n",
       "  <matplotlib.axis.XTick at 0x29f4d9c6af0>,\n",
       "  <matplotlib.axis.XTick at 0x29f4d9cf280>,\n",
       "  <matplotlib.axis.XTick at 0x29f4d9cf9d0>,\n",
       "  <matplotlib.axis.XTick at 0x29f4d9d5160>,\n",
       "  <matplotlib.axis.XTick at 0x29f4d9cfa00>,\n",
       "  <matplotlib.axis.XTick at 0x29f4d9c6640>,\n",
       "  <matplotlib.axis.XTick at 0x29f4d9d5130>,\n",
       "  <matplotlib.axis.XTick at 0x29f4d9d5ca0>,\n",
       "  <matplotlib.axis.XTick at 0x29f4d9dd430>,\n",
       "  <matplotlib.axis.XTick at 0x29f4d9ddb80>,\n",
       "  <matplotlib.axis.XTick at 0x29f4dce2310>,\n",
       "  <matplotlib.axis.XTick at 0x29f4d9dd700>,\n",
       "  <matplotlib.axis.XTick at 0x29f4d9b39a0>,\n",
       "  <matplotlib.axis.XTick at 0x29f4dce2700>,\n",
       "  <matplotlib.axis.XTick at 0x29f4dce2e50>,\n",
       "  <matplotlib.axis.XTick at 0x29f4dceb5e0>,\n",
       "  <matplotlib.axis.XTick at 0x29f4dcebd30>,\n",
       "  <matplotlib.axis.XTick at 0x29f4dcebca0>,\n",
       "  <matplotlib.axis.XTick at 0x29f4dce2eb0>,\n",
       "  <matplotlib.axis.XTick at 0x29f4d9dd460>,\n",
       "  <matplotlib.axis.XTick at 0x29f4dcf1940>,\n",
       "  <matplotlib.axis.XTick at 0x29f4dcf80d0>,\n",
       "  <matplotlib.axis.XTick at 0x29f4dcf8820>],\n",
       " [Text(0, 0, ''),\n",
       "  Text(0, 0, ''),\n",
       "  Text(0, 0, ''),\n",
       "  Text(0, 0, ''),\n",
       "  Text(0, 0, ''),\n",
       "  Text(0, 0, ''),\n",
       "  Text(0, 0, ''),\n",
       "  Text(0, 0, ''),\n",
       "  Text(0, 0, ''),\n",
       "  Text(0, 0, ''),\n",
       "  Text(0, 0, ''),\n",
       "  Text(0, 0, ''),\n",
       "  Text(0, 0, ''),\n",
       "  Text(0, 0, ''),\n",
       "  Text(0, 0, ''),\n",
       "  Text(0, 0, ''),\n",
       "  Text(0, 0, ''),\n",
       "  Text(0, 0, ''),\n",
       "  Text(0, 0, ''),\n",
       "  Text(0, 0, ''),\n",
       "  Text(0, 0, ''),\n",
       "  Text(0, 0, ''),\n",
       "  Text(0, 0, ''),\n",
       "  Text(0, 0, ''),\n",
       "  Text(0, 0, ''),\n",
       "  Text(0, 0, ''),\n",
       "  Text(0, 0, ''),\n",
       "  Text(0, 0, ''),\n",
       "  Text(0, 0, ''),\n",
       "  Text(0, 0, ''),\n",
       "  Text(0, 0, ''),\n",
       "  Text(0, 0, ''),\n",
       "  Text(0, 0, ''),\n",
       "  Text(0, 0, ''),\n",
       "  Text(0, 0, ''),\n",
       "  Text(0, 0, ''),\n",
       "  Text(0, 0, ''),\n",
       "  Text(0, 0, ''),\n",
       "  Text(0, 0, ''),\n",
       "  Text(0, 0, ''),\n",
       "  Text(0, 0, ''),\n",
       "  Text(0, 0, ''),\n",
       "  Text(0, 0, ''),\n",
       "  Text(0, 0, ''),\n",
       "  Text(0, 0, ''),\n",
       "  Text(0, 0, ''),\n",
       "  Text(0, 0, ''),\n",
       "  Text(0, 0, ''),\n",
       "  Text(0, 0, ''),\n",
       "  Text(0, 0, ''),\n",
       "  Text(0, 0, ''),\n",
       "  Text(0, 0, ''),\n",
       "  Text(0, 0, ''),\n",
       "  Text(0, 0, ''),\n",
       "  Text(0, 0, ''),\n",
       "  Text(0, 0, ''),\n",
       "  Text(0, 0, ''),\n",
       "  Text(0, 0, ''),\n",
       "  Text(0, 0, ''),\n",
       "  Text(0, 0, ''),\n",
       "  Text(0, 0, ''),\n",
       "  Text(0, 0, ''),\n",
       "  Text(0, 0, ''),\n",
       "  Text(0, 0, ''),\n",
       "  Text(0, 0, ''),\n",
       "  Text(0, 0, ''),\n",
       "  Text(0, 0, ''),\n",
       "  Text(0, 0, ''),\n",
       "  Text(0, 0, ''),\n",
       "  Text(0, 0, '')])"
      ]
     },
     "execution_count": 19,
     "metadata": {},
     "output_type": "execute_result"
    },
    {
     "data": {
      "text/plain": [
       "Text(0, 0.5, 'Cumulative variance (%)')"
      ]
     },
     "execution_count": 19,
     "metadata": {},
     "output_type": "execute_result"
    },
    {
     "data": {
      "text/plain": [
       "Text(0.5, 1.0, 'The number of components needed to explain variance')"
      ]
     },
     "execution_count": 19,
     "metadata": {},
     "output_type": "execute_result"
    },
    {
     "data": {
      "text/plain": [
       "<matplotlib.lines.Line2D at 0x29f4d4199d0>"
      ]
     },
     "execution_count": 19,
     "metadata": {},
     "output_type": "execute_result"
    },
    {
     "data": {
      "text/plain": [
       "Text(0.5, 0.85, '99% cut-off threshold')"
      ]
     },
     "execution_count": 19,
     "metadata": {},
     "output_type": "execute_result"
    },
    {
     "data": {
      "image/png": "[encoded data removed]",
      "text/plain": [
       "<Figure size 1200x600 with 1 Axes>"
      ]
     },
     "metadata": {},
     "output_type": "display_data"
    }
   ],
   "source": [
    "plt.rcParams[\"figure.figsize\"] = (12,6)\n",
    "\n",
    "fig, ax = plt.subplots()\n",
    "xi = np.arange(1, 70, step=1)\n",
    "y = np.cumsum(pca.explained_variance_ratio_)\n",
    "\n",
    "plt.ylim(0.0,1.1)\n",
    "plt.plot(xi, y, marker='o', linestyle='--', color='b')\n",
    "\n",
    "plt.xlabel('Number of Components')\n",
    "plt.xticks(np.arange(0, 70, step=1),rotation = 90) #change from 0-based array index to 1-based human-readable label\n",
    "plt.ylabel('Cumulative variance (%)')\n",
    "plt.title('The number of components needed to explain variance')\n",
    "\n",
    "plt.axhline(y=0.99, color='r', linestyle='-')\n",
    "plt.text(0.5, 0.85, '99% cut-off threshold', color = 'red', fontsize=16)\n",
    "\n",
    "ax.grid(axis='x')\n",
    "plt.show()"
   ]
  },
  {
   "cell_type": "code",
   "execution_count": 20,
   "id": "ea7cd998",
   "metadata": {},
   "outputs": [
    {
     "data": {
      "text/html": [
       "<style>#sk-container-id-4 {color: black;background-color: white;}#sk-container-id-4 pre{padding: 0;}#sk-container-id-4 div.sk-toggleable {background-color: white;}#sk-container-id-4 label.sk-toggleable__label {cursor: pointer;display: block;width: 100%;margin-bottom: 0;padding: 0.3em;box-sizing: border-box;text-align: center;}#sk-container-id-4 label.sk-toggleable__label-arrow:before {content: \"▸\";float: left;margin-right: 0.25em;color: #696969;}#sk-container-id-4 label.sk-toggleable__label-arrow:hover:before {color: black;}#sk-container-id-4 div.sk-estimator:hover label.sk-toggleable__label-arrow:before {color: black;}#sk-container-id-4 div.sk-toggleable__content {max-height: 0;max-width: 0;overflow: hidden;text-align: left;background-color: #f0f8ff;}#sk-container-id-4 div.sk-toggleable__content pre {margin: 0.2em;color: black;border-radius: 0.25em;background-color: #f0f8ff;}#sk-container-id-4 input.sk-toggleable__control:checked~div.sk-toggleable__content {max-height: 200px;max-width: 100%;overflow: auto;}#sk-container-id-4 input.sk-toggleable__control:checked~label.sk-toggleable__label-arrow:before {content: \"▾\";}#sk-container-id-4 div.sk-estimator input.sk-toggleable__control:checked~label.sk-toggleable__label {background-color: #d4ebff;}#sk-container-id-4 div.sk-label input.sk-toggleable__control:checked~label.sk-toggleable__label {background-color: #d4ebff;}#sk-container-id-4 input.sk-hidden--visually {border: 0;clip: rect(1px 1px 1px 1px);clip: rect(1px, 1px, 1px, 1px);height: 1px;margin: -1px;overflow: hidden;padding: 0;position: absolute;width: 1px;}#sk-container-id-4 div.sk-estimator {font-family: monospace;background-color: #f0f8ff;border: 1px dotted black;border-radius: 0.25em;box-sizing: border-box;margin-bottom: 0.5em;}#sk-container-id-4 div.sk-estimator:hover {background-color: #d4ebff;}#sk-container-id-4 div.sk-parallel-item::after {content: \"\";width: 100%;border-bottom: 1px solid gray;flex-grow: 1;}#sk-container-id-4 div.sk-label:hover label.sk-toggleable__label {background-color: #d4ebff;}#sk-container-id-4 div.sk-serial::before {content: \"\";position: absolute;border-left: 1px solid gray;box-sizing: border-box;top: 0;bottom: 0;left: 50%;z-index: 0;}#sk-container-id-4 div.sk-serial {display: flex;flex-direction: column;align-items: center;background-color: white;padding-right: 0.2em;padding-left: 0.2em;position: relative;}#sk-container-id-4 div.sk-item {position: relative;z-index: 1;}#sk-container-id-4 div.sk-parallel {display: flex;align-items: stretch;justify-content: center;background-color: white;position: relative;}#sk-container-id-4 div.sk-item::before, #sk-container-id-4 div.sk-parallel-item::before {content: \"\";position: absolute;border-left: 1px solid gray;box-sizing: border-box;top: 0;bottom: 0;left: 50%;z-index: -1;}#sk-container-id-4 div.sk-parallel-item {display: flex;flex-direction: column;z-index: 1;position: relative;background-color: white;}#sk-container-id-4 div.sk-parallel-item:first-child::after {align-self: flex-end;width: 50%;}#sk-container-id-4 div.sk-parallel-item:last-child::after {align-self: flex-start;width: 50%;}#sk-container-id-4 div.sk-parallel-item:only-child::after {width: 0;}#sk-container-id-4 div.sk-dashed-wrapped {border: 1px dashed gray;margin: 0 0.4em 0.5em 0.4em;box-sizing: border-box;padding-bottom: 0.4em;background-color: white;}#sk-container-id-4 div.sk-label label {font-family: monospace;font-weight: bold;display: inline-block;line-height: 1.2em;}#sk-container-id-4 div.sk-label-container {text-align: center;}#sk-container-id-4 div.sk-container {/* jupyter's `normalize.less` sets `[hidden] { display: none; }` but bootstrap.min.css set `[hidden] { display: none !important; }` so we also need the `!important` here to be able to override the default hidden behavior on the sphinx rendered scikit-learn.org. See: https://github.com/scikit-learn/scikit-learn/issues/21755 */display: inline-block !important;position: relative;}#sk-container-id-4 div.sk-text-repr-fallback {display: none;}</style><div id=\"sk-container-id-4\" class=\"sk-top-container\"><div class=\"sk-text-repr-fallback\"><pre>PCA(n_components=69)</pre><b>In a Jupyter environment, please rerun this cell to show the HTML representation or trust the notebook. <br />On GitHub, the HTML representation is unable to render, please try loading this page with nbviewer.org.</b></div><div class=\"sk-container\" hidden><div class=\"sk-item\"><div class=\"sk-estimator sk-toggleable\"><input class=\"sk-toggleable__control sk-hidden--visually\" id=\"sk-estimator-id-4\" type=\"checkbox\" checked><label for=\"sk-estimator-id-4\" class=\"sk-toggleable__label sk-toggleable__label-arrow\">PCA</label><div class=\"sk-toggleable__content\"><pre>PCA(n_components=69)</pre></div></div></div></div></div>"
      ],
      "text/plain": [
       "PCA(n_components=69)"
      ]
     },
     "execution_count": 20,
     "metadata": {},
     "output_type": "execute_result"
    }
   ],
   "source": [
    "#After determining the correct number of components, apply the PCA transformation to the validation and test sets.\n",
    "pca_CRIME_merge_set = pd.concat([CRIME_train_set,CRIME_valid_set]) \n",
    "X_CRIME_mergeDataSet = pca_CRIME_merge_set.drop('ViolentCrimesPerPop',axis=1)\n",
    "Y_CRIME_mergeDataSet = pca_CRIME_merge_set['ViolentCrimesPerPop']\n",
    "\n",
    "pca_2 = PCA(n_components=69)\n",
    "pca_2.fit(X_CRIME_mergeDataSet)\n",
    "pca_transformed_CRIME_set = pca_2.transform(X_CRIME_mergeDataSet)\n"
   ]
  },
  {
   "cell_type": "code",
   "execution_count": 21,
   "id": "b47eb082",
   "metadata": {},
   "outputs": [
    {
     "data": {
      "text/plain": [
       "\"\\nCreate another model via LinearRegression but using the data transformed by PCA Construct a linear model \\nusing Scikit-learn's LinearRegression method with default parameters.\\n\""
      ]
     },
     "execution_count": 21,
     "metadata": {},
     "output_type": "execute_result"
    },
    {
     "data": {
      "text/html": [
       "<style>#sk-container-id-5 {color: black;background-color: white;}#sk-container-id-5 pre{padding: 0;}#sk-container-id-5 div.sk-toggleable {background-color: white;}#sk-container-id-5 label.sk-toggleable__label {cursor: pointer;display: block;width: 100%;margin-bottom: 0;padding: 0.3em;box-sizing: border-box;text-align: center;}#sk-container-id-5 label.sk-toggleable__label-arrow:before {content: \"▸\";float: left;margin-right: 0.25em;color: #696969;}#sk-container-id-5 label.sk-toggleable__label-arrow:hover:before {color: black;}#sk-container-id-5 div.sk-estimator:hover label.sk-toggleable__label-arrow:before {color: black;}#sk-container-id-5 div.sk-toggleable__content {max-height: 0;max-width: 0;overflow: hidden;text-align: left;background-color: #f0f8ff;}#sk-container-id-5 div.sk-toggleable__content pre {margin: 0.2em;color: black;border-radius: 0.25em;background-color: #f0f8ff;}#sk-container-id-5 input.sk-toggleable__control:checked~div.sk-toggleable__content {max-height: 200px;max-width: 100%;overflow: auto;}#sk-container-id-5 input.sk-toggleable__control:checked~label.sk-toggleable__label-arrow:before {content: \"▾\";}#sk-container-id-5 div.sk-estimator input.sk-toggleable__control:checked~label.sk-toggleable__label {background-color: #d4ebff;}#sk-container-id-5 div.sk-label input.sk-toggleable__control:checked~label.sk-toggleable__label {background-color: #d4ebff;}#sk-container-id-5 input.sk-hidden--visually {border: 0;clip: rect(1px 1px 1px 1px);clip: rect(1px, 1px, 1px, 1px);height: 1px;margin: -1px;overflow: hidden;padding: 0;position: absolute;width: 1px;}#sk-container-id-5 div.sk-estimator {font-family: monospace;background-color: #f0f8ff;border: 1px dotted black;border-radius: 0.25em;box-sizing: border-box;margin-bottom: 0.5em;}#sk-container-id-5 div.sk-estimator:hover {background-color: #d4ebff;}#sk-container-id-5 div.sk-parallel-item::after {content: \"\";width: 100%;border-bottom: 1px solid gray;flex-grow: 1;}#sk-container-id-5 div.sk-label:hover label.sk-toggleable__label {background-color: #d4ebff;}#sk-container-id-5 div.sk-serial::before {content: \"\";position: absolute;border-left: 1px solid gray;box-sizing: border-box;top: 0;bottom: 0;left: 50%;z-index: 0;}#sk-container-id-5 div.sk-serial {display: flex;flex-direction: column;align-items: center;background-color: white;padding-right: 0.2em;padding-left: 0.2em;position: relative;}#sk-container-id-5 div.sk-item {position: relative;z-index: 1;}#sk-container-id-5 div.sk-parallel {display: flex;align-items: stretch;justify-content: center;background-color: white;position: relative;}#sk-container-id-5 div.sk-item::before, #sk-container-id-5 div.sk-parallel-item::before {content: \"\";position: absolute;border-left: 1px solid gray;box-sizing: border-box;top: 0;bottom: 0;left: 50%;z-index: -1;}#sk-container-id-5 div.sk-parallel-item {display: flex;flex-direction: column;z-index: 1;position: relative;background-color: white;}#sk-container-id-5 div.sk-parallel-item:first-child::after {align-self: flex-end;width: 50%;}#sk-container-id-5 div.sk-parallel-item:last-child::after {align-self: flex-start;width: 50%;}#sk-container-id-5 div.sk-parallel-item:only-child::after {width: 0;}#sk-container-id-5 div.sk-dashed-wrapped {border: 1px dashed gray;margin: 0 0.4em 0.5em 0.4em;box-sizing: border-box;padding-bottom: 0.4em;background-color: white;}#sk-container-id-5 div.sk-label label {font-family: monospace;font-weight: bold;display: inline-block;line-height: 1.2em;}#sk-container-id-5 div.sk-label-container {text-align: center;}#sk-container-id-5 div.sk-container {/* jupyter's `normalize.less` sets `[hidden] { display: none; }` but bootstrap.min.css set `[hidden] { display: none !important; }` so we also need the `!important` here to be able to override the default hidden behavior on the sphinx rendered scikit-learn.org. See: https://github.com/scikit-learn/scikit-learn/issues/21755 */display: inline-block !important;position: relative;}#sk-container-id-5 div.sk-text-repr-fallback {display: none;}</style><div id=\"sk-container-id-5\" class=\"sk-top-container\"><div class=\"sk-text-repr-fallback\"><pre>LinearRegression()</pre><b>In a Jupyter environment, please rerun this cell to show the HTML representation or trust the notebook. <br />On GitHub, the HTML representation is unable to render, please try loading this page with nbviewer.org.</b></div><div class=\"sk-container\" hidden><div class=\"sk-item\"><div class=\"sk-estimator sk-toggleable\"><input class=\"sk-toggleable__control sk-hidden--visually\" id=\"sk-estimator-id-5\" type=\"checkbox\" checked><label for=\"sk-estimator-id-5\" class=\"sk-toggleable__label sk-toggleable__label-arrow\">LinearRegression</label><div class=\"sk-toggleable__content\"><pre>LinearRegression()</pre></div></div></div></div></div>"
      ],
      "text/plain": [
       "LinearRegression()"
      ]
     },
     "execution_count": 21,
     "metadata": {},
     "output_type": "execute_result"
    }
   ],
   "source": [
    "'''\n",
    "Create another model via LinearRegression but using the data transformed by PCA Construct a linear model \n",
    "using Scikit-learn's LinearRegression method with default parameters.\n",
    "'''\n",
    "\n",
    "reg2＿model = LinearRegression()\n",
    "reg2＿model.fit(pca_transformed_CRIME_set,Y_CRIME_mergeDataSet)\n"
   ]
  },
  {
   "cell_type": "code",
   "execution_count": 22,
   "id": "77ce567f",
   "metadata": {},
   "outputs": [
    {
     "name": "stdout",
     "output_type": "stream",
     "text": [
      "fit_time 0.02919902801513672 (0.0015830197486620113)\n",
      "score_time 0.003211355209350586 (0.00039101090661299525)\n",
      "test_mse -0.03459363983930896 (0.0060174209243343685)\n",
      "test_mae -0.1331582463088359 (0.00921216680314499)\n",
      "test_r2 -0.3310034644075845 (0.17010211512861925)\n"
     ]
    }
   ],
   "source": [
    "#Report the same performance metrics as in 2.2 on the validation set. \n",
    "#How does the model's performance compare to that of the model in 2.2?\n",
    "\n",
    "X_CRIME_valid_set = CRIME_valid_set.drop('ViolentCrimesPerPop',axis=1)\n",
    "Y_CRIME_valid_set = CRIME_valid_set['ViolentCrimesPerPop']\n",
    "\n",
    "PCA_cv_results = cross_validate(reg2＿model, X_CRIME_valid_set,Y_CRIME_valid_set, cv=kf, scoring=p2_metrics_scorer)\n",
    "PCA_cv_stats = collate_cv_results(PCA_cv_results)\n",
    "\n"
   ]
  },
  {
   "cell_type": "code",
   "execution_count": 23,
   "id": "6d11907a",
   "metadata": {},
   "outputs": [
    {
     "data": {
      "text/html": [
       "<style>#sk-container-id-6 {color: black;background-color: white;}#sk-container-id-6 pre{padding: 0;}#sk-container-id-6 div.sk-toggleable {background-color: white;}#sk-container-id-6 label.sk-toggleable__label {cursor: pointer;display: block;width: 100%;margin-bottom: 0;padding: 0.3em;box-sizing: border-box;text-align: center;}#sk-container-id-6 label.sk-toggleable__label-arrow:before {content: \"▸\";float: left;margin-right: 0.25em;color: #696969;}#sk-container-id-6 label.sk-toggleable__label-arrow:hover:before {color: black;}#sk-container-id-6 div.sk-estimator:hover label.sk-toggleable__label-arrow:before {color: black;}#sk-container-id-6 div.sk-toggleable__content {max-height: 0;max-width: 0;overflow: hidden;text-align: left;background-color: #f0f8ff;}#sk-container-id-6 div.sk-toggleable__content pre {margin: 0.2em;color: black;border-radius: 0.25em;background-color: #f0f8ff;}#sk-container-id-6 input.sk-toggleable__control:checked~div.sk-toggleable__content {max-height: 200px;max-width: 100%;overflow: auto;}#sk-container-id-6 input.sk-toggleable__control:checked~label.sk-toggleable__label-arrow:before {content: \"▾\";}#sk-container-id-6 div.sk-estimator input.sk-toggleable__control:checked~label.sk-toggleable__label {background-color: #d4ebff;}#sk-container-id-6 div.sk-label input.sk-toggleable__control:checked~label.sk-toggleable__label {background-color: #d4ebff;}#sk-container-id-6 input.sk-hidden--visually {border: 0;clip: rect(1px 1px 1px 1px);clip: rect(1px, 1px, 1px, 1px);height: 1px;margin: -1px;overflow: hidden;padding: 0;position: absolute;width: 1px;}#sk-container-id-6 div.sk-estimator {font-family: monospace;background-color: #f0f8ff;border: 1px dotted black;border-radius: 0.25em;box-sizing: border-box;margin-bottom: 0.5em;}#sk-container-id-6 div.sk-estimator:hover {background-color: #d4ebff;}#sk-container-id-6 div.sk-parallel-item::after {content: \"\";width: 100%;border-bottom: 1px solid gray;flex-grow: 1;}#sk-container-id-6 div.sk-label:hover label.sk-toggleable__label {background-color: #d4ebff;}#sk-container-id-6 div.sk-serial::before {content: \"\";position: absolute;border-left: 1px solid gray;box-sizing: border-box;top: 0;bottom: 0;left: 50%;z-index: 0;}#sk-container-id-6 div.sk-serial {display: flex;flex-direction: column;align-items: center;background-color: white;padding-right: 0.2em;padding-left: 0.2em;position: relative;}#sk-container-id-6 div.sk-item {position: relative;z-index: 1;}#sk-container-id-6 div.sk-parallel {display: flex;align-items: stretch;justify-content: center;background-color: white;position: relative;}#sk-container-id-6 div.sk-item::before, #sk-container-id-6 div.sk-parallel-item::before {content: \"\";position: absolute;border-left: 1px solid gray;box-sizing: border-box;top: 0;bottom: 0;left: 50%;z-index: -1;}#sk-container-id-6 div.sk-parallel-item {display: flex;flex-direction: column;z-index: 1;position: relative;background-color: white;}#sk-container-id-6 div.sk-parallel-item:first-child::after {align-self: flex-end;width: 50%;}#sk-container-id-6 div.sk-parallel-item:last-child::after {align-self: flex-start;width: 50%;}#sk-container-id-6 div.sk-parallel-item:only-child::after {width: 0;}#sk-container-id-6 div.sk-dashed-wrapped {border: 1px dashed gray;margin: 0 0.4em 0.5em 0.4em;box-sizing: border-box;padding-bottom: 0.4em;background-color: white;}#sk-container-id-6 div.sk-label label {font-family: monospace;font-weight: bold;display: inline-block;line-height: 1.2em;}#sk-container-id-6 div.sk-label-container {text-align: center;}#sk-container-id-6 div.sk-container {/* jupyter's `normalize.less` sets `[hidden] { display: none; }` but bootstrap.min.css set `[hidden] { display: none !important; }` so we also need the `!important` here to be able to override the default hidden behavior on the sphinx rendered scikit-learn.org. See: https://github.com/scikit-learn/scikit-learn/issues/21755 */display: inline-block !important;position: relative;}#sk-container-id-6 div.sk-text-repr-fallback {display: none;}</style><div id=\"sk-container-id-6\" class=\"sk-top-container\"><div class=\"sk-text-repr-fallback\"><pre>GridSearchCV(cv=KFold(n_splits=5, random_state=23721266, shuffle=True),\n",
       "             estimator=Lasso(), n_jobs=-1,\n",
       "             param_grid={&#x27;alpha&#x27;: array([5.00000000e+00, 4.14321386e+00, 3.43324423e+00, 2.84493301e+00,\n",
       "       2.35743318e+00, 1.95346997e+00, 1.61872877e+00, 1.34134790e+00,\n",
       "       1.11149824e+00, 9.21034985e-01, 7.63208984e-01, 6.32427608e-01,\n",
       "       5.24056567e-01, 4.34255687e-01, 3.59842837e-01, 2...\n",
       "       1.22102655e-02, 1.01179482e-02, 8.38416468e-03, 6.94747747e-03,\n",
       "       5.75697700e-03, 4.77047738e-03, 3.95302161e-03, 3.27564278e-03,\n",
       "       2.71433772e-03, 2.24921633e-03, 1.86379686e-03, 1.54442180e-03,\n",
       "       1.27977396e-03, 1.06047544e-03, 8.78755312e-04, 7.28174239e-04,\n",
       "       6.03396320e-04, 5.00000000e-04]),\n",
       "                         &#x27;max_iter&#x27;: [4000]},\n",
       "             refit=&#x27;mse&#x27;,\n",
       "             scoring=&lt;function p2_metrics_scorer at 0x0000029F4D4124C0&gt;)</pre><b>In a Jupyter environment, please rerun this cell to show the HTML representation or trust the notebook. <br />On GitHub, the HTML representation is unable to render, please try loading this page with nbviewer.org.</b></div><div class=\"sk-container\" hidden><div class=\"sk-item sk-dashed-wrapped\"><div class=\"sk-label-container\"><div class=\"sk-label sk-toggleable\"><input class=\"sk-toggleable__control sk-hidden--visually\" id=\"sk-estimator-id-6\" type=\"checkbox\" ><label for=\"sk-estimator-id-6\" class=\"sk-toggleable__label sk-toggleable__label-arrow\">GridSearchCV</label><div class=\"sk-toggleable__content\"><pre>GridSearchCV(cv=KFold(n_splits=5, random_state=23721266, shuffle=True),\n",
       "             estimator=Lasso(), n_jobs=-1,\n",
       "             param_grid={&#x27;alpha&#x27;: array([5.00000000e+00, 4.14321386e+00, 3.43324423e+00, 2.84493301e+00,\n",
       "       2.35743318e+00, 1.95346997e+00, 1.61872877e+00, 1.34134790e+00,\n",
       "       1.11149824e+00, 9.21034985e-01, 7.63208984e-01, 6.32427608e-01,\n",
       "       5.24056567e-01, 4.34255687e-01, 3.59842837e-01, 2...\n",
       "       1.22102655e-02, 1.01179482e-02, 8.38416468e-03, 6.94747747e-03,\n",
       "       5.75697700e-03, 4.77047738e-03, 3.95302161e-03, 3.27564278e-03,\n",
       "       2.71433772e-03, 2.24921633e-03, 1.86379686e-03, 1.54442180e-03,\n",
       "       1.27977396e-03, 1.06047544e-03, 8.78755312e-04, 7.28174239e-04,\n",
       "       6.03396320e-04, 5.00000000e-04]),\n",
       "                         &#x27;max_iter&#x27;: [4000]},\n",
       "             refit=&#x27;mse&#x27;,\n",
       "             scoring=&lt;function p2_metrics_scorer at 0x0000029F4D4124C0&gt;)</pre></div></div></div><div class=\"sk-parallel\"><div class=\"sk-parallel-item\"><div class=\"sk-item\"><div class=\"sk-label-container\"><div class=\"sk-label sk-toggleable\"><input class=\"sk-toggleable__control sk-hidden--visually\" id=\"sk-estimator-id-7\" type=\"checkbox\" ><label for=\"sk-estimator-id-7\" class=\"sk-toggleable__label sk-toggleable__label-arrow\">estimator: Lasso</label><div class=\"sk-toggleable__content\"><pre>Lasso()</pre></div></div></div><div class=\"sk-serial\"><div class=\"sk-item\"><div class=\"sk-estimator sk-toggleable\"><input class=\"sk-toggleable__control sk-hidden--visually\" id=\"sk-estimator-id-8\" type=\"checkbox\" ><label for=\"sk-estimator-id-8\" class=\"sk-toggleable__label sk-toggleable__label-arrow\">Lasso</label><div class=\"sk-toggleable__content\"><pre>Lasso()</pre></div></div></div></div></div></div></div></div></div></div>"
      ],
      "text/plain": [
       "GridSearchCV(cv=KFold(n_splits=5, random_state=23721266, shuffle=True),\n",
       "             estimator=Lasso(), n_jobs=-1,\n",
       "             param_grid={'alpha': array([5.00000000e+00, 4.14321386e+00, 3.43324423e+00, 2.84493301e+00,\n",
       "       2.35743318e+00, 1.95346997e+00, 1.61872877e+00, 1.34134790e+00,\n",
       "       1.11149824e+00, 9.21034985e-01, 7.63208984e-01, 6.32427608e-01,\n",
       "       5.24056567e-01, 4.34255687e-01, 3.59842837e-01, 2...\n",
       "       1.22102655e-02, 1.01179482e-02, 8.38416468e-03, 6.94747747e-03,\n",
       "       5.75697700e-03, 4.77047738e-03, 3.95302161e-03, 3.27564278e-03,\n",
       "       2.71433772e-03, 2.24921633e-03, 1.86379686e-03, 1.54442180e-03,\n",
       "       1.27977396e-03, 1.06047544e-03, 8.78755312e-04, 7.28174239e-04,\n",
       "       6.03396320e-04, 5.00000000e-04]),\n",
       "                         'max_iter': [4000]},\n",
       "             refit='mse',\n",
       "             scoring=<function p2_metrics_scorer at 0x0000029F4D4124C0>)"
      ]
     },
     "execution_count": 23,
     "metadata": {},
     "output_type": "execute_result"
    },
    {
     "name": "stdout",
     "output_type": "stream",
     "text": [
      "{'alpha': 0.0006033963203196644, 'max_iter': 4000}\n"
     ]
    }
   ],
   "source": [
    "#2.4 LASSO\n",
    "#Using GridSearchCV, determine the best choice of the hyperparameter  𝛼  out of values in the list alphas below.\n",
    "from sklearn.linear_model import Lasso\n",
    "from sklearn.model_selection import GridSearchCV\n",
    "import time\n",
    "\n",
    "alphas = 10**np.linspace(1,-3,50)*0.5\n",
    "\n",
    "parameters = {'alpha':alphas,'max_iter':[4000]}\n",
    "\n",
    "#Summarizes model performance results produced during hyperparameter tuning\n",
    "def collate_ht_results(ht_results,metric_keys=metric_keys,display=True):\n",
    "    ht_stats=dict()\n",
    "    for metric in metric_keys:\n",
    "        ht_stats[metric+\"_mean\"] = ht_results.cv_results_[\"mean_test_\"+metric][ht_results.best_index_]\n",
    "        ht_stats[metric+\"_std\"] = metric_std = ht_results.cv_results_[\"std_test_\"+metric][ht_results.best_index_]\n",
    "        if display:\n",
    "            print(\"test_\"+metric,ht_stats[metric+\"_mean\"],\"(\"+str(ht_stats[metric+\"_std\"])+\")\")\n",
    "    return ht_stats\n",
    "\n",
    "My_LASSO = Lasso()\n",
    "clf = GridSearchCV(My_LASSO,parameters,scoring=p2_metrics_scorer,refit='mse',cv=kf,n_jobs=-1,return_train_score=False)\n",
    "time_start = time.time()\n",
    "clf.fit(X_CRIME_mergeDataSet,Y_CRIME_mergeDataSet) \n",
    "time_end = time.time()\n",
    "time_c = time_end-time_start\n",
    "print(clf.best_params_)"
   ]
  },
  {
   "cell_type": "code",
   "execution_count": 24,
   "id": "48b138ea",
   "metadata": {},
   "outputs": [
    {
     "name": "stdout",
     "output_type": "stream",
     "text": [
      "9.5566725730896\n",
      "test_mse -0.019526945649237838 (0.001393538290908324)\n",
      "test_mae -0.0966575162252554 (0.003313127951329735)\n",
      "test_r2 -0.636776693369576 (0.029946625715175278)\n"
     ]
    },
    {
     "data": {
      "text/plain": [
       "{'mse_mean': -0.019526945649237838,\n",
       " 'mse_std': 0.001393538290908324,\n",
       " 'mae_mean': -0.0966575162252554,\n",
       " 'mae_std': 0.003313127951329735,\n",
       " 'r2_mean': -0.636776693369576,\n",
       " 'r2_std': 0.029946625715175278}"
      ]
     },
     "execution_count": 24,
     "metadata": {},
     "output_type": "execute_result"
    }
   ],
   "source": [
    "#Report the time required to perform cross-validation via GridSearchCV. \n",
    "#Report the mean and standard deviation of the performance metrics \n",
    "#for the best performing model along with its associated hyperparameter. \n",
    "#You may use the function collate_ht_results for this purpose.'''\n",
    "print(time_c)\n",
    "collate_ht_results(clf,display=True)"
   ]
  },
  {
   "cell_type": "code",
   "execution_count": 25,
   "id": "8fec4569",
   "metadata": {},
   "outputs": [],
   "source": [
    "#Report the weights (coefficients) of the LASSO model and their associated features in ascending order. \n",
    "#Note that LASSO attempts to set as many weights to zero in order to create a more parsimonious model \n",
    "#while still maintaining regression performance. How many weights are non-zero?\n",
    "\n"
   ]
  },
  {
   "cell_type": "code",
   "execution_count": 26,
   "id": "765ca877",
   "metadata": {},
   "outputs": [
    {
     "data": {
      "text/html": [
       "<style>#sk-container-id-7 {color: black;background-color: white;}#sk-container-id-7 pre{padding: 0;}#sk-container-id-7 div.sk-toggleable {background-color: white;}#sk-container-id-7 label.sk-toggleable__label {cursor: pointer;display: block;width: 100%;margin-bottom: 0;padding: 0.3em;box-sizing: border-box;text-align: center;}#sk-container-id-7 label.sk-toggleable__label-arrow:before {content: \"▸\";float: left;margin-right: 0.25em;color: #696969;}#sk-container-id-7 label.sk-toggleable__label-arrow:hover:before {color: black;}#sk-container-id-7 div.sk-estimator:hover label.sk-toggleable__label-arrow:before {color: black;}#sk-container-id-7 div.sk-toggleable__content {max-height: 0;max-width: 0;overflow: hidden;text-align: left;background-color: #f0f8ff;}#sk-container-id-7 div.sk-toggleable__content pre {margin: 0.2em;color: black;border-radius: 0.25em;background-color: #f0f8ff;}#sk-container-id-7 input.sk-toggleable__control:checked~div.sk-toggleable__content {max-height: 200px;max-width: 100%;overflow: auto;}#sk-container-id-7 input.sk-toggleable__control:checked~label.sk-toggleable__label-arrow:before {content: \"▾\";}#sk-container-id-7 div.sk-estimator input.sk-toggleable__control:checked~label.sk-toggleable__label {background-color: #d4ebff;}#sk-container-id-7 div.sk-label input.sk-toggleable__control:checked~label.sk-toggleable__label {background-color: #d4ebff;}#sk-container-id-7 input.sk-hidden--visually {border: 0;clip: rect(1px 1px 1px 1px);clip: rect(1px, 1px, 1px, 1px);height: 1px;margin: -1px;overflow: hidden;padding: 0;position: absolute;width: 1px;}#sk-container-id-7 div.sk-estimator {font-family: monospace;background-color: #f0f8ff;border: 1px dotted black;border-radius: 0.25em;box-sizing: border-box;margin-bottom: 0.5em;}#sk-container-id-7 div.sk-estimator:hover {background-color: #d4ebff;}#sk-container-id-7 div.sk-parallel-item::after {content: \"\";width: 100%;border-bottom: 1px solid gray;flex-grow: 1;}#sk-container-id-7 div.sk-label:hover label.sk-toggleable__label {background-color: #d4ebff;}#sk-container-id-7 div.sk-serial::before {content: \"\";position: absolute;border-left: 1px solid gray;box-sizing: border-box;top: 0;bottom: 0;left: 50%;z-index: 0;}#sk-container-id-7 div.sk-serial {display: flex;flex-direction: column;align-items: center;background-color: white;padding-right: 0.2em;padding-left: 0.2em;position: relative;}#sk-container-id-7 div.sk-item {position: relative;z-index: 1;}#sk-container-id-7 div.sk-parallel {display: flex;align-items: stretch;justify-content: center;background-color: white;position: relative;}#sk-container-id-7 div.sk-item::before, #sk-container-id-7 div.sk-parallel-item::before {content: \"\";position: absolute;border-left: 1px solid gray;box-sizing: border-box;top: 0;bottom: 0;left: 50%;z-index: -1;}#sk-container-id-7 div.sk-parallel-item {display: flex;flex-direction: column;z-index: 1;position: relative;background-color: white;}#sk-container-id-7 div.sk-parallel-item:first-child::after {align-self: flex-end;width: 50%;}#sk-container-id-7 div.sk-parallel-item:last-child::after {align-self: flex-start;width: 50%;}#sk-container-id-7 div.sk-parallel-item:only-child::after {width: 0;}#sk-container-id-7 div.sk-dashed-wrapped {border: 1px dashed gray;margin: 0 0.4em 0.5em 0.4em;box-sizing: border-box;padding-bottom: 0.4em;background-color: white;}#sk-container-id-7 div.sk-label label {font-family: monospace;font-weight: bold;display: inline-block;line-height: 1.2em;}#sk-container-id-7 div.sk-label-container {text-align: center;}#sk-container-id-7 div.sk-container {/* jupyter's `normalize.less` sets `[hidden] { display: none; }` but bootstrap.min.css set `[hidden] { display: none !important; }` so we also need the `!important` here to be able to override the default hidden behavior on the sphinx rendered scikit-learn.org. See: https://github.com/scikit-learn/scikit-learn/issues/21755 */display: inline-block !important;position: relative;}#sk-container-id-7 div.sk-text-repr-fallback {display: none;}</style><div id=\"sk-container-id-7\" class=\"sk-top-container\"><div class=\"sk-text-repr-fallback\"><pre>GridSearchCV(cv=KFold(n_splits=5, random_state=23721266, shuffle=True),\n",
       "             estimator=MLPRegressor(early_stopping=True, max_iter=10000),\n",
       "             n_jobs=-1,\n",
       "             param_grid={&#x27;hidden_layer_sizes&#x27;: [10, (20, 20), (50, 50, 50)],\n",
       "                         &#x27;learning_rate_init&#x27;: [1e-05, 0.0001, 0.001, 0.01, 0.1,\n",
       "                                                0.5, 1, 5, 10, 50, 100]},\n",
       "             refit=&#x27;mse&#x27;,\n",
       "             scoring=&lt;function p2_metrics_scorer at 0x0000029F4D4124C0&gt;)</pre><b>In a Jupyter environment, please rerun this cell to show the HTML representation or trust the notebook. <br />On GitHub, the HTML representation is unable to render, please try loading this page with nbviewer.org.</b></div><div class=\"sk-container\" hidden><div class=\"sk-item sk-dashed-wrapped\"><div class=\"sk-label-container\"><div class=\"sk-label sk-toggleable\"><input class=\"sk-toggleable__control sk-hidden--visually\" id=\"sk-estimator-id-9\" type=\"checkbox\" ><label for=\"sk-estimator-id-9\" class=\"sk-toggleable__label sk-toggleable__label-arrow\">GridSearchCV</label><div class=\"sk-toggleable__content\"><pre>GridSearchCV(cv=KFold(n_splits=5, random_state=23721266, shuffle=True),\n",
       "             estimator=MLPRegressor(early_stopping=True, max_iter=10000),\n",
       "             n_jobs=-1,\n",
       "             param_grid={&#x27;hidden_layer_sizes&#x27;: [10, (20, 20), (50, 50, 50)],\n",
       "                         &#x27;learning_rate_init&#x27;: [1e-05, 0.0001, 0.001, 0.01, 0.1,\n",
       "                                                0.5, 1, 5, 10, 50, 100]},\n",
       "             refit=&#x27;mse&#x27;,\n",
       "             scoring=&lt;function p2_metrics_scorer at 0x0000029F4D4124C0&gt;)</pre></div></div></div><div class=\"sk-parallel\"><div class=\"sk-parallel-item\"><div class=\"sk-item\"><div class=\"sk-label-container\"><div class=\"sk-label sk-toggleable\"><input class=\"sk-toggleable__control sk-hidden--visually\" id=\"sk-estimator-id-10\" type=\"checkbox\" ><label for=\"sk-estimator-id-10\" class=\"sk-toggleable__label sk-toggleable__label-arrow\">estimator: MLPRegressor</label><div class=\"sk-toggleable__content\"><pre>MLPRegressor(early_stopping=True, max_iter=10000)</pre></div></div></div><div class=\"sk-serial\"><div class=\"sk-item\"><div class=\"sk-estimator sk-toggleable\"><input class=\"sk-toggleable__control sk-hidden--visually\" id=\"sk-estimator-id-11\" type=\"checkbox\" ><label for=\"sk-estimator-id-11\" class=\"sk-toggleable__label sk-toggleable__label-arrow\">MLPRegressor</label><div class=\"sk-toggleable__content\"><pre>MLPRegressor(early_stopping=True, max_iter=10000)</pre></div></div></div></div></div></div></div></div></div></div>"
      ],
      "text/plain": [
       "GridSearchCV(cv=KFold(n_splits=5, random_state=23721266, shuffle=True),\n",
       "             estimator=MLPRegressor(early_stopping=True, max_iter=10000),\n",
       "             n_jobs=-1,\n",
       "             param_grid={'hidden_layer_sizes': [10, (20, 20), (50, 50, 50)],\n",
       "                         'learning_rate_init': [1e-05, 0.0001, 0.001, 0.01, 0.1,\n",
       "                                                0.5, 1, 5, 10, 50, 100]},\n",
       "             refit='mse',\n",
       "             scoring=<function p2_metrics_scorer at 0x0000029F4D4124C0>)"
      ]
     },
     "execution_count": 26,
     "metadata": {},
     "output_type": "execute_result"
    }
   ],
   "source": [
    "#2.5 Multilayer Perceptron (MLP)\n",
    "#Using GridSearchCV, determine the best choice of hyperparameters out of the following possible values:\n",
    "from sklearn.neural_network import MLPRegressor\n",
    "\n",
    "\n",
    "MLparam = {'hidden_layer_sizes':[(10),(20,20),(50,50,50)],\n",
    "           'learning_rate_init':[1e-5, 1e-4, 0.001, 0.01, 0.1, 0.5, 1, 5, 10, 50, 100]}\n",
    "\n",
    "My_ML = MLPRegressor(max_iter=10000,early_stopping=True)\n",
    "MLclf = GridSearchCV(My_ML,MLparam,scoring=p2_metrics_scorer,refit='mse',cv=kf,n_jobs=-1,return_train_score=False)\n",
    "time_start = time.time()\n",
    "MLclf.fit(X_CRIME_mergeDataSet.values,Y_CRIME_mergeDataSet.values) \n",
    "time_end = time.time()\n",
    "\n"
   ]
  },
  {
   "cell_type": "code",
   "execution_count": 27,
   "id": "9734c243",
   "metadata": {},
   "outputs": [
    {
     "name": "stdout",
     "output_type": "stream",
     "text": [
      "110.20568799972534\n",
      "{'hidden_layer_sizes': (50, 50, 50), 'learning_rate_init': 0.01}\n",
      "test_mse -0.037147253571959624 (0.008450133470586436)\n",
      "test_mae -0.13576526979355436 (0.014797035571118321)\n",
      "test_r2 -0.31383449228341265 (0.14235869730064088)\n"
     ]
    },
    {
     "data": {
      "text/plain": [
       "{'mse_mean': -0.037147253571959624,\n",
       " 'mse_std': 0.008450133470586436,\n",
       " 'mae_mean': -0.13576526979355436,\n",
       " 'mae_std': 0.014797035571118321,\n",
       " 'r2_mean': -0.31383449228341265,\n",
       " 'r2_std': 0.14235869730064088}"
      ]
     },
     "execution_count": 27,
     "metadata": {},
     "output_type": "execute_result"
    }
   ],
   "source": [
    "time_c = time_end-time_start\n",
    "print(time_c)\n",
    "print(MLclf.best_params_)\n",
    "\n",
    "collate_ht_results(MLclf,display=True)"
   ]
  },
  {
   "cell_type": "code",
   "execution_count": 28,
   "id": "13db080d",
   "metadata": {},
   "outputs": [
    {
     "data": {
      "text/html": [
       "<style>#sk-container-id-8 {color: black;background-color: white;}#sk-container-id-8 pre{padding: 0;}#sk-container-id-8 div.sk-toggleable {background-color: white;}#sk-container-id-8 label.sk-toggleable__label {cursor: pointer;display: block;width: 100%;margin-bottom: 0;padding: 0.3em;box-sizing: border-box;text-align: center;}#sk-container-id-8 label.sk-toggleable__label-arrow:before {content: \"▸\";float: left;margin-right: 0.25em;color: #696969;}#sk-container-id-8 label.sk-toggleable__label-arrow:hover:before {color: black;}#sk-container-id-8 div.sk-estimator:hover label.sk-toggleable__label-arrow:before {color: black;}#sk-container-id-8 div.sk-toggleable__content {max-height: 0;max-width: 0;overflow: hidden;text-align: left;background-color: #f0f8ff;}#sk-container-id-8 div.sk-toggleable__content pre {margin: 0.2em;color: black;border-radius: 0.25em;background-color: #f0f8ff;}#sk-container-id-8 input.sk-toggleable__control:checked~div.sk-toggleable__content {max-height: 200px;max-width: 100%;overflow: auto;}#sk-container-id-8 input.sk-toggleable__control:checked~label.sk-toggleable__label-arrow:before {content: \"▾\";}#sk-container-id-8 div.sk-estimator input.sk-toggleable__control:checked~label.sk-toggleable__label {background-color: #d4ebff;}#sk-container-id-8 div.sk-label input.sk-toggleable__control:checked~label.sk-toggleable__label {background-color: #d4ebff;}#sk-container-id-8 input.sk-hidden--visually {border: 0;clip: rect(1px 1px 1px 1px);clip: rect(1px, 1px, 1px, 1px);height: 1px;margin: -1px;overflow: hidden;padding: 0;position: absolute;width: 1px;}#sk-container-id-8 div.sk-estimator {font-family: monospace;background-color: #f0f8ff;border: 1px dotted black;border-radius: 0.25em;box-sizing: border-box;margin-bottom: 0.5em;}#sk-container-id-8 div.sk-estimator:hover {background-color: #d4ebff;}#sk-container-id-8 div.sk-parallel-item::after {content: \"\";width: 100%;border-bottom: 1px solid gray;flex-grow: 1;}#sk-container-id-8 div.sk-label:hover label.sk-toggleable__label {background-color: #d4ebff;}#sk-container-id-8 div.sk-serial::before {content: \"\";position: absolute;border-left: 1px solid gray;box-sizing: border-box;top: 0;bottom: 0;left: 50%;z-index: 0;}#sk-container-id-8 div.sk-serial {display: flex;flex-direction: column;align-items: center;background-color: white;padding-right: 0.2em;padding-left: 0.2em;position: relative;}#sk-container-id-8 div.sk-item {position: relative;z-index: 1;}#sk-container-id-8 div.sk-parallel {display: flex;align-items: stretch;justify-content: center;background-color: white;position: relative;}#sk-container-id-8 div.sk-item::before, #sk-container-id-8 div.sk-parallel-item::before {content: \"\";position: absolute;border-left: 1px solid gray;box-sizing: border-box;top: 0;bottom: 0;left: 50%;z-index: -1;}#sk-container-id-8 div.sk-parallel-item {display: flex;flex-direction: column;z-index: 1;position: relative;background-color: white;}#sk-container-id-8 div.sk-parallel-item:first-child::after {align-self: flex-end;width: 50%;}#sk-container-id-8 div.sk-parallel-item:last-child::after {align-self: flex-start;width: 50%;}#sk-container-id-8 div.sk-parallel-item:only-child::after {width: 0;}#sk-container-id-8 div.sk-dashed-wrapped {border: 1px dashed gray;margin: 0 0.4em 0.5em 0.4em;box-sizing: border-box;padding-bottom: 0.4em;background-color: white;}#sk-container-id-8 div.sk-label label {font-family: monospace;font-weight: bold;display: inline-block;line-height: 1.2em;}#sk-container-id-8 div.sk-label-container {text-align: center;}#sk-container-id-8 div.sk-container {/* jupyter's `normalize.less` sets `[hidden] { display: none; }` but bootstrap.min.css set `[hidden] { display: none !important; }` so we also need the `!important` here to be able to override the default hidden behavior on the sphinx rendered scikit-learn.org. See: https://github.com/scikit-learn/scikit-learn/issues/21755 */display: inline-block !important;position: relative;}#sk-container-id-8 div.sk-text-repr-fallback {display: none;}</style><div id=\"sk-container-id-8\" class=\"sk-top-container\"><div class=\"sk-text-repr-fallback\"><pre>PCA(n_components=69)</pre><b>In a Jupyter environment, please rerun this cell to show the HTML representation or trust the notebook. <br />On GitHub, the HTML representation is unable to render, please try loading this page with nbviewer.org.</b></div><div class=\"sk-container\" hidden><div class=\"sk-item\"><div class=\"sk-estimator sk-toggleable\"><input class=\"sk-toggleable__control sk-hidden--visually\" id=\"sk-estimator-id-12\" type=\"checkbox\" checked><label for=\"sk-estimator-id-12\" class=\"sk-toggleable__label sk-toggleable__label-arrow\">PCA</label><div class=\"sk-toggleable__content\"><pre>PCA(n_components=69)</pre></div></div></div></div></div>"
      ],
      "text/plain": [
       "PCA(n_components=69)"
      ]
     },
     "execution_count": 28,
     "metadata": {},
     "output_type": "execute_result"
    },
    {
     "data": {
      "text/html": [
       "<style>#sk-container-id-9 {color: black;background-color: white;}#sk-container-id-9 pre{padding: 0;}#sk-container-id-9 div.sk-toggleable {background-color: white;}#sk-container-id-9 label.sk-toggleable__label {cursor: pointer;display: block;width: 100%;margin-bottom: 0;padding: 0.3em;box-sizing: border-box;text-align: center;}#sk-container-id-9 label.sk-toggleable__label-arrow:before {content: \"▸\";float: left;margin-right: 0.25em;color: #696969;}#sk-container-id-9 label.sk-toggleable__label-arrow:hover:before {color: black;}#sk-container-id-9 div.sk-estimator:hover label.sk-toggleable__label-arrow:before {color: black;}#sk-container-id-9 div.sk-toggleable__content {max-height: 0;max-width: 0;overflow: hidden;text-align: left;background-color: #f0f8ff;}#sk-container-id-9 div.sk-toggleable__content pre {margin: 0.2em;color: black;border-radius: 0.25em;background-color: #f0f8ff;}#sk-container-id-9 input.sk-toggleable__control:checked~div.sk-toggleable__content {max-height: 200px;max-width: 100%;overflow: auto;}#sk-container-id-9 input.sk-toggleable__control:checked~label.sk-toggleable__label-arrow:before {content: \"▾\";}#sk-container-id-9 div.sk-estimator input.sk-toggleable__control:checked~label.sk-toggleable__label {background-color: #d4ebff;}#sk-container-id-9 div.sk-label input.sk-toggleable__control:checked~label.sk-toggleable__label {background-color: #d4ebff;}#sk-container-id-9 input.sk-hidden--visually {border: 0;clip: rect(1px 1px 1px 1px);clip: rect(1px, 1px, 1px, 1px);height: 1px;margin: -1px;overflow: hidden;padding: 0;position: absolute;width: 1px;}#sk-container-id-9 div.sk-estimator {font-family: monospace;background-color: #f0f8ff;border: 1px dotted black;border-radius: 0.25em;box-sizing: border-box;margin-bottom: 0.5em;}#sk-container-id-9 div.sk-estimator:hover {background-color: #d4ebff;}#sk-container-id-9 div.sk-parallel-item::after {content: \"\";width: 100%;border-bottom: 1px solid gray;flex-grow: 1;}#sk-container-id-9 div.sk-label:hover label.sk-toggleable__label {background-color: #d4ebff;}#sk-container-id-9 div.sk-serial::before {content: \"\";position: absolute;border-left: 1px solid gray;box-sizing: border-box;top: 0;bottom: 0;left: 50%;z-index: 0;}#sk-container-id-9 div.sk-serial {display: flex;flex-direction: column;align-items: center;background-color: white;padding-right: 0.2em;padding-left: 0.2em;position: relative;}#sk-container-id-9 div.sk-item {position: relative;z-index: 1;}#sk-container-id-9 div.sk-parallel {display: flex;align-items: stretch;justify-content: center;background-color: white;position: relative;}#sk-container-id-9 div.sk-item::before, #sk-container-id-9 div.sk-parallel-item::before {content: \"\";position: absolute;border-left: 1px solid gray;box-sizing: border-box;top: 0;bottom: 0;left: 50%;z-index: -1;}#sk-container-id-9 div.sk-parallel-item {display: flex;flex-direction: column;z-index: 1;position: relative;background-color: white;}#sk-container-id-9 div.sk-parallel-item:first-child::after {align-self: flex-end;width: 50%;}#sk-container-id-9 div.sk-parallel-item:last-child::after {align-self: flex-start;width: 50%;}#sk-container-id-9 div.sk-parallel-item:only-child::after {width: 0;}#sk-container-id-9 div.sk-dashed-wrapped {border: 1px dashed gray;margin: 0 0.4em 0.5em 0.4em;box-sizing: border-box;padding-bottom: 0.4em;background-color: white;}#sk-container-id-9 div.sk-label label {font-family: monospace;font-weight: bold;display: inline-block;line-height: 1.2em;}#sk-container-id-9 div.sk-label-container {text-align: center;}#sk-container-id-9 div.sk-container {/* jupyter's `normalize.less` sets `[hidden] { display: none; }` but bootstrap.min.css set `[hidden] { display: none !important; }` so we also need the `!important` here to be able to override the default hidden behavior on the sphinx rendered scikit-learn.org. See: https://github.com/scikit-learn/scikit-learn/issues/21755 */display: inline-block !important;position: relative;}#sk-container-id-9 div.sk-text-repr-fallback {display: none;}</style><div id=\"sk-container-id-9\" class=\"sk-top-container\"><div class=\"sk-text-repr-fallback\"><pre>LinearRegression()</pre><b>In a Jupyter environment, please rerun this cell to show the HTML representation or trust the notebook. <br />On GitHub, the HTML representation is unable to render, please try loading this page with nbviewer.org.</b></div><div class=\"sk-container\" hidden><div class=\"sk-item\"><div class=\"sk-estimator sk-toggleable\"><input class=\"sk-toggleable__control sk-hidden--visually\" id=\"sk-estimator-id-13\" type=\"checkbox\" checked><label for=\"sk-estimator-id-13\" class=\"sk-toggleable__label sk-toggleable__label-arrow\">LinearRegression</label><div class=\"sk-toggleable__content\"><pre>LinearRegression()</pre></div></div></div></div></div>"
      ],
      "text/plain": [
       "LinearRegression()"
      ]
     },
     "execution_count": 28,
     "metadata": {},
     "output_type": "execute_result"
    },
    {
     "data": {
      "text/html": [
       "<style>#sk-container-id-10 {color: black;background-color: white;}#sk-container-id-10 pre{padding: 0;}#sk-container-id-10 div.sk-toggleable {background-color: white;}#sk-container-id-10 label.sk-toggleable__label {cursor: pointer;display: block;width: 100%;margin-bottom: 0;padding: 0.3em;box-sizing: border-box;text-align: center;}#sk-container-id-10 label.sk-toggleable__label-arrow:before {content: \"▸\";float: left;margin-right: 0.25em;color: #696969;}#sk-container-id-10 label.sk-toggleable__label-arrow:hover:before {color: black;}#sk-container-id-10 div.sk-estimator:hover label.sk-toggleable__label-arrow:before {color: black;}#sk-container-id-10 div.sk-toggleable__content {max-height: 0;max-width: 0;overflow: hidden;text-align: left;background-color: #f0f8ff;}#sk-container-id-10 div.sk-toggleable__content pre {margin: 0.2em;color: black;border-radius: 0.25em;background-color: #f0f8ff;}#sk-container-id-10 input.sk-toggleable__control:checked~div.sk-toggleable__content {max-height: 200px;max-width: 100%;overflow: auto;}#sk-container-id-10 input.sk-toggleable__control:checked~label.sk-toggleable__label-arrow:before {content: \"▾\";}#sk-container-id-10 div.sk-estimator input.sk-toggleable__control:checked~label.sk-toggleable__label {background-color: #d4ebff;}#sk-container-id-10 div.sk-label input.sk-toggleable__control:checked~label.sk-toggleable__label {background-color: #d4ebff;}#sk-container-id-10 input.sk-hidden--visually {border: 0;clip: rect(1px 1px 1px 1px);clip: rect(1px, 1px, 1px, 1px);height: 1px;margin: -1px;overflow: hidden;padding: 0;position: absolute;width: 1px;}#sk-container-id-10 div.sk-estimator {font-family: monospace;background-color: #f0f8ff;border: 1px dotted black;border-radius: 0.25em;box-sizing: border-box;margin-bottom: 0.5em;}#sk-container-id-10 div.sk-estimator:hover {background-color: #d4ebff;}#sk-container-id-10 div.sk-parallel-item::after {content: \"\";width: 100%;border-bottom: 1px solid gray;flex-grow: 1;}#sk-container-id-10 div.sk-label:hover label.sk-toggleable__label {background-color: #d4ebff;}#sk-container-id-10 div.sk-serial::before {content: \"\";position: absolute;border-left: 1px solid gray;box-sizing: border-box;top: 0;bottom: 0;left: 50%;z-index: 0;}#sk-container-id-10 div.sk-serial {display: flex;flex-direction: column;align-items: center;background-color: white;padding-right: 0.2em;padding-left: 0.2em;position: relative;}#sk-container-id-10 div.sk-item {position: relative;z-index: 1;}#sk-container-id-10 div.sk-parallel {display: flex;align-items: stretch;justify-content: center;background-color: white;position: relative;}#sk-container-id-10 div.sk-item::before, #sk-container-id-10 div.sk-parallel-item::before {content: \"\";position: absolute;border-left: 1px solid gray;box-sizing: border-box;top: 0;bottom: 0;left: 50%;z-index: -1;}#sk-container-id-10 div.sk-parallel-item {display: flex;flex-direction: column;z-index: 1;position: relative;background-color: white;}#sk-container-id-10 div.sk-parallel-item:first-child::after {align-self: flex-end;width: 50%;}#sk-container-id-10 div.sk-parallel-item:last-child::after {align-self: flex-start;width: 50%;}#sk-container-id-10 div.sk-parallel-item:only-child::after {width: 0;}#sk-container-id-10 div.sk-dashed-wrapped {border: 1px dashed gray;margin: 0 0.4em 0.5em 0.4em;box-sizing: border-box;padding-bottom: 0.4em;background-color: white;}#sk-container-id-10 div.sk-label label {font-family: monospace;font-weight: bold;display: inline-block;line-height: 1.2em;}#sk-container-id-10 div.sk-label-container {text-align: center;}#sk-container-id-10 div.sk-container {/* jupyter's `normalize.less` sets `[hidden] { display: none; }` but bootstrap.min.css set `[hidden] { display: none !important; }` so we also need the `!important` here to be able to override the default hidden behavior on the sphinx rendered scikit-learn.org. See: https://github.com/scikit-learn/scikit-learn/issues/21755 */display: inline-block !important;position: relative;}#sk-container-id-10 div.sk-text-repr-fallback {display: none;}</style><div id=\"sk-container-id-10\" class=\"sk-top-container\"><div class=\"sk-text-repr-fallback\"><pre>LinearRegression()</pre><b>In a Jupyter environment, please rerun this cell to show the HTML representation or trust the notebook. <br />On GitHub, the HTML representation is unable to render, please try loading this page with nbviewer.org.</b></div><div class=\"sk-container\" hidden><div class=\"sk-item\"><div class=\"sk-estimator sk-toggleable\"><input class=\"sk-toggleable__control sk-hidden--visually\" id=\"sk-estimator-id-14\" type=\"checkbox\" checked><label for=\"sk-estimator-id-14\" class=\"sk-toggleable__label sk-toggleable__label-arrow\">LinearRegression</label><div class=\"sk-toggleable__content\"><pre>LinearRegression()</pre></div></div></div></div></div>"
      ],
      "text/plain": [
       "LinearRegression()"
      ]
     },
     "execution_count": 28,
     "metadata": {},
     "output_type": "execute_result"
    },
    {
     "data": {
      "text/html": [
       "<style>#sk-container-id-11 {color: black;background-color: white;}#sk-container-id-11 pre{padding: 0;}#sk-container-id-11 div.sk-toggleable {background-color: white;}#sk-container-id-11 label.sk-toggleable__label {cursor: pointer;display: block;width: 100%;margin-bottom: 0;padding: 0.3em;box-sizing: border-box;text-align: center;}#sk-container-id-11 label.sk-toggleable__label-arrow:before {content: \"▸\";float: left;margin-right: 0.25em;color: #696969;}#sk-container-id-11 label.sk-toggleable__label-arrow:hover:before {color: black;}#sk-container-id-11 div.sk-estimator:hover label.sk-toggleable__label-arrow:before {color: black;}#sk-container-id-11 div.sk-toggleable__content {max-height: 0;max-width: 0;overflow: hidden;text-align: left;background-color: #f0f8ff;}#sk-container-id-11 div.sk-toggleable__content pre {margin: 0.2em;color: black;border-radius: 0.25em;background-color: #f0f8ff;}#sk-container-id-11 input.sk-toggleable__control:checked~div.sk-toggleable__content {max-height: 200px;max-width: 100%;overflow: auto;}#sk-container-id-11 input.sk-toggleable__control:checked~label.sk-toggleable__label-arrow:before {content: \"▾\";}#sk-container-id-11 div.sk-estimator input.sk-toggleable__control:checked~label.sk-toggleable__label {background-color: #d4ebff;}#sk-container-id-11 div.sk-label input.sk-toggleable__control:checked~label.sk-toggleable__label {background-color: #d4ebff;}#sk-container-id-11 input.sk-hidden--visually {border: 0;clip: rect(1px 1px 1px 1px);clip: rect(1px, 1px, 1px, 1px);height: 1px;margin: -1px;overflow: hidden;padding: 0;position: absolute;width: 1px;}#sk-container-id-11 div.sk-estimator {font-family: monospace;background-color: #f0f8ff;border: 1px dotted black;border-radius: 0.25em;box-sizing: border-box;margin-bottom: 0.5em;}#sk-container-id-11 div.sk-estimator:hover {background-color: #d4ebff;}#sk-container-id-11 div.sk-parallel-item::after {content: \"\";width: 100%;border-bottom: 1px solid gray;flex-grow: 1;}#sk-container-id-11 div.sk-label:hover label.sk-toggleable__label {background-color: #d4ebff;}#sk-container-id-11 div.sk-serial::before {content: \"\";position: absolute;border-left: 1px solid gray;box-sizing: border-box;top: 0;bottom: 0;left: 50%;z-index: 0;}#sk-container-id-11 div.sk-serial {display: flex;flex-direction: column;align-items: center;background-color: white;padding-right: 0.2em;padding-left: 0.2em;position: relative;}#sk-container-id-11 div.sk-item {position: relative;z-index: 1;}#sk-container-id-11 div.sk-parallel {display: flex;align-items: stretch;justify-content: center;background-color: white;position: relative;}#sk-container-id-11 div.sk-item::before, #sk-container-id-11 div.sk-parallel-item::before {content: \"\";position: absolute;border-left: 1px solid gray;box-sizing: border-box;top: 0;bottom: 0;left: 50%;z-index: -1;}#sk-container-id-11 div.sk-parallel-item {display: flex;flex-direction: column;z-index: 1;position: relative;background-color: white;}#sk-container-id-11 div.sk-parallel-item:first-child::after {align-self: flex-end;width: 50%;}#sk-container-id-11 div.sk-parallel-item:last-child::after {align-self: flex-start;width: 50%;}#sk-container-id-11 div.sk-parallel-item:only-child::after {width: 0;}#sk-container-id-11 div.sk-dashed-wrapped {border: 1px dashed gray;margin: 0 0.4em 0.5em 0.4em;box-sizing: border-box;padding-bottom: 0.4em;background-color: white;}#sk-container-id-11 div.sk-label label {font-family: monospace;font-weight: bold;display: inline-block;line-height: 1.2em;}#sk-container-id-11 div.sk-label-container {text-align: center;}#sk-container-id-11 div.sk-container {/* jupyter's `normalize.less` sets `[hidden] { display: none; }` but bootstrap.min.css set `[hidden] { display: none !important; }` so we also need the `!important` here to be able to override the default hidden behavior on the sphinx rendered scikit-learn.org. See: https://github.com/scikit-learn/scikit-learn/issues/21755 */display: inline-block !important;position: relative;}#sk-container-id-11 div.sk-text-repr-fallback {display: none;}</style><div id=\"sk-container-id-11\" class=\"sk-top-container\"><div class=\"sk-text-repr-fallback\"><pre>Lasso(alpha=0.0006033963203196644, max_iter=4000)</pre><b>In a Jupyter environment, please rerun this cell to show the HTML representation or trust the notebook. <br />On GitHub, the HTML representation is unable to render, please try loading this page with nbviewer.org.</b></div><div class=\"sk-container\" hidden><div class=\"sk-item\"><div class=\"sk-estimator sk-toggleable\"><input class=\"sk-toggleable__control sk-hidden--visually\" id=\"sk-estimator-id-15\" type=\"checkbox\" checked><label for=\"sk-estimator-id-15\" class=\"sk-toggleable__label sk-toggleable__label-arrow\">Lasso</label><div class=\"sk-toggleable__content\"><pre>Lasso(alpha=0.0006033963203196644, max_iter=4000)</pre></div></div></div></div></div>"
      ],
      "text/plain": [
       "Lasso(alpha=0.0006033963203196644, max_iter=4000)"
      ]
     },
     "execution_count": 28,
     "metadata": {},
     "output_type": "execute_result"
    },
    {
     "data": {
      "text/html": [
       "<style>#sk-container-id-12 {color: black;background-color: white;}#sk-container-id-12 pre{padding: 0;}#sk-container-id-12 div.sk-toggleable {background-color: white;}#sk-container-id-12 label.sk-toggleable__label {cursor: pointer;display: block;width: 100%;margin-bottom: 0;padding: 0.3em;box-sizing: border-box;text-align: center;}#sk-container-id-12 label.sk-toggleable__label-arrow:before {content: \"▸\";float: left;margin-right: 0.25em;color: #696969;}#sk-container-id-12 label.sk-toggleable__label-arrow:hover:before {color: black;}#sk-container-id-12 div.sk-estimator:hover label.sk-toggleable__label-arrow:before {color: black;}#sk-container-id-12 div.sk-toggleable__content {max-height: 0;max-width: 0;overflow: hidden;text-align: left;background-color: #f0f8ff;}#sk-container-id-12 div.sk-toggleable__content pre {margin: 0.2em;color: black;border-radius: 0.25em;background-color: #f0f8ff;}#sk-container-id-12 input.sk-toggleable__control:checked~div.sk-toggleable__content {max-height: 200px;max-width: 100%;overflow: auto;}#sk-container-id-12 input.sk-toggleable__control:checked~label.sk-toggleable__label-arrow:before {content: \"▾\";}#sk-container-id-12 div.sk-estimator input.sk-toggleable__control:checked~label.sk-toggleable__label {background-color: #d4ebff;}#sk-container-id-12 div.sk-label input.sk-toggleable__control:checked~label.sk-toggleable__label {background-color: #d4ebff;}#sk-container-id-12 input.sk-hidden--visually {border: 0;clip: rect(1px 1px 1px 1px);clip: rect(1px, 1px, 1px, 1px);height: 1px;margin: -1px;overflow: hidden;padding: 0;position: absolute;width: 1px;}#sk-container-id-12 div.sk-estimator {font-family: monospace;background-color: #f0f8ff;border: 1px dotted black;border-radius: 0.25em;box-sizing: border-box;margin-bottom: 0.5em;}#sk-container-id-12 div.sk-estimator:hover {background-color: #d4ebff;}#sk-container-id-12 div.sk-parallel-item::after {content: \"\";width: 100%;border-bottom: 1px solid gray;flex-grow: 1;}#sk-container-id-12 div.sk-label:hover label.sk-toggleable__label {background-color: #d4ebff;}#sk-container-id-12 div.sk-serial::before {content: \"\";position: absolute;border-left: 1px solid gray;box-sizing: border-box;top: 0;bottom: 0;left: 50%;z-index: 0;}#sk-container-id-12 div.sk-serial {display: flex;flex-direction: column;align-items: center;background-color: white;padding-right: 0.2em;padding-left: 0.2em;position: relative;}#sk-container-id-12 div.sk-item {position: relative;z-index: 1;}#sk-container-id-12 div.sk-parallel {display: flex;align-items: stretch;justify-content: center;background-color: white;position: relative;}#sk-container-id-12 div.sk-item::before, #sk-container-id-12 div.sk-parallel-item::before {content: \"\";position: absolute;border-left: 1px solid gray;box-sizing: border-box;top: 0;bottom: 0;left: 50%;z-index: -1;}#sk-container-id-12 div.sk-parallel-item {display: flex;flex-direction: column;z-index: 1;position: relative;background-color: white;}#sk-container-id-12 div.sk-parallel-item:first-child::after {align-self: flex-end;width: 50%;}#sk-container-id-12 div.sk-parallel-item:last-child::after {align-self: flex-start;width: 50%;}#sk-container-id-12 div.sk-parallel-item:only-child::after {width: 0;}#sk-container-id-12 div.sk-dashed-wrapped {border: 1px dashed gray;margin: 0 0.4em 0.5em 0.4em;box-sizing: border-box;padding-bottom: 0.4em;background-color: white;}#sk-container-id-12 div.sk-label label {font-family: monospace;font-weight: bold;display: inline-block;line-height: 1.2em;}#sk-container-id-12 div.sk-label-container {text-align: center;}#sk-container-id-12 div.sk-container {/* jupyter's `normalize.less` sets `[hidden] { display: none; }` but bootstrap.min.css set `[hidden] { display: none !important; }` so we also need the `!important` here to be able to override the default hidden behavior on the sphinx rendered scikit-learn.org. See: https://github.com/scikit-learn/scikit-learn/issues/21755 */display: inline-block !important;position: relative;}#sk-container-id-12 div.sk-text-repr-fallback {display: none;}</style><div id=\"sk-container-id-12\" class=\"sk-top-container\"><div class=\"sk-text-repr-fallback\"><pre>MLPRegressor(early_stopping=True, hidden_layer_sizes=10, learning_rate_init=0.1,\n",
       "             max_iter=10000)</pre><b>In a Jupyter environment, please rerun this cell to show the HTML representation or trust the notebook. <br />On GitHub, the HTML representation is unable to render, please try loading this page with nbviewer.org.</b></div><div class=\"sk-container\" hidden><div class=\"sk-item\"><div class=\"sk-estimator sk-toggleable\"><input class=\"sk-toggleable__control sk-hidden--visually\" id=\"sk-estimator-id-16\" type=\"checkbox\" checked><label for=\"sk-estimator-id-16\" class=\"sk-toggleable__label sk-toggleable__label-arrow\">MLPRegressor</label><div class=\"sk-toggleable__content\"><pre>MLPRegressor(early_stopping=True, hidden_layer_sizes=10, learning_rate_init=0.1,\n",
       "             max_iter=10000)</pre></div></div></div></div></div>"
      ],
      "text/plain": [
       "MLPRegressor(early_stopping=True, hidden_layer_sizes=10, learning_rate_init=0.1,\n",
       "             max_iter=10000)"
      ]
     },
     "execution_count": 28,
     "metadata": {},
     "output_type": "execute_result"
    }
   ],
   "source": [
    "#2.6 Final Models\n",
    "#Using the full training set (training + validation), train two linear regression models, one with and without \n",
    "#PCA preprocessing, then apply them to the test set. For LASSO and MLP, you can utilize the best models found \n",
    "#during cross-validation and just apply them to the test set.\n",
    "\n",
    "Final_CRIME_mergeDataSet = pd.concat([CRIME_train_set,CRIME_valid_set])\n",
    "Final_X_CRIME_mergeDataSet = CRIME_mergeDataSet.drop('ViolentCrimesPerPop',axis=1)\n",
    "Final_Y_CRIME_mergeDataSet = CRIME_mergeDataSet['ViolentCrimesPerPop']\n",
    "\n",
    "Final_X_CRIME_test_set = CRIME_test_set.drop('ViolentCrimesPerPop',axis=1)\n",
    "Final_Y_CRIME_test_set = CRIME_test_set['ViolentCrimesPerPop']\n",
    "\n",
    "Final_reg = LinearRegression()\n",
    "Final_PCA_reg = LinearRegression()\n",
    "\n",
    "pca_final = PCA(n_components=69)\n",
    "pca_final.fit(Final_X_CRIME_mergeDataSet)\n",
    "pca_final_X_CRIME_set = pca_2.transform(Final_X_CRIME_mergeDataSet)\n",
    "\n",
    "#Final_reg\n",
    "Final_reg.fit(Final_X_CRIME_mergeDataSet,Final_Y_CRIME_mergeDataSet)\n",
    "Y_pred_test = Final_reg.predict(Final_X_CRIME_test_set)\n",
    "\n",
    "#Final_PCA_reg\n",
    "Final_PCA_reg.fit(pca_final_X_CRIME_set,Final_Y_CRIME_mergeDataSet)\n",
    "Y_pred_PCA_test = Final_reg.predict(Final_X_CRIME_test_set)\n",
    "\n",
    "#LASSO\n",
    "Final_LASSO = Lasso(alpha=0.0006033963203196644,max_iter=4000)\n",
    "Final_LASSO.fit(Final_X_CRIME_mergeDataSet,Final_Y_CRIME_mergeDataSet)\n",
    "LASSO_Y_pred_test = Final_LASSO.predict(Final_X_CRIME_test_set) \n",
    "\n",
    "#MLP\n",
    "Final_MLP = MLPRegressor(max_iter=10000,early_stopping=True,hidden_layer_sizes=(10),learning_rate_init=0.1)\n",
    "Final_MLP.fit(Final_X_CRIME_mergeDataSet.values,Final_Y_CRIME_mergeDataSet.values) \n",
    "MLP_Y_pred_test = Final_MLP.predict(Final_X_CRIME_test_set.values) \n"
   ]
  },
  {
   "cell_type": "code",
   "execution_count": 29,
   "id": "41ddb2a8",
   "metadata": {},
   "outputs": [
    {
     "data": {
      "text/plain": [
       "[<matplotlib.axis.XTick at 0x29f4ddb4fa0>,\n",
       " <matplotlib.axis.XTick at 0x29f4ddb41c0>,\n",
       " <matplotlib.axis.XTick at 0x29f4dd4bfd0>]"
      ]
     },
     "execution_count": 29,
     "metadata": {},
     "output_type": "execute_result"
    },
    {
     "data": {
      "text/plain": [
       "Text(0, 0.5, 'Scores')"
      ]
     },
     "execution_count": 29,
     "metadata": {},
     "output_type": "execute_result"
    },
    {
     "data": {
      "text/plain": [
       "[Text(0, 3, '0.0194829'), Text(0, 3, '0.0987366'), Text(0, 3, '0.646296')]"
      ]
     },
     "execution_count": 29,
     "metadata": {},
     "output_type": "execute_result"
    },
    {
     "data": {
      "text/plain": [
       "[Text(0, 3, '0.0194829'), Text(0, 3, '0.0987366'), Text(0, 3, '0.646296')]"
      ]
     },
     "execution_count": 29,
     "metadata": {},
     "output_type": "execute_result"
    },
    {
     "data": {
      "text/plain": [
       "[Text(0, 3, '0.0189621'), Text(0, 3, '0.0955226'), Text(0, 3, '0.655751')]"
      ]
     },
     "execution_count": 29,
     "metadata": {},
     "output_type": "execute_result"
    },
    {
     "data": {
      "text/plain": [
       "[Text(0, 3, '0.0583094'), Text(0, 3, '0.199271'), Text(0, -3, '-0.0585829')]"
      ]
     },
     "execution_count": 29,
     "metadata": {},
     "output_type": "execute_result"
    },
    {
     "data": {
      "text/plain": [
       "<matplotlib.legend.Legend at 0x29f4de47400>"
      ]
     },
     "execution_count": 29,
     "metadata": {},
     "output_type": "execute_result"
    },
    {
     "data": {
      "image/png": "[encoded data removed]",
      "text/plain": [
       "<Figure size 1200x600 with 1 Axes>"
      ]
     },
     "metadata": {},
     "output_type": "display_data"
    }
   ],
   "source": [
    "#Create a bar chart of the three regression metrics for each model on the same plot.\n",
    "labels = ['mse', 'mae', 'r2']\n",
    "fig, ax = plt.subplots()\n",
    "fig.autofmt_xdate()\n",
    "w = 0.1\n",
    "ax = plt.subplot(111)\n",
    "\n",
    "#reg model \n",
    "x,y = zip(*p2_metrics(Final_Y_CRIME_test_set,Y_pred_test).items())\n",
    "ind = np.arange(len(x))\n",
    "#ax.set_xticklabels(x,fontdict ={'fontsize':8})\n",
    "\n",
    "#reg(PCA) \n",
    "Sx,Sy = zip(*p2_metrics(Final_Y_CRIME_test_set,Y_pred_PCA_test).items())\n",
    "\n",
    "#LASSO\n",
    "Lx,Ly = zip(*p2_metrics(Final_Y_CRIME_test_set,LASSO_Y_pred_test).items())\n",
    "\n",
    "#MLP\n",
    "Mx,My = zip(*p2_metrics(Final_Y_CRIME_test_set,MLP_Y_pred_test).items())\n",
    "\n",
    "regbar = ax.bar(ind -w, y, width=w, align='center' ,label='regression')\n",
    "regPCA_bar = ax.bar(ind , Sy, width=w, align='center' ,label='regression(PCA)')\n",
    "LASSObar = ax.bar(ind +w , Ly, width=w, align='center',label='LASSO')\n",
    "MLPbar = ax.bar(ind +2*w , My, width=w, align='center' ,label='MLPbar')\n",
    "\n",
    "ax.set_xticks(ind, labels)\n",
    "ax.set_ylabel('Scores')\n",
    "\n",
    "ax.bar_label(regbar, padding=3,rotation = 90)\n",
    "ax.bar_label(regPCA_bar, padding=3,rotation = 90)\n",
    "ax.bar_label(LASSObar, padding=3,rotation = 90)\n",
    "ax.bar_label(MLPbar, padding=3,rotation = 90)\n",
    "ax.legend(loc='center left', bbox_to_anchor=(1, 0.5))\n",
    "\n",
    "plt.show()"
   ]
  },
  {
   "cell_type": "raw",
   "id": "bd0cada5",
   "metadata": {},
   "source": [
    "How do the models's performances compare? What do the metrics reveal about the dataset?"
   ]
  }
 ],
 "metadata": {
  "kernelspec": {
   "display_name": "Python 3 (ipykernel)",
   "language": "python",
   "name": "python3"
  },
  "language_info": {
   "codemirror_mode": {
    "name": "ipython",
    "version": 3
   },
   "file_extension": ".py",
   "mimetype": "text/x-python",
   "name": "python",
   "nbconvert_exporter": "python",
   "pygments_lexer": "ipython3",
   "version": "3.9.6"
  }
 },
 "nbformat": 4,
 "nbformat_minor": 5
}
